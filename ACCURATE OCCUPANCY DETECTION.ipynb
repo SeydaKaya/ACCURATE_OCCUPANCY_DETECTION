{
 "cells": [
  {
   "cell_type": "markdown",
   "metadata": {
    "scrolled": false
   },
   "source": [
    "#                          CENG 489E – Data Mining\n",
    "\n",
    "#                                Fall 2018-2019\n",
    "\n",
    "#                                     Project_1\n",
    "\n",
    "# 141180075 \n",
    "\n",
    "# ŞEYDA KAYA\n"
   ]
  },
  {
   "cell_type": "raw",
   "metadata": {},
   "source": [
    "Yapmış olduğumuz bu ödev raporunda, bir oﬁs odasında bulunan sensörlerden alınan veriler ile birinin odada olup olmadığını bulmak üzere uygulanan makine öğrenmesi algoritmalarından ve bu sürecin işleyişinden bahsedilmiştir. İlk olarak gerekli kütüphanelerimizi import edip, veri setlerimizi yükleyerek bize hali hazırda train-test-test2 olarak bölünmüş bir şekilde verilen veri setlerimizi daha da anlamlandırmak için girdi ve çıktı dataframelerine ayırarak üzerinde ölçeklendirme ve görselleştirme işlemleri yapılmış ve yeni bir feature eklenmiştir. Sonrasında birçok classifier machine learning algoritmaları\n",
    "uygulanarak modelimizdeki gelişmeler gözlenmiştir. Bu ödevi yaparken kendime kaynak olarak UMUT DEMİREZEN hocamızın göndermiş olduğu makalelerden yararlandım. Buna ek olarak farklı makale taramaları da yaparak \"Veri Madenciliğinde Sınıflandırma Algoritmalarının Bir Örnek Üzerinde Karşılaştırılması\" (https://ab.org.tr/ab11/kitap/coskun_baykal_AB11.pdf) ve \"VERİ MADENCİLİĞİNDE CART VE LOJİSTİK REGRESYON ANALİZİNİN YERİ: İLAÇ PROVİZYON SİSTEMİ VERİLERİ ÜZERİNDE ÖRNEK BİR UYGULAMA\" (http://dergipark.gov.tr/download/article-file/152170) makalelerinden de faydalandım."
   ]
  },
  {
   "cell_type": "code",
   "execution_count": 3,
   "metadata": {},
   "outputs": [],
   "source": [
    "#KÜTÜPHANELERİ İMPORT ETME\n",
    "import pandas as pd\n",
    "import numpy as np\n",
    "import matplotlib.pyplot as plt\n",
    "import itertools\n",
    "from sklearn.metrics import accuracy_score \n",
    "from pandas.plotting import scatter_matrix\n",
    "import seaborn as sns\n",
    "from sklearn import metrics\n",
    "from sklearn.naive_bayes import GaussianNB\n",
    "from sklearn import preprocessing\n",
    "from sklearn.neighbors import KNeighborsClassifier\n",
    "from sklearn.tree import DecisionTreeClassifier\n",
    "from sklearn.metrics import classification_report, confusion_matrix \n",
    "from sklearn.discriminant_analysis import QuadraticDiscriminantAnalysis\n",
    "from sklearn.ensemble import RandomForestClassifier\n",
    "from sklearn.ensemble import GradientBoostingClassifier\n",
    "from sklearn.preprocessing import StandardScaler\n",
    "from sklearn.linear_model import LogisticRegression\n",
    "from sklearn.tree import DecisionTreeRegressor\n",
    "from sklearn.linear_model import LinearRegression\n",
    "from sklearn.svm import SVC\n",
    "import time"
   ]
  },
  {
   "cell_type": "markdown",
   "metadata": {},
   "source": [
    "# VERİ SETLERİNİ YÜKLEME VE DATAFRAMELERE AYIRMA"
   ]
  },
  {
   "cell_type": "code",
   "execution_count": 4,
   "metadata": {},
   "outputs": [
    {
     "name": "stdout",
     "output_type": "stream",
     "text": [
      "<class 'pandas.core.frame.DataFrame'>\n",
      "Int64Index: 8143 entries, 1 to 8143\n",
      "Data columns (total 7 columns):\n",
      "date             8143 non-null int64\n",
      "Temperature      8143 non-null float64\n",
      "Humidity         8143 non-null float64\n",
      "Light            8143 non-null float64\n",
      "CO2              8143 non-null float64\n",
      "HumidityRatio    8143 non-null float64\n",
      "Occupancy        8143 non-null int64\n",
      "dtypes: float64(5), int64(2)\n",
      "memory usage: 508.9 KB\n",
      "              date  Temperature   Humidity  Light         CO2  HumidtyRatio\n",
      "0     1.423072e+18    23.180000  27.272000  426.0  721.250000      0.004793\n",
      "1     1.423072e+18    23.150000  27.267500  429.5  714.000000      0.004783\n",
      "2     1.423072e+18    23.150000  27.245000  426.0  713.500000      0.004779\n",
      "3     1.423072e+18    23.150000  27.200000  426.0  708.250000      0.004772\n",
      "4     1.423072e+18    23.100000  27.200000  426.0  704.500000      0.004757\n",
      "5     1.423073e+18    23.100000  27.200000  419.0  701.000000      0.004757\n",
      "6     1.423073e+18    23.100000  27.200000  419.0  701.666667      0.004757\n",
      "7     1.423073e+18    23.100000  27.200000  419.0  699.000000      0.004757\n",
      "8     1.423073e+18    23.100000  27.200000  419.0  689.333333      0.004757\n",
      "9     1.423073e+18    23.075000  27.175000  419.0  688.000000      0.004745\n",
      "10    1.423073e+18    23.075000  27.150000  419.0  690.250000      0.004741\n",
      "11    1.423073e+18    23.100000  27.100000  419.0  691.000000      0.004739\n",
      "12    1.423073e+18    23.100000  27.166667  419.0  683.500000      0.004751\n",
      "13    1.423073e+18    23.050000  27.150000  419.0  687.500000      0.004734\n",
      "14    1.423073e+18    23.000000  27.125000  419.0  686.000000      0.004715\n",
      "15    1.423073e+18    23.000000  27.125000  418.5  680.500000      0.004715\n",
      "16    1.423073e+18    23.000000  27.200000    0.0  681.500000      0.004728\n",
      "17    1.423073e+18    22.945000  27.290000    0.0  685.000000      0.004728\n",
      "18    1.423073e+18    22.945000  27.390000    0.0  685.000000      0.004745\n",
      "19    1.423073e+18    22.890000  27.390000    0.0  689.000000      0.004730\n",
      "20    1.423073e+18    22.890000  27.390000    0.0  689.500000      0.004730\n",
      "21    1.423074e+18    22.890000  27.390000    0.0  689.000000      0.004730\n",
      "22    1.423074e+18    22.890000  27.445000    0.0  691.000000      0.004739\n",
      "23    1.423074e+18    22.890000  27.500000    0.0  688.000000      0.004749\n",
      "24    1.423074e+18    22.890000  27.500000    0.0  689.500000      0.004749\n",
      "25    1.423074e+18    22.790000  27.445000    0.0  689.000000      0.004710\n",
      "26    1.423074e+18    22.790000  27.500000    0.0  685.666667      0.004720\n",
      "27    1.423074e+18    22.790000  27.500000    0.0  687.000000      0.004720\n",
      "28    1.423074e+18    22.790000  27.500000    0.0  688.000000      0.004720\n",
      "29    1.423074e+18    22.745000  27.500000    0.0  670.000000      0.004707\n",
      "...            ...          ...        ...    ...         ...           ...\n",
      "8113  1.423559e+18    20.700000  34.417500  419.0  568.750000      0.005203\n",
      "8114  1.423559e+18    20.700000  34.090000  419.0  556.666667      0.005153\n",
      "8115  1.423559e+18    20.700000  34.296667  419.0  548.000000      0.005184\n",
      "8116  1.423559e+18    20.730000  34.466667  419.0  563.333333      0.005220\n",
      "8117  1.423559e+18    20.745000  34.567500  426.0  593.750000      0.005240\n",
      "8118  1.423559e+18    20.767500  34.717500  422.5  600.750000      0.005270\n",
      "8119  1.423559e+18    20.790000  35.090000  426.0  623.000000      0.005335\n",
      "8120  1.423559e+18    20.790000  34.972500  433.0  631.000000      0.005317\n",
      "8121  1.423560e+18    20.790000  34.826667  433.0  636.000000      0.005295\n",
      "8122  1.423560e+18    20.840000  35.195000  433.0  636.750000      0.005368\n",
      "8123  1.423560e+18    20.890000  35.300000  433.0  663.000000      0.005401\n",
      "8124  1.423560e+18    20.856667  35.096667  433.0  665.333333      0.005358\n",
      "8125  1.423560e+18    20.890000  35.320000  433.0  669.500000      0.005404\n",
      "8126  1.423560e+18    20.917500  35.475000  433.0  679.250000      0.005437\n",
      "8127  1.423560e+18    20.890000  35.400000  433.0  684.666667      0.005416\n",
      "8128  1.423560e+18    20.917500  35.717500  433.0  706.250000      0.005474\n",
      "8129  1.423560e+18    20.958750  35.683750  433.0  712.625000      0.005483\n",
      "8130  1.423560e+18    21.000000  35.650000  433.0  719.000000      0.005492\n",
      "8131  1.423560e+18    21.000000  35.700000  433.0  730.250000      0.005500\n",
      "8132  1.423560e+18    21.000000  35.760000  433.0  739.000000      0.005509\n",
      "8133  1.423560e+18    21.000000  35.850000  433.0  756.250000      0.005523\n",
      "8134  1.423560e+18    21.000000  35.700000  433.0  761.000000      0.005500\n",
      "8135  1.423560e+18    21.025000  35.950000  433.0  763.000000      0.005547\n",
      "8136  1.423560e+18    21.000000  35.860000  433.0  771.333333      0.005525\n",
      "8137  1.423560e+18    21.050000  36.050000  433.0  780.250000      0.005571\n",
      "8138  1.423561e+18    21.050000  36.097500  433.0  787.250000      0.005579\n",
      "8139  1.423561e+18    21.050000  35.995000  433.0  789.500000      0.005563\n",
      "8140  1.423561e+18    21.100000  36.095000  433.0  798.500000      0.005596\n",
      "8141  1.423561e+18    21.100000  36.260000  433.0  820.333333      0.005621\n",
      "8142  1.423561e+18    21.100000  36.200000  447.0  821.000000      0.005612\n",
      "\n",
      "[8143 rows x 6 columns]\n",
      "      Occupancy\n",
      "0             1\n",
      "1             1\n",
      "2             1\n",
      "3             1\n",
      "4             1\n",
      "5             1\n",
      "6             1\n",
      "7             1\n",
      "8             1\n",
      "9             1\n",
      "10            1\n",
      "11            1\n",
      "12            1\n",
      "13            1\n",
      "14            1\n",
      "15            1\n",
      "16            0\n",
      "17            0\n",
      "18            0\n",
      "19            0\n",
      "20            0\n",
      "21            0\n",
      "22            0\n",
      "23            0\n",
      "24            0\n",
      "25            0\n",
      "26            0\n",
      "27            0\n",
      "28            0\n",
      "29            0\n",
      "...         ...\n",
      "8113          1\n",
      "8114          1\n",
      "8115          1\n",
      "8116          1\n",
      "8117          1\n",
      "8118          1\n",
      "8119          1\n",
      "8120          1\n",
      "8121          1\n",
      "8122          1\n",
      "8123          1\n",
      "8124          1\n",
      "8125          1\n",
      "8126          1\n",
      "8127          1\n",
      "8128          1\n",
      "8129          1\n",
      "8130          1\n",
      "8131          1\n",
      "8132          1\n",
      "8133          1\n",
      "8134          1\n",
      "8135          1\n",
      "8136          1\n",
      "8137          1\n",
      "8138          1\n",
      "8139          1\n",
      "8140          1\n",
      "8141          1\n",
      "8142          1\n",
      "\n",
      "[8143 rows x 1 columns]\n",
      "<class 'pandas.core.frame.DataFrame'>\n",
      "Int64Index: 2665 entries, 140 to 2804\n",
      "Data columns (total 7 columns):\n",
      "date             2665 non-null int64\n",
      "Temperature      2665 non-null float64\n",
      "Humidity         2665 non-null float64\n",
      "Light            2665 non-null float64\n",
      "CO2              2665 non-null float64\n",
      "HumidityRatio    2665 non-null float64\n",
      "Occupancy        2665 non-null int64\n",
      "dtypes: float64(5), int64(2)\n",
      "memory usage: 166.6 KB\n",
      "<class 'pandas.core.frame.DataFrame'>\n",
      "Int64Index: 9752 entries, 1 to 9752\n",
      "Data columns (total 7 columns):\n",
      "date             9752 non-null int64\n",
      "Temperature      9752 non-null float64\n",
      "Humidity         9752 non-null float64\n",
      "Light            9752 non-null float64\n",
      "CO2              9752 non-null float64\n",
      "HumidityRatio    9752 non-null float64\n",
      "Occupancy        9752 non-null int64\n",
      "dtypes: float64(5), int64(2)\n",
      "memory usage: 609.5 KB\n"
     ]
    }
   ],
   "source": [
    "#EĞİTİM SETİNİ YÜKLEME\n",
    "TrainSet=pd.read_csv('datatraining.txt')\n",
    "\n",
    "#STRING TO DATE, DATE TO İNT İŞLEMİ\n",
    "TrainSet['date'] = pd.to_datetime(TrainSet['date'], format='%Y-%m-%d %H:%M:%S')\n",
    "TrainSet['date'] = TrainSet['date'].astype('int64')\n",
    "TrainSet.info()\n",
    "\n",
    "#TRAIN SETİNİ DATAFRAMELERE AYIRMA\n",
    "x_train=TrainSet.iloc[:,0:6].values\n",
    "x_train=pd.DataFrame(data=x_train,index=range(8143),columns=['date','Temperature','Humidity','Light','CO2','HumidtyRatio'])\n",
    "print(x_train)\n",
    "\n",
    "y_train=TrainSet.iloc[:,-1].values\n",
    "y_train=pd.DataFrame(data=y_train,index=range(8143),columns=['Occupancy'])\n",
    "print(y_train)\n",
    "\n",
    "#TEST1 SETİNİ YÜKLEME\n",
    "TestSet=pd.read_csv('datatest.txt')\n",
    "\n",
    "TestSet['date'] =pd.to_datetime(TestSet['date'])\n",
    "TestSet['date'] = TestSet['date'].astype('int64')\n",
    "TestSet.info()\n",
    "\n",
    "#TEST1 SETİNİ DATAFRAMELERE AYIRMA\n",
    "x_test=TestSet.iloc[:,0:6].values\n",
    "x_test=pd.DataFrame(data=x_test,index=range(2665),columns=['date','Temperature','Humidity','Light','CO2','HumidtyRatio'])\n",
    "\n",
    "y_test=TestSet.iloc[:,-1].values\n",
    "y_test=pd.DataFrame(data=y_test,index=range(2665),columns=['Occupancy'])\n",
    "\n",
    "#TEST2 SETİNİ YÜKLEME\n",
    "TestSet_2=pd.read_csv('datatest2.txt')\n",
    "\n",
    "TestSet_2['date'] =pd.to_datetime(TestSet_2['date'])\n",
    "TestSet_2['date'] = TestSet_2['date'].astype('int64')\n",
    "TestSet_2.info()\n",
    "\n",
    "#TEST2 SETİNİ DATAFRAMELERE AYIRMA\n",
    "x_test2=TestSet_2.iloc[:,0:6].values\n",
    "x_test2=pd.DataFrame(data=x_test2,index=range(9752),columns=['date','Temperature','Humidity','Light','CO2','HumidtyRatio'])\n",
    "\n",
    "y_test2=TestSet_2.iloc[:,-1].values\n",
    "y_test2=pd.DataFrame(data=y_test2,index=range(9752),columns=['Occupancy'])\n"
   ]
  },
  {
   "cell_type": "raw",
   "metadata": {},
   "source": [
    "Sonrasında ise yapmış olduğumuz bu ödevin dersi olan \"veri madenciliğinin\" temeli olan veri önişleme kısmıdır. Veri ön işleme de verimize ölçeklendirme,görselleştirme,tutarsız ve aykırı featurelardan arındırma, featurelar arasında korelasyon grafiklerini gösterip aralarındaki ilişkileri ortaya koyarak veriyi daha anlamlı hale getirmiş oluruz. Kaliteli ve düzgün veri; sadece sonuçların yüksekdoğruluğunu değil,verimadenciliği algoritmalarının performansını da olumlu etkiler."
   ]
  },
  {
   "cell_type": "markdown",
   "metadata": {},
   "source": [
    "# ÖLÇEKLENDİRME"
   ]
  },
  {
   "cell_type": "code",
   "execution_count": 5,
   "metadata": {},
   "outputs": [
    {
     "name": "stdout",
     "output_type": "stream",
     "text": [
      "ÖLÇEKLENMİŞ EĞİTİM SETİM\n",
      "[[-1.73183591  2.51847007  0.27852622  1.57376283  0.36494808  1.09175697]\n",
      " [-1.73141759  2.48896731  0.27771261  1.59173515  0.34188106  1.08055497]\n",
      " [-1.73098509  2.48896731  0.27364453  1.57376283  0.34029023  1.07588816]\n",
      " ...\n",
      " [ 1.73098242  0.47294534  1.87375407  1.60970748  0.61073113  2.03352707]\n",
      " [ 1.73141491  0.47294534  1.90358662  1.60970748  0.68019732  2.063811  ]\n",
      " [ 1.73184032  0.47294534  1.89273842  1.68159679  0.68231843  2.05279837]] \n",
      "\n",
      "ÖLÇEKLENMİŞ TEST SETİM\n",
      "[[-1.73139426  2.20476235  0.37681367  1.56686218  0.10694007  1.20754022]\n",
      " [-1.73011607  2.22227495  0.38420166  1.53968001  0.14521407  1.22146086]\n",
      " [-1.72879456  2.23395002  0.35957501  1.51676171  0.17688126  1.20916118]\n",
      " ...\n",
      " [ 1.72878639  2.81770341  0.14203962  2.4934545   1.39390353  1.33301272]\n",
      " [ 1.73008624  2.84364801  0.14203962  2.47746498  1.38433502  1.34579091]\n",
      " [ 1.73140775  2.89391566  0.13451481  2.41750431  1.38775235  1.36487235]] \n",
      "\n",
      "ÖLÇEKLENMİŞ TEST_2 SETİM\n",
      "[[-1.73187137e+00  7.42897500e-01  3.14074333e-01  1.50936314e+00\n",
      "   9.30527183e-01  8.14063177e-01]\n",
      " [-1.73151615e+00  7.72290797e-01  2.80341614e-01  1.50936314e+00\n",
      "   8.30666611e-01  7.90653359e-01]\n",
      " [-1.73116093e+00  7.50245824e-01  3.11333549e-01  1.49335371e+00\n",
      "   8.43289436e-01  8.15114565e-01]\n",
      " ...\n",
      " [ 1.73115869e+00 -1.09508097e-01 -5.43158393e-01  1.44292400e+00\n",
      "   2.58608082e+00 -6.62877931e-01]\n",
      " [ 1.73151391e+00 -1.09508097e-01 -4.72952171e-01  1.42011056e+00\n",
      "   2.95803340e+00 -5.82518618e-01]\n",
      " [ 1.73187505e+00 -1.73267669e-03 -4.53345028e-01  1.37328297e+00\n",
      "   3.73896552e+00 -5.04835301e-01]]\n"
     ]
    }
   ],
   "source": [
    "#SCALE ETME\n",
    "from sklearn.preprocessing import StandardScaler\n",
    "scaler=StandardScaler()\n",
    "X_train=scaler.fit_transform(x_train)\n",
    "print(\"ÖLÇEKLENMİŞ EĞİTİM SETİM\")\n",
    "print(X_train,\"\\n\")\n",
    "\n",
    "X_test=scaler.fit_transform(x_test)\n",
    "print(\"ÖLÇEKLENMİŞ TEST SETİM\")\n",
    "print(X_test,\"\\n\")\n",
    "\n",
    "X_test2=scaler.fit_transform(x_test2)\n",
    "print(\"ÖLÇEKLENMİŞ TEST_2 SETİM\")\n",
    "print(X_test2)"
   ]
  },
  {
   "cell_type": "raw",
   "metadata": {},
   "source": [
    "Standardizasyon, özelliklerin standart bir normal dağılım özelliklerine sahip olacak şekilde yeniden ölçeklendirilmesidir.\n",
    "Özelliklerin standart sapması 1 ile 0 civarında ortalanacak şekilde standartlaştırılması, farklı birimleri olan ölçümleri karşılaştırdığımızda değil, aynı zamanda birçok makine öğrenme algoritması için genel bir gereklilik olarak da önemlidir."
   ]
  },
  {
   "cell_type": "markdown",
   "metadata": {},
   "source": [
    "# VERİ GÖRSELLEŞTİRME "
   ]
  },
  {
   "cell_type": "raw",
   "metadata": {},
   "source": [
    "Veriyi anlamanın en etkili yollarından biri veri görselleştirmedir. Çeşitli şekillerde görselleştirme yöntemi vardır. Aşağıda da çeşitli şekillerde görselleştirme teknikleri uygulanmıştır.\n"
   ]
  },
  {
   "cell_type": "code",
   "execution_count": 6,
   "metadata": {},
   "outputs": [
    {
     "name": "stdout",
     "output_type": "stream",
     "text": [
      "EĞİTİM SETİMDEKİ FEATURELERİN GÖRSELLEŞTİRİLMESİ\n"
     ]
    },
    {
     "data": {
      "image/png": "[encoded data removed]",
      "text/plain": [
       "<Figure size 432x288 with 9 Axes>"
      ]
     },
     "metadata": {},
     "output_type": "display_data"
    }
   ],
   "source": [
    "#VERİ GÖRSELLEŞTİRME\n",
    "#Density Plots\n",
    "\"\"\"Density Plots, her bir özelliğin dağıtımı hakkında hızlı bir fikir edinmenin başka bir yoludur.\"\"\"\n",
    "TrainSet.plot(kind='density', subplots=True, layout=(3,3), sharex=False)\n",
    "\n",
    "print(\"EĞİTİM SETİMDEKİ FEATURELERİN GÖRSELLEŞTİRİLMESİ\")\n",
    "plt.show()"
   ]
  },
  {
   "cell_type": "code",
   "execution_count": 7,
   "metadata": {},
   "outputs": [
    {
     "name": "stdout",
     "output_type": "stream",
     "text": [
      "Correlation Matrix\n"
     ]
    },
    {
     "data": {
      "image/png": "[encoded data removed]",
      "text/plain": [
       "<Figure size 432x288 with 2 Axes>"
      ]
     },
     "metadata": {},
     "output_type": "display_data"
    }
   ],
   "source": [
    "#VERİ GÖRSELLEŞTİRME\n",
    "#Correlation Matrix Plot\n",
    "\"\"\"Matrisin simetrik olduğunu, yani matrisin sol altının sağ üst ile aynı olduğunu görebiliriz.\n",
    "Bu, aynı veriler üzerinde iki farklı görüntünün tek bir grafikte görebildiğimiz için kullanışlıdır.\n",
    "Ayrıca her bir değişkenin birbiriyle beklediğimiz gibi \n",
    "sol üst sağdan sağa doğru diyagonal çizgi ile mükemmel bir şekilde pozitif olduğunu görebiliyoruz.\"\"\"\n",
    "\n",
    "\n",
    "correlations = TrainSet.corr()\n",
    "fig = plt.figure()\n",
    "ax = fig.add_subplot(111)\n",
    "cax = ax.matshow(correlations, vmin=-1, vmax=1)\n",
    "fig.colorbar(cax)\n",
    "ticks = np.arange(0,6,1)\n",
    "ax.set_xticks(ticks)\n",
    "ax.set_yticks(ticks)\n",
    "ax.set_xticklabels(x_train)\n",
    "ax.set_yticklabels(x_train)\n",
    "\n",
    "print(\"Correlation Matrix\")\n",
    "plt.show()\n"
   ]
  },
  {
   "cell_type": "markdown",
   "metadata": {},
   "source": [
    "# confusıon matriss:\n",
    "Bir karışıklık matrisi, gerçek değerlerin bilinmekte olduğu bir dizi test verisi üzerinde bir sınıflandırma modelinin performansını tanımlamak için sıklıkla kullanılan bir tablodur."
   ]
  },
  {
   "cell_type": "code",
   "execution_count": 8,
   "metadata": {},
   "outputs": [],
   "source": [
    "#CONFUSION MATRIS İLE GÖRSELLEŞTİRME\n",
    "\n",
    "def confusionMatriss(cm,classes = ['0.0','1.0'],normalize=True,title='Confusion Matris',cmap = plt.cm.Blues):\n",
    "    \n",
    "    if normalize:\n",
    "        cm = cm.astype('float') / cm.sum(axis=1)[:, np.newaxis]\n",
    "        \n",
    "    plt.imshow(cm,interpolation='nearest',cmap= cmap)\n",
    "    plt.title(title)\n",
    "    plt.colorbar()\n",
    "    tickM = np.arange(len(classes))\n",
    "    plt.xticks(tickM,classes, rotation =45 )\n",
    "    plt.yticks(tickM,classes)\n",
    "    fmt = '.2f'\n",
    "    thresh = cm.max() / 2.\n",
    "    for i, j in itertools.product(range(cm.shape[0]), range(cm.shape[1])):\n",
    "        plt.text(j, i, format(cm[i, j], fmt),\n",
    "                 horizontalalignment=\"center\",\n",
    "                 color=\"white\" if cm[i, j] > thresh else \"black\")\n",
    "\n",
    "    plt.ylabel('True label')\n",
    "    plt.xlabel('Predicted label')\n",
    "    "
   ]
  },
  {
   "cell_type": "markdown",
   "metadata": {},
   "source": [
    "# yeni feature ekleme"
   ]
  },
  {
   "cell_type": "code",
   "execution_count": 9,
   "metadata": {},
   "outputs": [
    {
     "name": "stdout",
     "output_type": "stream",
     "text": [
      "              date  Temperature   Humidity  Light         CO2  HumidtyRatio  \\\n",
      "0     1.423072e+18    23.180000  27.272000  426.0  721.250000      0.004793   \n",
      "1     1.423072e+18    23.150000  27.267500  429.5  714.000000      0.004783   \n",
      "2     1.423072e+18    23.150000  27.245000  426.0  713.500000      0.004779   \n",
      "3     1.423072e+18    23.150000  27.200000  426.0  708.250000      0.004772   \n",
      "4     1.423072e+18    23.100000  27.200000  426.0  704.500000      0.004757   \n",
      "5     1.423073e+18    23.100000  27.200000  419.0  701.000000      0.004757   \n",
      "6     1.423073e+18    23.100000  27.200000  419.0  701.666667      0.004757   \n",
      "7     1.423073e+18    23.100000  27.200000  419.0  699.000000      0.004757   \n",
      "8     1.423073e+18    23.100000  27.200000  419.0  689.333333      0.004757   \n",
      "9     1.423073e+18    23.075000  27.175000  419.0  688.000000      0.004745   \n",
      "10    1.423073e+18    23.075000  27.150000  419.0  690.250000      0.004741   \n",
      "11    1.423073e+18    23.100000  27.100000  419.0  691.000000      0.004739   \n",
      "12    1.423073e+18    23.100000  27.166667  419.0  683.500000      0.004751   \n",
      "13    1.423073e+18    23.050000  27.150000  419.0  687.500000      0.004734   \n",
      "14    1.423073e+18    23.000000  27.125000  419.0  686.000000      0.004715   \n",
      "15    1.423073e+18    23.000000  27.125000  418.5  680.500000      0.004715   \n",
      "16    1.423073e+18    23.000000  27.200000    0.0  681.500000      0.004728   \n",
      "17    1.423073e+18    22.945000  27.290000    0.0  685.000000      0.004728   \n",
      "18    1.423073e+18    22.945000  27.390000    0.0  685.000000      0.004745   \n",
      "19    1.423073e+18    22.890000  27.390000    0.0  689.000000      0.004730   \n",
      "20    1.423073e+18    22.890000  27.390000    0.0  689.500000      0.004730   \n",
      "21    1.423074e+18    22.890000  27.390000    0.0  689.000000      0.004730   \n",
      "22    1.423074e+18    22.890000  27.445000    0.0  691.000000      0.004739   \n",
      "23    1.423074e+18    22.890000  27.500000    0.0  688.000000      0.004749   \n",
      "24    1.423074e+18    22.890000  27.500000    0.0  689.500000      0.004749   \n",
      "25    1.423074e+18    22.790000  27.445000    0.0  689.000000      0.004710   \n",
      "26    1.423074e+18    22.790000  27.500000    0.0  685.666667      0.004720   \n",
      "27    1.423074e+18    22.790000  27.500000    0.0  687.000000      0.004720   \n",
      "28    1.423074e+18    22.790000  27.500000    0.0  688.000000      0.004720   \n",
      "29    1.423074e+18    22.745000  27.500000    0.0  670.000000      0.004707   \n",
      "...            ...          ...        ...    ...         ...           ...   \n",
      "8113  1.423559e+18    20.700000  34.417500  419.0  568.750000      0.005203   \n",
      "8114  1.423559e+18    20.700000  34.090000  419.0  556.666667      0.005153   \n",
      "8115  1.423559e+18    20.700000  34.296667  419.0  548.000000      0.005184   \n",
      "8116  1.423559e+18    20.730000  34.466667  419.0  563.333333      0.005220   \n",
      "8117  1.423559e+18    20.745000  34.567500  426.0  593.750000      0.005240   \n",
      "8118  1.423559e+18    20.767500  34.717500  422.5  600.750000      0.005270   \n",
      "8119  1.423559e+18    20.790000  35.090000  426.0  623.000000      0.005335   \n",
      "8120  1.423559e+18    20.790000  34.972500  433.0  631.000000      0.005317   \n",
      "8121  1.423560e+18    20.790000  34.826667  433.0  636.000000      0.005295   \n",
      "8122  1.423560e+18    20.840000  35.195000  433.0  636.750000      0.005368   \n",
      "8123  1.423560e+18    20.890000  35.300000  433.0  663.000000      0.005401   \n",
      "8124  1.423560e+18    20.856667  35.096667  433.0  665.333333      0.005358   \n",
      "8125  1.423560e+18    20.890000  35.320000  433.0  669.500000      0.005404   \n",
      "8126  1.423560e+18    20.917500  35.475000  433.0  679.250000      0.005437   \n",
      "8127  1.423560e+18    20.890000  35.400000  433.0  684.666667      0.005416   \n",
      "8128  1.423560e+18    20.917500  35.717500  433.0  706.250000      0.005474   \n",
      "8129  1.423560e+18    20.958750  35.683750  433.0  712.625000      0.005483   \n",
      "8130  1.423560e+18    21.000000  35.650000  433.0  719.000000      0.005492   \n",
      "8131  1.423560e+18    21.000000  35.700000  433.0  730.250000      0.005500   \n",
      "8132  1.423560e+18    21.000000  35.760000  433.0  739.000000      0.005509   \n",
      "8133  1.423560e+18    21.000000  35.850000  433.0  756.250000      0.005523   \n",
      "8134  1.423560e+18    21.000000  35.700000  433.0  761.000000      0.005500   \n",
      "8135  1.423560e+18    21.025000  35.950000  433.0  763.000000      0.005547   \n",
      "8136  1.423560e+18    21.000000  35.860000  433.0  771.333333      0.005525   \n",
      "8137  1.423560e+18    21.050000  36.050000  433.0  780.250000      0.005571   \n",
      "8138  1.423561e+18    21.050000  36.097500  433.0  787.250000      0.005579   \n",
      "8139  1.423561e+18    21.050000  35.995000  433.0  789.500000      0.005563   \n",
      "8140  1.423561e+18    21.100000  36.095000  433.0  798.500000      0.005596   \n",
      "8141  1.423561e+18    21.100000  36.260000  433.0  820.333333      0.005621   \n",
      "8142  1.423561e+18    21.100000  36.200000  447.0  821.000000      0.005612   \n",
      "\n",
      "       HumTemp  \n",
      "0     1.176531  \n",
      "1     1.177862  \n",
      "2     1.176890  \n",
      "3     1.174946  \n",
      "4     1.177489  \n",
      "5     1.177489  \n",
      "6     1.177489  \n",
      "7     1.177489  \n",
      "8     1.177489  \n",
      "9     1.177681  \n",
      "10    1.176598  \n",
      "11    1.173160  \n",
      "12    1.176046  \n",
      "13    1.177874  \n",
      "14    1.179348  \n",
      "15    1.179348  \n",
      "16    1.182609  \n",
      "17    1.189366  \n",
      "18    1.193724  \n",
      "19    1.196592  \n",
      "20    1.196592  \n",
      "21    1.196592  \n",
      "22    1.198995  \n",
      "23    1.201398  \n",
      "24    1.201398  \n",
      "25    1.204256  \n",
      "26    1.206670  \n",
      "27    1.206670  \n",
      "28    1.206670  \n",
      "29    1.209057  \n",
      "...        ...  \n",
      "8113  1.662681  \n",
      "8114  1.646860  \n",
      "8115  1.656844  \n",
      "8116  1.662647  \n",
      "8117  1.666305  \n",
      "8118  1.671723  \n",
      "8119  1.687831  \n",
      "8120  1.682179  \n",
      "8121  1.675164  \n",
      "8122  1.688820  \n",
      "8123  1.689804  \n",
      "8124  1.682755  \n",
      "8125  1.690761  \n",
      "8126  1.695948  \n",
      "8127  1.694591  \n",
      "8128  1.707542  \n",
      "8129  1.702571  \n",
      "8130  1.697619  \n",
      "8131  1.700000  \n",
      "8132  1.702857  \n",
      "8133  1.707143  \n",
      "8134  1.700000  \n",
      "8135  1.709869  \n",
      "8136  1.707619  \n",
      "8137  1.712589  \n",
      "8138  1.714846  \n",
      "8139  1.709976  \n",
      "8140  1.710664  \n",
      "8141  1.718483  \n",
      "8142  1.715640  \n",
      "\n",
      "[8143 rows x 7 columns]\n",
      "              date  Temperature   Humidity       Light          CO2  \\\n",
      "0     1.422887e+18    23.700000  26.272000  585.200000   749.200000   \n",
      "1     1.422887e+18    23.718000  26.290000  578.400000   760.400000   \n",
      "2     1.422887e+18    23.730000  26.230000  572.666667   769.666667   \n",
      "3     1.422887e+18    23.722500  26.125000  493.750000   774.750000   \n",
      "4     1.422887e+18    23.754000  26.200000  488.600000   779.000000   \n",
      "5     1.422887e+18    23.760000  26.260000  568.666667   790.000000   \n",
      "6     1.422887e+18    23.730000  26.290000  536.333333   798.000000   \n",
      "7     1.422887e+18    23.754000  26.290000  509.000000   797.000000   \n",
      "8     1.422887e+18    23.754000  26.350000  476.000000   803.200000   \n",
      "9     1.422887e+18    23.736000  26.390000  510.000000   809.000000   \n",
      "10    1.422887e+18    23.745000  26.445000  481.500000   815.250000   \n",
      "11    1.422887e+18    23.700000  26.560000  481.800000   824.000000   \n",
      "12    1.422887e+18    23.700000  26.600000  475.250000   832.000000   \n",
      "13    1.422888e+18    23.700000  26.700000  469.000000   845.333333   \n",
      "14    1.422888e+18    23.700000  26.774000  464.000000   852.400000   \n",
      "15    1.422888e+18    23.700000  26.890000  464.000000   861.000000   \n",
      "16    1.422888e+18    23.700000  26.972500  455.000000   880.000000   \n",
      "17    1.422888e+18    23.600000  26.890000  454.000000   891.000000   \n",
      "18    1.422888e+18    23.640000  26.976000  458.000000   897.600000   \n",
      "19    1.422888e+18    23.650000  27.050000  464.000000   900.500000   \n",
      "20    1.422888e+18    23.640000  27.100000  473.000000   908.800000   \n",
      "21    1.422888e+18    23.600000  27.160000  464.000000   918.000000   \n",
      "22    1.422888e+18    23.600000  27.236000  498.400000   925.200000   \n",
      "23    1.422888e+18    23.600000  27.290000  530.200000   929.400000   \n",
      "24    1.422888e+18    23.600000  27.330000  533.600000   936.400000   \n",
      "25    1.422888e+18    23.600000  27.340000  524.250000   950.000000   \n",
      "26    1.422888e+18    23.625000  27.392500  498.666667   961.000000   \n",
      "27    1.422888e+18    23.600000  27.390000  516.333333   963.000000   \n",
      "28    1.422888e+18    23.600000  27.412000  501.200000   958.600000   \n",
      "29    1.422888e+18    23.600000  27.500000  522.000000   965.333333   \n",
      "...            ...          ...        ...         ...          ...   \n",
      "2635  1.423045e+18    23.790000  26.310000  763.000000  1158.200000   \n",
      "2636  1.423045e+18    23.790000  26.315000  758.250000  1160.250000   \n",
      "2637  1.423045e+18    23.890000  26.390000  755.500000  1166.000000   \n",
      "2638  1.423045e+18    23.890000  26.365000  758.250000  1164.750000   \n",
      "2639  1.423045e+18    23.890000  26.290000  772.750000  1163.250000   \n",
      "2640  1.423045e+18    23.984286  26.375714  767.000000  1172.714286   \n",
      "2641  1.423045e+18    24.000000  26.365000  774.500000  1182.000000   \n",
      "2642  1.423045e+18    24.050000  26.340000  774.500000  1182.000000   \n",
      "2643  1.423045e+18    24.080000  26.370000  769.800000  1187.600000   \n",
      "2644  1.423045e+18    24.100000  26.566667  758.333333  1191.333333   \n",
      "2645  1.423045e+18    24.100000  26.472500  775.750000  1213.750000   \n",
      "2646  1.423046e+18    24.100000  26.154000  775.000000  1194.000000   \n",
      "2647  1.423046e+18    24.100000  25.958000  783.400000  1173.400000   \n",
      "2648  1.423046e+18    24.100000  25.918000  789.600000  1160.200000   \n",
      "2649  1.423046e+18    24.100000  25.892500  797.500000  1156.250000   \n",
      "2650  1.423046e+18    24.100000  25.832000  799.000000  1139.000000   \n",
      "2651  1.423046e+18    24.175000  25.840000  782.500000  1140.500000   \n",
      "2652  1.423046e+18    24.200000  25.891667  786.166667  1145.333333   \n",
      "2653  1.423046e+18    24.200000  25.890000  794.250000  1149.250000   \n",
      "2654  1.423046e+18    24.200000  25.890000  797.500000  1152.500000   \n",
      "2655  1.423046e+18    24.200000  25.890000  787.000000  1153.250000   \n",
      "2656  1.423046e+18    24.218000  25.912000  805.000000  1152.400000   \n",
      "2657  1.423046e+18    24.260000  25.891667  798.000000  1146.166667   \n",
      "2658  1.423046e+18    24.290000  25.978000  793.000000  1145.400000   \n",
      "2659  1.423046e+18    24.290000  25.852000  801.400000  1140.800000   \n",
      "2660  1.423046e+18    24.290000  25.700000  808.000000  1150.250000   \n",
      "2661  1.423046e+18    24.330000  25.736000  809.800000  1129.200000   \n",
      "2662  1.423046e+18    24.330000  25.700000  817.000000  1125.800000   \n",
      "2663  1.423047e+18    24.356667  25.700000  813.000000  1123.000000   \n",
      "2664  1.423047e+18    24.408333  25.681667  798.000000  1124.000000   \n",
      "\n",
      "      HumidtyRatio   HumTemp  \n",
      "0         0.004764  1.108523  \n",
      "1         0.004773  1.108441  \n",
      "2         0.004765  1.105352  \n",
      "3         0.004744  1.101275  \n",
      "4         0.004767  1.102972  \n",
      "5         0.004779  1.105219  \n",
      "6         0.004776  1.107880  \n",
      "7         0.004783  1.106761  \n",
      "8         0.004794  1.109287  \n",
      "9         0.004796  1.111813  \n",
      "10        0.004809  1.113708  \n",
      "11        0.004817  1.120675  \n",
      "12        0.004824  1.122363  \n",
      "13        0.004842  1.126582  \n",
      "14        0.004856  1.129705  \n",
      "15        0.004877  1.134599  \n",
      "16        0.004892  1.138080  \n",
      "17        0.004848  1.139407  \n",
      "18        0.004875  1.141117  \n",
      "19        0.004891  1.143763  \n",
      "20        0.004898  1.146362  \n",
      "21        0.004897  1.150847  \n",
      "22        0.004910  1.154068  \n",
      "23        0.004920  1.156356  \n",
      "24        0.004928  1.158051  \n",
      "25        0.004929  1.158475  \n",
      "26        0.004946  1.159471  \n",
      "27        0.004938  1.160593  \n",
      "28        0.004942  1.161525  \n",
      "29        0.004958  1.165254  \n",
      "...            ...       ...  \n",
      "2635      0.004797  1.105927  \n",
      "2636      0.004798  1.106137  \n",
      "2637      0.004841  1.104646  \n",
      "2638      0.004837  1.103600  \n",
      "2639      0.004823  1.100460  \n",
      "2640      0.004866  1.099708  \n",
      "2641      0.004869  1.098542  \n",
      "2642      0.004879  1.095218  \n",
      "2643      0.004893  1.095100  \n",
      "2644      0.004936  1.102351  \n",
      "2645      0.004919  1.098444  \n",
      "2646      0.004859  1.085228  \n",
      "2647      0.004822  1.077095  \n",
      "2648      0.004815  1.075436  \n",
      "2649      0.004810  1.074378  \n",
      "2650      0.004799  1.071867  \n",
      "2651      0.004822  1.068873  \n",
      "2652      0.004839  1.069904  \n",
      "2653      0.004839  1.069835  \n",
      "2654      0.004839  1.069835  \n",
      "2655      0.004839  1.069835  \n",
      "2656      0.004848  1.069948  \n",
      "2657      0.004857  1.067257  \n",
      "2658      0.004882  1.069494  \n",
      "2659      0.004858  1.064306  \n",
      "2660      0.004829  1.058049  \n",
      "2661      0.004848  1.057789  \n",
      "2662      0.004841  1.056309  \n",
      "2663      0.004849  1.055153  \n",
      "2664      0.004860  1.052168  \n",
      "\n",
      "[2665 rows x 7 columns]\n",
      "              date  Temperature   Humidity       Light          CO2  \\\n",
      "0     1.423666e+18    21.760000  31.133333  437.333333  1029.666667   \n",
      "1     1.423666e+18    21.790000  31.000000  437.333333  1000.000000   \n",
      "2     1.423666e+18    21.767500  31.122500  434.000000  1003.750000   \n",
      "3     1.423666e+18    21.767500  31.122500  439.000000  1009.500000   \n",
      "4     1.423666e+18    21.790000  31.133333  437.333333  1005.666667   \n",
      "5     1.423666e+18    21.760000  31.260000  437.333333  1014.333333   \n",
      "6     1.423666e+18    21.790000  31.197500  434.000000  1018.500000   \n",
      "7     1.423666e+18    21.790000  31.393333  437.333333  1018.666667   \n",
      "8     1.423667e+18    21.790000  31.317500  434.000000  1022.000000   \n",
      "9     1.423667e+18    21.790000  31.463333  437.333333  1027.333333   \n",
      "10    1.423667e+18    21.790000  31.525000  437.750000  1047.750000   \n",
      "11    1.423667e+18    21.790000  31.575000  441.750000  1049.000000   \n",
      "12    1.423667e+18    21.790000  31.395000  442.000000  1061.500000   \n",
      "13    1.423667e+18    21.790000  31.392500  441.750000  1049.000000   \n",
      "14    1.423667e+18    21.790000  31.500000  441.500000  1048.000000   \n",
      "15    1.423667e+18    21.815000  31.500000  438.000000  1049.250000   \n",
      "16    1.423667e+18    21.815000  31.472500  449.500000  1051.250000   \n",
      "17    1.423667e+18    21.890000  31.600000  449.500000  1060.500000   \n",
      "18    1.423667e+18    21.790000  31.550000  449.500000  1059.500000   \n",
      "19    1.423667e+18    21.823333  31.730000  447.666667  1072.000000   \n",
      "20    1.423667e+18    21.865000  31.722500  449.500000  1072.333333   \n",
      "21    1.423667e+18    21.890000  31.745000  449.500000  1075.333333   \n",
      "22    1.423667e+18    21.890000  31.767500  449.500000  1087.000000   \n",
      "23    1.423667e+18    21.890000  31.767500  437.750000  1083.250000   \n",
      "24    1.423668e+18    21.890000  31.790000  442.666667  1086.333333   \n",
      "25    1.423668e+18    21.890000  31.790000  437.333333  1091.000000   \n",
      "26    1.423668e+18    21.890000  31.890000  439.000000  1100.000000   \n",
      "27    1.423668e+18    21.890000  31.890000  444.000000  1101.000000   \n",
      "28    1.423668e+18    21.890000  31.865000  444.000000  1107.000000   \n",
      "29    1.423668e+18    21.890000  31.790000  444.000000  1110.000000   \n",
      "...            ...          ...        ...         ...          ...   \n",
      "9722  1.424249e+18    20.790000  26.890000    7.000000  1472.400000   \n",
      "9723  1.424249e+18    20.823333  26.926667    9.333333  1482.333333   \n",
      "9724  1.424250e+18    20.890000  27.000000    4.666667  1492.000000   \n",
      "9725  1.424250e+18    20.865000  26.945000    7.000000  1469.000000   \n",
      "9726  1.424250e+18    20.840000  26.895000    7.000000  1463.500000   \n",
      "9727  1.424250e+18    20.815000  26.815000    7.000000  1471.750000   \n",
      "9728  1.424250e+18    20.865000  26.865000    7.000000  1500.250000   \n",
      "9729  1.424250e+18    20.823333  26.893333    9.333333  1514.000000   \n",
      "9730  1.424250e+18    20.815000  26.892500   13.500000  1499.250000   \n",
      "9731  1.424250e+18    20.856667  26.890000   20.666667  1485.666667   \n",
      "9732  1.424250e+18    20.865000  26.865000   17.000000  1476.250000   \n",
      "9733  1.424250e+18    20.865000  26.865000   12.000000  1462.500000   \n",
      "9734  1.424250e+18    20.840000  26.840000    7.000000  1452.500000   \n",
      "9735  1.424250e+18    20.815000  26.815000    7.000000  1448.000000   \n",
      "9736  1.424250e+18    20.823333  26.823333   13.333333  1448.666667   \n",
      "9737  1.424250e+18    20.815000  26.815000   11.500000  1443.250000   \n",
      "9738  1.424250e+18    20.790000  26.790000   10.000000  1450.500000   \n",
      "9739  1.424250e+18    20.840000  26.840000   12.000000  1446.500000   \n",
      "9740  1.424250e+18    20.790000  26.790000   14.000000  1444.666667   \n",
      "9741  1.424251e+18    20.790000  26.767500   10.000000  1455.000000   \n",
      "9742  1.424251e+18    20.790000  26.745000   50.750000  1463.750000   \n",
      "9743  1.424251e+18    20.790000  27.122500  296.000000  1467.000000   \n",
      "9744  1.424251e+18    20.790000  27.030000  419.000000  1488.000000   \n",
      "9745  1.424251e+18    20.790000  27.296667  429.000000  1486.000000   \n",
      "9746  1.424251e+18    20.815000  27.417500  430.750000  1511.750000   \n",
      "9747  1.424251e+18    20.815000  27.717500  429.750000  1505.250000   \n",
      "9748  1.424251e+18    20.865000  27.745000  423.500000  1514.500000   \n",
      "9749  1.424251e+18    20.890000  27.745000  423.500000  1521.500000   \n",
      "9750  1.424251e+18    20.890000  28.022500  418.750000  1632.000000   \n",
      "9751  1.424251e+18    21.000000  28.100000  409.000000  1864.000000   \n",
      "\n",
      "      HumidtyRatio   HumTemp  \n",
      "0         0.005021  1.430760  \n",
      "1         0.005009  1.422671  \n",
      "2         0.005022  1.429769  \n",
      "3         0.005022  1.429769  \n",
      "4         0.005030  1.428790  \n",
      "5         0.005042  1.436581  \n",
      "6         0.005041  1.431735  \n",
      "7         0.005073  1.440722  \n",
      "8         0.005060  1.437242  \n",
      "9         0.005084  1.443935  \n",
      "10        0.005094  1.446765  \n",
      "11        0.005102  1.449059  \n",
      "12        0.005073  1.440799  \n",
      "13        0.005073  1.440684  \n",
      "14        0.005090  1.445617  \n",
      "15        0.005098  1.443961  \n",
      "16        0.005093  1.442700  \n",
      "17        0.005138  1.443582  \n",
      "18        0.005098  1.447912  \n",
      "19        0.005138  1.453948  \n",
      "20        0.005150  1.450835  \n",
      "21        0.005162  1.450206  \n",
      "22        0.005165  1.451233  \n",
      "23        0.005165  1.451233  \n",
      "24        0.005169  1.452261  \n",
      "25        0.005169  1.452261  \n",
      "26        0.005185  1.456830  \n",
      "27        0.005185  1.456830  \n",
      "28        0.005181  1.455688  \n",
      "29        0.005169  1.452261  \n",
      "...            ...       ...  \n",
      "9722      0.004080  1.293410  \n",
      "9723      0.004094  1.293101  \n",
      "9724      0.004122  1.292484  \n",
      "9725      0.004107  1.291397  \n",
      "9726      0.004093  1.290547  \n",
      "9727      0.004075  1.288254  \n",
      "9728      0.004095  1.287563  \n",
      "9729      0.004089  1.291500  \n",
      "9730      0.004087  1.291977  \n",
      "9731      0.004097  1.289276  \n",
      "9732      0.004095  1.287563  \n",
      "9733      0.004095  1.287563  \n",
      "9734      0.004085  1.287908  \n",
      "9735      0.004075  1.288254  \n",
      "9736      0.004078  1.288138  \n",
      "9737      0.004075  1.288254  \n",
      "9738      0.004065  1.288600  \n",
      "9739      0.004085  1.287908  \n",
      "9740      0.004065  1.288600  \n",
      "9741      0.004061  1.287518  \n",
      "9742      0.004058  1.286436  \n",
      "9743      0.004116  1.304594  \n",
      "9744      0.004101  1.300144  \n",
      "9745      0.004142  1.312971  \n",
      "9746      0.004167  1.317199  \n",
      "9747      0.004213  1.331612  \n",
      "9748      0.004230  1.329739  \n",
      "9749      0.004237  1.328147  \n",
      "9750      0.004279  1.341431  \n",
      "9751      0.004321  1.338095  \n",
      "\n",
      "[9752 rows x 7 columns]\n"
     ]
    }
   ],
   "source": [
    "# YENİ FEATURE EKLEME\n",
    "\n",
    "x_train_new=x_train\n",
    "x_train_new.columns=x_train.columns\n",
    "x_train_new['HumTemp']=x_train.Humidity/x_train.Temperature\n",
    "print(x_train_new)\n",
    "\n",
    "x_test_new=x_test\n",
    "x_test_new.columns=x_test.columns\n",
    "x_test_new['HumTemp']=x_test.Humidity/x_test.Temperature\n",
    "print(x_test_new)\n",
    "\n",
    "x_test2_new=x_test2\n",
    "x_test2_new.columns=x_test2.columns\n",
    "x_test2_new['HumTemp']=x_test2.Humidity/x_test2.Temperature\n",
    "print(x_test2_new)"
   ]
  },
  {
   "cell_type": "code",
   "execution_count": 11,
   "metadata": {},
   "outputs": [
    {
     "name": "stdout",
     "output_type": "stream",
     "text": [
      "ÖLÇEKLENMİŞ YENİ_EĞİTİM SETİM\n",
      "[[-1.73183591  2.51847007  0.27852622 ...  0.36494808  1.09175697\n",
      "  -0.27073872]\n",
      " [-1.73141759  2.48896731  0.27771261 ...  0.34188106  1.08055497\n",
      "  -0.2660186 ]\n",
      " [-1.73098509  2.48896731  0.27364453 ...  0.34029023  1.07588816\n",
      "  -0.2694672 ]\n",
      " ...\n",
      " [ 1.73098242  0.47294534  1.87375407 ...  0.61073113  2.03352707\n",
      "   1.62448245]\n",
      " [ 1.73141491  0.47294534  1.90358662 ...  0.68019732  2.063811\n",
      "   1.65222924]\n",
      " [ 1.73184032  0.47294534  1.89273842 ...  0.68231843  2.05279837\n",
      "   1.6421395 ]] \n",
      "\n",
      "ÖLÇEKLENMİŞ YENİ_TEST SETİM\n",
      "[[-1.73139426  2.20476235  0.37681367 ...  0.10694007  1.20754022\n",
      "  -0.89815048]\n",
      " [-1.73011607  2.22227495  0.38420166 ...  0.14521407  1.22146086\n",
      "  -0.89916168]\n",
      " [-1.72879456  2.23395002  0.35957501 ...  0.17688126  1.20916118\n",
      "  -0.9370876 ]\n",
      " ...\n",
      " [ 1.72878639  2.81770341  0.14203962 ...  1.39390353  1.33301272\n",
      "  -1.53922752]\n",
      " [ 1.73008624  2.84364801  0.14203962 ...  1.38433502  1.34579091\n",
      "  -1.55342673]\n",
      " [ 1.73140775  2.89391566  0.13451481 ...  1.38775235  1.36487235\n",
      "  -1.59007141]] \n",
      "\n",
      "ÖLÇEKLENMİŞ YENİ_TEST2 SETİM\n",
      "[[-1.73187137e+00  7.42897500e-01  3.14074333e-01 ...  9.30527183e-01\n",
      "   8.14063177e-01  2.60397167e-04]\n",
      " [-1.73151615e+00  7.72290797e-01  2.80341614e-01 ...  8.30666611e-01\n",
      "   7.90653359e-01 -3.51401933e-02]\n",
      " [-1.73116093e+00  7.50245824e-01  3.11333549e-01 ...  8.43289436e-01\n",
      "   8.15114565e-01 -4.07516007e-03]\n",
      " ...\n",
      " [ 1.73115869e+00 -1.09508097e-01 -5.43158393e-01 ...  2.58608082e+00\n",
      "  -6.62877931e-01 -4.48819081e-01]\n",
      " [ 1.73151391e+00 -1.09508097e-01 -4.72952171e-01 ...  2.95803340e+00\n",
      "  -5.82518618e-01 -3.90682691e-01]\n",
      " [ 1.73187505e+00 -1.73267669e-03 -4.53345028e-01 ...  3.73896552e+00\n",
      "  -5.04835301e-01 -4.05282881e-01]]\n"
     ]
    }
   ],
   "source": [
    "#YENİ FEATURE EKLEDİKTEN SONRA SCALE ETME\n",
    "\n",
    "from sklearn.preprocessing import StandardScaler\n",
    "scaler=StandardScaler()\n",
    "X_train_new=scaler.fit_transform(x_train_new)\n",
    "print(\"ÖLÇEKLENMİŞ YENİ_EĞİTİM SETİM\")\n",
    "print(X_train_new,\"\\n\")\n",
    "X_test_new=scaler.fit_transform(x_test_new)\n",
    "print(\"ÖLÇEKLENMİŞ YENİ_TEST SETİM\")\n",
    "print(X_test_new,\"\\n\")\n",
    "X_test2_new=scaler.fit_transform(x_test2_new)\n",
    "print(\"ÖLÇEKLENMİŞ YENİ_TEST2 SETİM\")\n",
    "print(X_test2_new)"
   ]
  },
  {
   "cell_type": "markdown",
   "metadata": {},
   "source": [
    "# 1. KNN ALGORİTMASI"
   ]
  },
  {
   "cell_type": "raw",
   "metadata": {},
   "source": [
    "kNN algoritması, tüm mevcut durumları depolayan ve bir benzerlik ölçüsüne (ör. Mesafe fonksiyonları ) göre yeni durumları sınıflandıran basit bir algoritmadır.\n",
    "Sınıflandırılacak veririn komşularıyla olan uzaklığına bakar ve en uygun etiket  ile sınıflandırma işlemini yapar.\n",
    "Sınıflandırma işleminde K değeri bakılacak eleman sayısını belirler.\n",
    "Bu algoritmanın kötü tarafı her ekleme işleminde uzaklıkların hesaplanmasıdır. "
   ]
  },
  {
   "cell_type": "markdown",
   "metadata": {},
   "source": [
    "# K=3 iken"
   ]
  },
  {
   "cell_type": "code",
   "execution_count": 12,
   "metadata": {},
   "outputs": [
    {
     "name": "stderr",
     "output_type": "stream",
     "text": [
      "C:\\ProgramData\\Anaconda3\\lib\\site-packages\\ipykernel_launcher.py:3: DataConversionWarning: A column-vector y was passed when a 1d array was expected. Please change the shape of y to (n_samples, ), for example using ravel().\n",
      "  This is separate from the ipykernel package so we can avoid doing imports until\n"
     ]
    },
    {
     "name": "stdout",
     "output_type": "stream",
     "text": [
      "K=3 İKEN\n",
      "orjinal TRAIN setimin accuary_score=  0.9995087805477096\n",
      "ORJINAL TEST_1 setimin accuary_score= 0.3647279549718574\n",
      "ORJINAL TEST_2 setimin accuary_score= 0.21011074651353567 \n",
      "\n",
      "------------------------------------------------------------------------------------------\n",
      "[[   0 1693]\n",
      " [   0  972]]\n",
      "             precision    recall  f1-score   support\n",
      "\n",
      "          0       0.00      0.00      0.00      1693\n",
      "          1       0.36      1.00      0.53       972\n",
      "\n",
      "avg / total       0.13      0.36      0.19      2665\n",
      "\n",
      "------------------------------------------------------------------------------------------\n",
      "[[   0 7703]\n",
      " [   0 2049]]\n",
      "             precision    recall  f1-score   support\n",
      "\n",
      "          0       0.00      0.00      0.00      7703\n",
      "          1       0.21      1.00      0.35      2049\n",
      "\n",
      "avg / total       0.04      0.21      0.07      9752\n",
      "\n"
     ]
    },
    {
     "name": "stderr",
     "output_type": "stream",
     "text": [
      "C:\\ProgramData\\Anaconda3\\lib\\site-packages\\sklearn\\metrics\\classification.py:1135: UndefinedMetricWarning: Precision and F-score are ill-defined and being set to 0.0 in labels with no predicted samples.\n",
      "  'precision', 'predicted', average, warn_for)\n",
      "C:\\ProgramData\\Anaconda3\\lib\\site-packages\\sklearn\\metrics\\classification.py:1135: UndefinedMetricWarning: Precision and F-score are ill-defined and being set to 0.0 in labels with no predicted samples.\n",
      "  'precision', 'predicted', average, warn_for)\n"
     ]
    },
    {
     "data": {
      "image/png": "[encoded data removed]",
      "text/plain": [
       "<Figure size 432x288 with 2 Axes>"
      ]
     },
     "metadata": {},
     "output_type": "display_data"
    }
   ],
   "source": [
    "#KNN ALGORİTHM-(ORJINAL VERİ ÜZERİNDE ETKİSİ K=3)\n",
    "kNN = KNeighborsClassifier(n_neighbors=3)\n",
    "kNN.fit(x_train,y_train)\n",
    "print(\"K=3 İKEN\")\n",
    "print(\"orjinal TRAIN setimin accuary_score= \",kNN.score(x_train,y_train))\n",
    "y_pred = kNN.predict(x_test)\n",
    "print(\"ORJINAL TEST_1 setimin accuary_score=\",accuracy_score(y_test, y_pred))\n",
    "y_pred2 = kNN.predict(x_test2)\n",
    "print(\"ORJINAL TEST_2 setimin accuary_score=\",accuracy_score(y_test2,y_pred2),\"\\n\")\n",
    "\n",
    "print(\"------------------------------------------------------------------------------------------\")\n",
    "print(confusion_matrix(y_test, y_pred))  \n",
    "print(classification_report(y_test, y_pred))   \n",
    "print(\"------------------------------------------------------------------------------------------\")\n",
    "print(confusion_matrix(y_test2, y_pred2))  \n",
    "print(classification_report(y_test2, y_pred2))  \n",
    "knt=confusion_matrix(y_test2,y_pred2)\n",
    "confusionMatriss(knt,['0.0','1.0'])"
   ]
  },
  {
   "cell_type": "code",
   "execution_count": 13,
   "metadata": {},
   "outputs": [
    {
     "name": "stderr",
     "output_type": "stream",
     "text": [
      "C:\\ProgramData\\Anaconda3\\lib\\site-packages\\ipykernel_launcher.py:3: DataConversionWarning: A column-vector y was passed when a 1d array was expected. Please change the shape of y to (n_samples, ), for example using ravel().\n",
      "  This is separate from the ipykernel package so we can avoid doing imports until\n"
     ]
    },
    {
     "name": "stdout",
     "output_type": "stream",
     "text": [
      "K=3 İKEN\n",
      "SCALE EDİLMİŞ TRAIN setimin accuary_score=  0.9969298784231856\n",
      "SCALE EDİLMİŞ TEST_1 setimin accuary_score= 0.9553470919324578\n",
      "SCALE EDİLMİŞ TEST_2 setimin accuary_score= 0.9764150943396226\n",
      "------------------------------------------------------------------------------------------\n",
      "[[1642   51]\n",
      " [  68  904]]\n",
      "             precision    recall  f1-score   support\n",
      "\n",
      "          0       0.96      0.97      0.97      1693\n",
      "          1       0.95      0.93      0.94       972\n",
      "\n",
      "avg / total       0.96      0.96      0.96      2665\n",
      "\n",
      "------------------------------------------------------------------------------------------\n",
      "[[7669   34]\n",
      " [ 196 1853]]\n",
      "             precision    recall  f1-score   support\n",
      "\n",
      "          0       0.98      1.00      0.99      7703\n",
      "          1       0.98      0.90      0.94      2049\n",
      "\n",
      "avg / total       0.98      0.98      0.98      9752\n",
      "\n"
     ]
    },
    {
     "data": {
      "image/png": "[encoded data removed]",
      "text/plain": [
       "<Figure size 432x288 with 2 Axes>"
      ]
     },
     "metadata": {},
     "output_type": "display_data"
    }
   ],
   "source": [
    "#KNN ALGORITHM-(SCALE EDİLMİŞ VERİ ÜZERİNDE ETKİSİ K=3)\n",
    "kNN = KNeighborsClassifier(n_neighbors=3)\n",
    "kNN.fit(X_train,y_train)\n",
    "print(\"K=3 İKEN\")\n",
    "print(\"SCALE EDİLMİŞ TRAIN setimin accuary_score= \",kNN.score(X_train,y_train))\n",
    "y_pred = kNN.predict(X_test)\n",
    "print(\"SCALE EDİLMİŞ TEST_1 setimin accuary_score=\",accuracy_score(y_test, y_pred))\n",
    "y_pred2 = kNN.predict(X_test2)\n",
    "print(\"SCALE EDİLMİŞ TEST_2 setimin accuary_score=\",accuracy_score(y_test2,y_pred2))\n",
    "print(\"------------------------------------------------------------------------------------------\")\n",
    "print(confusion_matrix(y_test, y_pred))  \n",
    "print(classification_report(y_test, y_pred))   \n",
    "print(\"------------------------------------------------------------------------------------------\")\n",
    "print(confusion_matrix(y_test2, y_pred2))  \n",
    "print(classification_report(y_test2, y_pred2))  \n",
    "knr=confusion_matrix(y_test2,y_pred2)\n",
    "confusionMatriss(knr,['0.0','1.0'])"
   ]
  },
  {
   "cell_type": "code",
   "execution_count": 14,
   "metadata": {},
   "outputs": [
    {
     "name": "stderr",
     "output_type": "stream",
     "text": [
      "C:\\ProgramData\\Anaconda3\\lib\\site-packages\\ipykernel_launcher.py:4: DataConversionWarning: A column-vector y was passed when a 1d array was expected. Please change the shape of y to (n_samples, ), for example using ravel().\n",
      "  after removing the cwd from sys.path.\n"
     ]
    },
    {
     "name": "stdout",
     "output_type": "stream",
     "text": [
      "K=3 İKEN\n",
      "YENİ FEATURE EKLENMİŞ TRAIN setimin accuary_score=  0.9995087805477096\n",
      "YENİ FEATURE EKLENMİŞ TEST_1 setimin accuary_score=  0.3647279549718574\n",
      "YENİ FEATURE EKLENMİŞ TEST_2 setimin accuary_score=  0.21011074651353567\n",
      "------------------------------------------------------------------------------------------\n",
      "[[   0 1693]\n",
      " [   0  972]]\n",
      "             precision    recall  f1-score   support\n",
      "\n",
      "          0       0.00      0.00      0.00      1693\n",
      "          1       0.36      1.00      0.53       972\n",
      "\n",
      "avg / total       0.13      0.36      0.19      2665\n",
      "\n",
      "------------------------------------------------------------------------------------------\n",
      "[[   0 7703]\n",
      " [   0 2049]]\n",
      "             precision    recall  f1-score   support\n",
      "\n",
      "          0       0.00      0.00      0.00      7703\n",
      "          1       0.21      1.00      0.35      2049\n",
      "\n",
      "avg / total       0.04      0.21      0.07      9752\n",
      "\n"
     ]
    },
    {
     "name": "stderr",
     "output_type": "stream",
     "text": [
      "C:\\ProgramData\\Anaconda3\\lib\\site-packages\\sklearn\\metrics\\classification.py:1135: UndefinedMetricWarning: Precision and F-score are ill-defined and being set to 0.0 in labels with no predicted samples.\n",
      "  'precision', 'predicted', average, warn_for)\n",
      "C:\\ProgramData\\Anaconda3\\lib\\site-packages\\sklearn\\metrics\\classification.py:1135: UndefinedMetricWarning: Precision and F-score are ill-defined and being set to 0.0 in labels with no predicted samples.\n",
      "  'precision', 'predicted', average, warn_for)\n"
     ]
    },
    {
     "data": {
      "image/png": "[encoded data removed]",
      "text/plain": [
       "<Figure size 432x288 with 2 Axes>"
      ]
     },
     "metadata": {},
     "output_type": "display_data"
    }
   ],
   "source": [
    "#KNN ALGORITHM-(YENİ FEATURE EKLENMİŞ HALİNE ETKİSİ K=3)\n",
    "\n",
    "kNN = KNeighborsClassifier(n_neighbors=3)\n",
    "kNN.fit(x_train_new,y_train)\n",
    "print(\"K=3 İKEN\")\n",
    "print(\"YENİ FEATURE EKLENMİŞ TRAIN setimin accuary_score= \",kNN.score(x_train_new,y_train))\n",
    "y_pred = kNN.predict(x_test_new)\n",
    "print(\"YENİ FEATURE EKLENMİŞ TEST_1 setimin accuary_score= \",accuracy_score(y_test, y_pred))\n",
    "y_pred2 = kNN.predict(x_test2_new)\n",
    "print(\"YENİ FEATURE EKLENMİŞ TEST_2 setimin accuary_score= \",accuracy_score(y_test2,y_pred2))\n",
    "print(\"------------------------------------------------------------------------------------------\")\n",
    "print(confusion_matrix(y_test, y_pred))  \n",
    "print(classification_report(y_test, y_pred))   \n",
    "print(\"------------------------------------------------------------------------------------------\")\n",
    "print(confusion_matrix(y_test2, y_pred2))  \n",
    "print(classification_report(y_test2, y_pred2)) \n",
    "knm=confusion_matrix(y_test2,y_pred2)\n",
    "confusionMatriss(knm,['0.0','1.0'])"
   ]
  },
  {
   "cell_type": "code",
   "execution_count": 15,
   "metadata": {},
   "outputs": [
    {
     "name": "stderr",
     "output_type": "stream",
     "text": [
      "C:\\ProgramData\\Anaconda3\\lib\\site-packages\\ipykernel_launcher.py:3: DataConversionWarning: A column-vector y was passed when a 1d array was expected. Please change the shape of y to (n_samples, ), for example using ravel().\n",
      "  This is separate from the ipykernel package so we can avoid doing imports until\n"
     ]
    },
    {
     "name": "stdout",
     "output_type": "stream",
     "text": [
      "K=3 İKEN\n",
      "YENİ FEATURE EKLENMİŞ VE SCALE EDİLMİŞ TRAIN setimin accuary_score=  0.9969298784231856\n",
      "YENİ FEATURE EKLENMİŞ VE SCALE EDİLMİŞ TEST_1 setimin accuary_score=  0.9193245778611632\n",
      "YENİ FEATURE EKLENMİŞ VE SCALE EDİLMİŞ TEST_1 setimin accuary_score=  0.9711853978671042\n",
      "------------------------------------------------------------------------------------------\n",
      "[[1643   50]\n",
      " [ 165  807]]\n",
      "             precision    recall  f1-score   support\n",
      "\n",
      "          0       0.91      0.97      0.94      1693\n",
      "          1       0.94      0.83      0.88       972\n",
      "\n",
      "avg / total       0.92      0.92      0.92      2665\n",
      "\n",
      "------------------------------------------------------------------------------------------\n",
      "[[7652   51]\n",
      " [ 230 1819]]\n",
      "             precision    recall  f1-score   support\n",
      "\n",
      "          0       0.97      0.99      0.98      7703\n",
      "          1       0.97      0.89      0.93      2049\n",
      "\n",
      "avg / total       0.97      0.97      0.97      9752\n",
      "\n"
     ]
    },
    {
     "data": {
      "image/png": "[encoded data removed]",
      "text/plain": [
       "<Figure size 432x288 with 2 Axes>"
      ]
     },
     "metadata": {},
     "output_type": "display_data"
    }
   ],
   "source": [
    "#KNN ALGORITHM-(YENİ FEATURE EKLENMİŞ ve SCALE EDİLMİŞ VERİ ÜZERİNDE ETKİSİ K=3)\n",
    "kNN = KNeighborsClassifier(n_neighbors=3)\n",
    "kNN.fit(X_train_new,y_train)\n",
    "print(\"K=3 İKEN\")\n",
    "print(\"YENİ FEATURE EKLENMİŞ VE SCALE EDİLMİŞ TRAIN setimin accuary_score= \",kNN.score(X_train_new,y_train))\n",
    "y_pred = kNN.predict(X_test_new)\n",
    "print(\"YENİ FEATURE EKLENMİŞ VE SCALE EDİLMİŞ TEST_1 setimin accuary_score= \",accuracy_score(y_test, y_pred))\n",
    "y_pred2 = kNN.predict(X_test2_new)\n",
    "print(\"YENİ FEATURE EKLENMİŞ VE SCALE EDİLMİŞ TEST_1 setimin accuary_score= \",accuracy_score(y_test2,y_pred2))\n",
    "print(\"------------------------------------------------------------------------------------------\")\n",
    "print(confusion_matrix(y_test, y_pred))  \n",
    "print(classification_report(y_test, y_pred))   \n",
    "print(\"------------------------------------------------------------------------------------------\")\n",
    "print(confusion_matrix(y_test2, y_pred2))  \n",
    "print(classification_report(y_test2, y_pred2))  \n",
    "knn=confusion_matrix(y_test2,y_pred2)\n",
    "confusionMatriss(knn,['0.0','1.0'])"
   ]
  },
  {
   "cell_type": "raw",
   "metadata": {},
   "source": [
    "K değerini 3 seçtiğimizde orjinal veri setimde train-test-test2 sonuçlarıma bakarak aralarında büyük fark olduğu ve overfitting durumu gözlemlenmiştir. Veri setlerim üzerine yapılan ölçeklendirme işlemi bu durumu ortadan kaldırarak sonuçları birbirine yaklaştırıp daha optimize bir score elde etmemizi sağlamıştır. Ancak yeni feature eklenmesinin hiçbir katkısı olmazken, feature eklenmiş veri setlerimi de ölçeklendirdiğim de yine daha optimize sonuçlar elde ettiğimizi gözlemledim."
   ]
  },
  {
   "cell_type": "markdown",
   "metadata": {},
   "source": [
    "# K=5 iken"
   ]
  },
  {
   "cell_type": "code",
   "execution_count": 16,
   "metadata": {},
   "outputs": [
    {
     "name": "stderr",
     "output_type": "stream",
     "text": [
      "C:\\ProgramData\\Anaconda3\\lib\\site-packages\\ipykernel_launcher.py:4: DataConversionWarning: A column-vector y was passed when a 1d array was expected. Please change the shape of y to (n_samples, ), for example using ravel().\n",
      "  after removing the cwd from sys.path.\n"
     ]
    },
    {
     "name": "stdout",
     "output_type": "stream",
     "text": [
      "K=5 İKEN\n",
      "orjinal TRAIN setimin accuary_score=  0.9984035367800564\n",
      "orjinal TEST_1 setimin accuary_score= 0.3647279549718574\n",
      "orjinal TEST_2 setimin accuary_score= 0.21011074651353567\n",
      "------------------------------------------------------------------------------------------\n",
      "[[   0 1693]\n",
      " [   0  972]]\n",
      "             precision    recall  f1-score   support\n",
      "\n",
      "          0       0.00      0.00      0.00      1693\n",
      "          1       0.36      1.00      0.53       972\n",
      "\n",
      "avg / total       0.13      0.36      0.19      2665\n",
      "\n",
      "------------------------------------------------------------------------------------------\n",
      "[[   0 7703]\n",
      " [   0 2049]]\n",
      "             precision    recall  f1-score   support\n",
      "\n",
      "          0       0.00      0.00      0.00      7703\n",
      "          1       0.21      1.00      0.35      2049\n",
      "\n",
      "avg / total       0.04      0.21      0.07      9752\n",
      "\n"
     ]
    },
    {
     "name": "stderr",
     "output_type": "stream",
     "text": [
      "C:\\ProgramData\\Anaconda3\\lib\\site-packages\\sklearn\\metrics\\classification.py:1135: UndefinedMetricWarning: Precision and F-score are ill-defined and being set to 0.0 in labels with no predicted samples.\n",
      "  'precision', 'predicted', average, warn_for)\n",
      "C:\\ProgramData\\Anaconda3\\lib\\site-packages\\sklearn\\metrics\\classification.py:1135: UndefinedMetricWarning: Precision and F-score are ill-defined and being set to 0.0 in labels with no predicted samples.\n",
      "  'precision', 'predicted', average, warn_for)\n"
     ]
    },
    {
     "data": {
      "image/png": "[encoded data removed]",
      "text/plain": [
       "<Figure size 432x288 with 2 Axes>"
      ]
     },
     "metadata": {},
     "output_type": "display_data"
    }
   ],
   "source": [
    "#KNN ALGORİTHM-(ORJINAL VERİ ÜZERİNDE ETKİSİ K=5)\n",
    "\n",
    "kNN = KNeighborsClassifier(n_neighbors=5)\n",
    "kNN.fit(x_train,y_train)\n",
    "print(\"K=5 İKEN\")\n",
    "print(\"orjinal TRAIN setimin accuary_score= \",kNN.score(x_train,y_train))\n",
    "y_pred = kNN.predict(x_test)\n",
    "print(\"orjinal TEST_1 setimin accuary_score=\",accuracy_score(y_test, y_pred))\n",
    "y_pred2 = kNN.predict(x_test2)\n",
    "print(\"orjinal TEST_2 setimin accuary_score=\",accuracy_score(y_test2,y_pred2))\n",
    "print(\"------------------------------------------------------------------------------------------\")\n",
    "print(confusion_matrix(y_test, y_pred))  \n",
    "print(classification_report(y_test, y_pred))   \n",
    "print(\"------------------------------------------------------------------------------------------\")\n",
    "print(confusion_matrix(y_test2, y_pred2))  \n",
    "print(classification_report(y_test2, y_pred2))\n",
    "conm=confusion_matrix(y_test2,y_pred2)\n",
    "confusionMatriss(conm,['0.0','1.0'])"
   ]
  },
  {
   "cell_type": "code",
   "execution_count": 17,
   "metadata": {},
   "outputs": [
    {
     "name": "stderr",
     "output_type": "stream",
     "text": [
      "C:\\ProgramData\\Anaconda3\\lib\\site-packages\\ipykernel_launcher.py:4: DataConversionWarning: A column-vector y was passed when a 1d array was expected. Please change the shape of y to (n_samples, ), for example using ravel().\n",
      "  after removing the cwd from sys.path.\n"
     ]
    },
    {
     "name": "stdout",
     "output_type": "stream",
     "text": [
      "K=5 İKEN\n",
      "SCALE EDİLMİŞ TRAIN setimin accuary_score=  0.995947439518605\n",
      "SCALE EDİLMİŞ TEST_1 setimin accuary_score= 0.9545966228893058\n",
      "SCALE EDİLMİŞ TEST_2 setimin accuary_score= 0.975287120590648\n",
      "------------------------------------------------------------------------------------------\n",
      "[[1648   45]\n",
      " [  76  896]]\n",
      "             precision    recall  f1-score   support\n",
      "\n",
      "          0       0.96      0.97      0.96      1693\n",
      "          1       0.95      0.92      0.94       972\n",
      "\n",
      "avg / total       0.95      0.95      0.95      2665\n",
      "\n",
      "------------------------------------------------------------------------------------------\n",
      "[[7664   39]\n",
      " [ 202 1847]]\n",
      "             precision    recall  f1-score   support\n",
      "\n",
      "          0       0.97      0.99      0.98      7703\n",
      "          1       0.98      0.90      0.94      2049\n",
      "\n",
      "avg / total       0.98      0.98      0.97      9752\n",
      "\n"
     ]
    },
    {
     "data": {
      "image/png": "[encoded data removed]",
      "text/plain": [
       "<Figure size 432x288 with 2 Axes>"
      ]
     },
     "metadata": {},
     "output_type": "display_data"
    }
   ],
   "source": [
    "#KNN ALGORITHM-(SCALE EDİLMİŞ VERİ ÜZERİNDE ETKİSİ K=5)\n",
    "\n",
    "kNN = KNeighborsClassifier(n_neighbors=5)\n",
    "kNN.fit(X_train,y_train)\n",
    "print(\"K=5 İKEN\")\n",
    "print(\"SCALE EDİLMİŞ TRAIN setimin accuary_score= \",kNN.score(X_train,y_train))\n",
    "y_pred = kNN.predict(X_test)\n",
    "print(\"SCALE EDİLMİŞ TEST_1 setimin accuary_score=\",accuracy_score(y_test, y_pred))\n",
    "y_pred2 = kNN.predict(X_test2)\n",
    "print(\"SCALE EDİLMİŞ TEST_2 setimin accuary_score=\",accuracy_score(y_test2,y_pred2))\n",
    "print(\"------------------------------------------------------------------------------------------\")\n",
    "print(confusion_matrix(y_test, y_pred))  \n",
    "print(classification_report(y_test, y_pred))   \n",
    "print(\"------------------------------------------------------------------------------------------\")\n",
    "print(confusion_matrix(y_test2, y_pred2))  \n",
    "print(classification_report(y_test2, y_pred2))  \n",
    "con = confusion_matrix(y_test2,y_pred2)\n",
    "confusionMatriss(con,['0.0','1.0'])"
   ]
  },
  {
   "cell_type": "code",
   "execution_count": 18,
   "metadata": {},
   "outputs": [
    {
     "name": "stderr",
     "output_type": "stream",
     "text": [
      "C:\\ProgramData\\Anaconda3\\lib\\site-packages\\ipykernel_launcher.py:4: DataConversionWarning: A column-vector y was passed when a 1d array was expected. Please change the shape of y to (n_samples, ), for example using ravel().\n",
      "  after removing the cwd from sys.path.\n"
     ]
    },
    {
     "name": "stdout",
     "output_type": "stream",
     "text": [
      "K=5 İKEN\n",
      "YENİ FEATURE EKLENMİŞ TRAIN setimin accuary_score=  0.9984035367800564\n",
      "YENİ FEATURE EKLENMİŞ TEST_1 setimin accuary_score= 0.3647279549718574\n",
      "YENİ FEATURE EKLENMİŞ TEST_2 setimin accuary_score= 0.21011074651353567\n",
      "------------------------------------------------------------------------------------------\n",
      "[[   0 1693]\n",
      " [   0  972]]\n",
      "             precision    recall  f1-score   support\n",
      "\n",
      "          0       0.00      0.00      0.00      1693\n",
      "          1       0.36      1.00      0.53       972\n",
      "\n",
      "avg / total       0.13      0.36      0.19      2665\n",
      "\n",
      "------------------------------------------------------------------------------------------\n",
      "[[   0 7703]\n",
      " [   0 2049]]\n",
      "             precision    recall  f1-score   support\n",
      "\n",
      "          0       0.00      0.00      0.00      7703\n",
      "          1       0.21      1.00      0.35      2049\n",
      "\n",
      "avg / total       0.04      0.21      0.07      9752\n",
      "\n"
     ]
    },
    {
     "name": "stderr",
     "output_type": "stream",
     "text": [
      "C:\\ProgramData\\Anaconda3\\lib\\site-packages\\sklearn\\metrics\\classification.py:1135: UndefinedMetricWarning: Precision and F-score are ill-defined and being set to 0.0 in labels with no predicted samples.\n",
      "  'precision', 'predicted', average, warn_for)\n",
      "C:\\ProgramData\\Anaconda3\\lib\\site-packages\\sklearn\\metrics\\classification.py:1135: UndefinedMetricWarning: Precision and F-score are ill-defined and being set to 0.0 in labels with no predicted samples.\n",
      "  'precision', 'predicted', average, warn_for)\n"
     ]
    },
    {
     "data": {
      "image/png": "[encoded data removed]",
      "text/plain": [
       "<Figure size 432x288 with 2 Axes>"
      ]
     },
     "metadata": {},
     "output_type": "display_data"
    }
   ],
   "source": [
    "#KNN ALGORITHM-(YENİ FEATURE EKLENMİŞ HALİNE ETKİSİ K=5)\n",
    "\n",
    "kNN = KNeighborsClassifier(n_neighbors=5)\n",
    "kNN.fit(x_train_new,y_train)\n",
    "print(\"K=5 İKEN\")\n",
    "print(\"YENİ FEATURE EKLENMİŞ TRAIN setimin accuary_score= \",kNN.score(x_train_new,y_train))\n",
    "y_pred = kNN.predict(x_test_new)\n",
    "print(\"YENİ FEATURE EKLENMİŞ TEST_1 setimin accuary_score=\",accuracy_score(y_test, y_pred))\n",
    "y_pred2 = kNN.predict(x_test2_new)\n",
    "print(\"YENİ FEATURE EKLENMİŞ TEST_2 setimin accuary_score=\",accuracy_score(y_test2,y_pred2))\n",
    "print(\"------------------------------------------------------------------------------------------\")\n",
    "print(confusion_matrix(y_test, y_pred))  \n",
    "print(classification_report(y_test, y_pred))   \n",
    "print(\"------------------------------------------------------------------------------------------\")\n",
    "print(confusion_matrix(y_test2, y_pred2))  \n",
    "print(classification_report(y_test2, y_pred2))  \n",
    "\n",
    "conf=confusion_matrix(y_test2,y_pred2)\n",
    "confusionMatriss(conf,['0.0','1.0'])"
   ]
  },
  {
   "cell_type": "code",
   "execution_count": 26,
   "metadata": {},
   "outputs": [
    {
     "name": "stderr",
     "output_type": "stream",
     "text": [
      "C:\\ProgramData\\Anaconda3\\lib\\site-packages\\ipykernel_launcher.py:3: DataConversionWarning: A column-vector y was passed when a 1d array was expected. Please change the shape of y to (n_samples, ), for example using ravel().\n",
      "  This is separate from the ipykernel package so we can avoid doing imports until\n"
     ]
    },
    {
     "name": "stdout",
     "output_type": "stream",
     "text": [
      "K=3 İKEN\n",
      "YENİ FEATURE EKLENMİŞ VE SCALE EDİLMİŞ TRAIN setimin accuary_score=  0.9960702443816775\n",
      "YENİ FEATURE EKLENMİŞ VE SCALE EDİLMİŞ TEST_1 setimin accuary_score= 0.9189493433395872\n",
      "YENİ FEATURE EKLENMİŞ VE SCALE EDİLMİŞ TEST_2 setimin accuary_score= 0.9700574241181296\n",
      "------------------------------------------------------------------------------------------\n",
      "[[1645   48]\n",
      " [ 168  804]]\n",
      "             precision    recall  f1-score   support\n",
      "\n",
      "          0       0.91      0.97      0.94      1693\n",
      "          1       0.94      0.83      0.88       972\n",
      "\n",
      "avg / total       0.92      0.92      0.92      2665\n",
      "\n",
      "------------------------------------------------------------------------------------------\n",
      "[[7646   57]\n",
      " [ 235 1814]]\n",
      "             precision    recall  f1-score   support\n",
      "\n",
      "          0       0.97      0.99      0.98      7703\n",
      "          1       0.97      0.89      0.93      2049\n",
      "\n",
      "avg / total       0.97      0.97      0.97      9752\n",
      "\n"
     ]
    },
    {
     "data": {
      "image/png": "[encoded data removed]",
      "text/plain": [
       "<Figure size 432x288 with 2 Axes>"
      ]
     },
     "metadata": {},
     "output_type": "display_data"
    }
   ],
   "source": [
    "#KNN ALGORITHM-(YENİ FEATURE EKLENMİŞ ve SCALE EDİLMİŞ VERİ ÜZERİNDE ETKİSİ K=5)\n",
    "kNN = KNeighborsClassifier(n_neighbors=5)\n",
    "kNN.fit(X_train_new,y_train)\n",
    "print(\"K=5 İKEN\")\n",
    "print(\"YENİ FEATURE EKLENMİŞ VE SCALE EDİLMİŞ TRAIN setimin accuary_score= \",kNN.score(X_train_new,y_train))\n",
    "y_pred = kNN.predict(X_test_new)\n",
    "print(\"YENİ FEATURE EKLENMİŞ VE SCALE EDİLMİŞ TEST_1 setimin accuary_score=\",accuracy_score(y_test, y_pred))\n",
    "y_pred2 = kNN.predict(X_test2_new)\n",
    "print(\"YENİ FEATURE EKLENMİŞ VE SCALE EDİLMİŞ TEST_2 setimin accuary_score=\",accuracy_score(y_test2,y_pred2))\n",
    "print(\"------------------------------------------------------------------------------------------\")\n",
    "print(confusion_matrix(y_test, y_pred))  \n",
    "print(classification_report(y_test, y_pred))   \n",
    "print(\"------------------------------------------------------------------------------------------\")\n",
    "print(confusion_matrix(y_test2, y_pred2))  \n",
    "print(classification_report(y_test2, y_pred2)) \n",
    "confu=confusion_matrix(y_test2,y_pred2)\n",
    "confusionMatriss(confu,['0.0','1.0'])"
   ]
  },
  {
   "cell_type": "raw",
   "metadata": {},
   "source": [
    "k değerinin biraz artması ile overﬁttin devam etmektedir ama k’ nın 3 değerine görene göre iyileşme görülmektedir. "
   ]
  },
  {
   "cell_type": "markdown",
   "metadata": {},
   "source": [
    "# K=101 iken"
   ]
  },
  {
   "cell_type": "code",
   "execution_count": 19,
   "metadata": {},
   "outputs": [
    {
     "name": "stderr",
     "output_type": "stream",
     "text": [
      "C:\\ProgramData\\Anaconda3\\lib\\site-packages\\ipykernel_launcher.py:4: DataConversionWarning: A column-vector y was passed when a 1d array was expected. Please change the shape of y to (n_samples, ), for example using ravel().\n",
      "  after removing the cwd from sys.path.\n"
     ]
    },
    {
     "name": "stdout",
     "output_type": "stream",
     "text": [
      "K=101 İKEN\n",
      "orjinal TRAIN setimin accuary_score=  0.9852634164312907\n",
      "orjinal TEST_1 setimin accuary_score= 0.6352720450281426\n",
      "orjinal TEST_2 setimin accuary_score= 0.21011074651353567\n",
      "------------------------------------------------------------------------------------------\n",
      "[[1693    0]\n",
      " [ 972    0]]\n",
      "             precision    recall  f1-score   support\n",
      "\n",
      "          0       0.64      1.00      0.78      1693\n",
      "          1       0.00      0.00      0.00       972\n",
      "\n",
      "avg / total       0.40      0.64      0.49      2665\n",
      "\n",
      "------------------------------------------------------------------------------------------\n",
      "[[   0 7703]\n",
      " [   0 2049]]\n",
      "             precision    recall  f1-score   support\n",
      "\n",
      "          0       0.00      0.00      0.00      7703\n",
      "          1       0.21      1.00      0.35      2049\n",
      "\n",
      "avg / total       0.04      0.21      0.07      9752\n",
      "\n"
     ]
    },
    {
     "name": "stderr",
     "output_type": "stream",
     "text": [
      "C:\\ProgramData\\Anaconda3\\lib\\site-packages\\sklearn\\metrics\\classification.py:1135: UndefinedMetricWarning: Precision and F-score are ill-defined and being set to 0.0 in labels with no predicted samples.\n",
      "  'precision', 'predicted', average, warn_for)\n",
      "C:\\ProgramData\\Anaconda3\\lib\\site-packages\\sklearn\\metrics\\classification.py:1135: UndefinedMetricWarning: Precision and F-score are ill-defined and being set to 0.0 in labels with no predicted samples.\n",
      "  'precision', 'predicted', average, warn_for)\n"
     ]
    },
    {
     "data": {
      "image/png": "[encoded data removed]",
      "text/plain": [
       "<Figure size 432x288 with 2 Axes>"
      ]
     },
     "metadata": {},
     "output_type": "display_data"
    }
   ],
   "source": [
    "#KNN ALGORİTHM-(ORJINAL VERİ ÜZERİNDE ETKİSİ K=101)\n",
    "\n",
    "kNN = KNeighborsClassifier(n_neighbors=101)\n",
    "kNN.fit(x_train,y_train)\n",
    "print(\"K=101 İKEN\")\n",
    "print(\"orjinal TRAIN setimin accuary_score= \",kNN.score(x_train,y_train))\n",
    "y_pred = kNN.predict(x_test)\n",
    "print(\"orjinal TEST_1 setimin accuary_score=\",accuracy_score(y_test, y_pred))\n",
    "y_pred2 = kNN.predict(x_test2)\n",
    "print(\"orjinal TEST_2 setimin accuary_score=\",accuracy_score(y_test2,y_pred2))\n",
    "print(\"------------------------------------------------------------------------------------------\")\n",
    "print(confusion_matrix(y_test, y_pred))  \n",
    "print(classification_report(y_test, y_pred))   \n",
    "print(\"------------------------------------------------------------------------------------------\")\n",
    "print(confusion_matrix(y_test2, y_pred2))  \n",
    "print(classification_report(y_test2, y_pred2))  \n",
    "cor=confusion_matrix(y_test2,y_pred2)\n",
    "confusionMatriss(cor,['0.0','1.0'])"
   ]
  },
  {
   "cell_type": "code",
   "execution_count": 33,
   "metadata": {},
   "outputs": [
    {
     "name": "stderr",
     "output_type": "stream",
     "text": [
      "C:\\ProgramData\\Anaconda3\\lib\\site-packages\\ipykernel_launcher.py:4: DataConversionWarning: A column-vector y was passed when a 1d array was expected. Please change the shape of y to (n_samples, ), for example using ravel().\n",
      "  after removing the cwd from sys.path.\n"
     ]
    },
    {
     "name": "stdout",
     "output_type": "stream",
     "text": [
      "K=7 İKEN\n",
      "SCALE EDİLMİŞ TRAIN setimin accuary_score=  0.9872282942404519\n",
      "SCALE EDİLMİŞ TEST_1 setimin accuary_score= 0.9362101313320825\n",
      "SCALE EDİLMİŞ TEST_2 setimin accuary_score= 0.9914889253486464\n",
      "------------------------------------------------------------------------------------------\n",
      "[[1655   38]\n",
      " [ 132  840]]\n",
      "             precision    recall  f1-score   support\n",
      "\n",
      "          0       0.93      0.98      0.95      1693\n",
      "          1       0.96      0.86      0.91       972\n",
      "\n",
      "avg / total       0.94      0.94      0.94      2665\n",
      "\n",
      "------------------------------------------------------------------------------------------\n",
      "[[7656   47]\n",
      " [  36 2013]]\n",
      "             precision    recall  f1-score   support\n",
      "\n",
      "          0       1.00      0.99      0.99      7703\n",
      "          1       0.98      0.98      0.98      2049\n",
      "\n",
      "avg / total       0.99      0.99      0.99      9752\n",
      "\n"
     ]
    },
    {
     "data": {
      "image/png": "[encoded data removed]",
      "text/plain": [
       "<Figure size 432x288 with 2 Axes>"
      ]
     },
     "metadata": {},
     "output_type": "display_data"
    }
   ],
   "source": [
    "#KNN ALGORITHM-(SCALE EDİLMİŞ VERİ ÜZERİNDE ETKİSİ K=101)\n",
    "\n",
    "kNN = KNeighborsClassifier(n_neighbors=101)\n",
    "kNN.fit(X_train,y_train)\n",
    "print(\"K=101 İKEN\")\n",
    "print(\"SCALE EDİLMİŞ TRAIN setimin accuary_score= \",kNN.score(X_train,y_train))\n",
    "y_pred = kNN.predict(X_test)\n",
    "print(\"SCALE EDİLMİŞ TEST_1 setimin accuary_score=\",accuracy_score(y_test, y_pred))\n",
    "y_pred2 = kNN.predict(X_test2)\n",
    "print(\"SCALE EDİLMİŞ TEST_2 setimin accuary_score=\",accuracy_score(y_test2,y_pred2))\n",
    "print(\"------------------------------------------------------------------------------------------\")\n",
    "print(confusion_matrix(y_test, y_pred))  \n",
    "print(classification_report(y_test, y_pred))   \n",
    "print(\"------------------------------------------------------------------------------------------\")\n",
    "print(confusion_matrix(y_test2, y_pred2))  \n",
    "print(classification_report(y_test2, y_pred2))  \n",
    "co=confusion_matrix(y_test2,y_pred2)\n",
    "confusionMatriss(co,['0.0','1.0'])"
   ]
  },
  {
   "cell_type": "code",
   "execution_count": 20,
   "metadata": {},
   "outputs": [
    {
     "name": "stderr",
     "output_type": "stream",
     "text": [
      "C:\\ProgramData\\Anaconda3\\lib\\site-packages\\ipykernel_launcher.py:4: DataConversionWarning: A column-vector y was passed when a 1d array was expected. Please change the shape of y to (n_samples, ), for example using ravel().\n",
      "  after removing the cwd from sys.path.\n"
     ]
    },
    {
     "name": "stdout",
     "output_type": "stream",
     "text": [
      "K=101 İKEN\n",
      "YENİ FEATURE EKLENMİŞ TRAIN setimin accuary_score=  0.9852634164312907\n",
      "YENİ FEATURE EKLENMİŞ TEST_1 setimin accuary_score= 0.6352720450281426\n",
      "YENİ FEATURE EKLENMİŞ TEST_2 setimin accuary_score= 0.21011074651353567\n",
      "------------------------------------------------------------------------------------------\n",
      "[[1693    0]\n",
      " [ 972    0]]\n",
      "             precision    recall  f1-score   support\n",
      "\n",
      "          0       0.64      1.00      0.78      1693\n",
      "          1       0.00      0.00      0.00       972\n",
      "\n",
      "avg / total       0.40      0.64      0.49      2665\n",
      "\n",
      "------------------------------------------------------------------------------------------\n",
      "[[   0 7703]\n",
      " [   0 2049]]\n",
      "             precision    recall  f1-score   support\n",
      "\n",
      "          0       0.00      0.00      0.00      7703\n",
      "          1       0.21      1.00      0.35      2049\n",
      "\n",
      "avg / total       0.04      0.21      0.07      9752\n",
      "\n"
     ]
    },
    {
     "name": "stderr",
     "output_type": "stream",
     "text": [
      "C:\\ProgramData\\Anaconda3\\lib\\site-packages\\sklearn\\metrics\\classification.py:1135: UndefinedMetricWarning: Precision and F-score are ill-defined and being set to 0.0 in labels with no predicted samples.\n",
      "  'precision', 'predicted', average, warn_for)\n",
      "C:\\ProgramData\\Anaconda3\\lib\\site-packages\\sklearn\\metrics\\classification.py:1135: UndefinedMetricWarning: Precision and F-score are ill-defined and being set to 0.0 in labels with no predicted samples.\n",
      "  'precision', 'predicted', average, warn_for)\n"
     ]
    },
    {
     "data": {
      "image/png": "[encoded data removed]",
      "text/plain": [
       "<Figure size 432x288 with 2 Axes>"
      ]
     },
     "metadata": {},
     "output_type": "display_data"
    }
   ],
   "source": [
    "#KNN ALGORITHM-(YENİ FEATURE EKLENMİŞ HALİNE ETKİSİ K=101)\n",
    "\n",
    "kNN = KNeighborsClassifier(n_neighbors=101)\n",
    "kNN.fit(x_train_new,y_train)\n",
    "print(\"K=101 İKEN\")\n",
    "\n",
    "print(\"YENİ FEATURE EKLENMİŞ TRAIN setimin accuary_score= \",kNN.score(x_train_new,y_train))\n",
    "y_pred = kNN.predict(x_test_new)\n",
    "print(\"YENİ FEATURE EKLENMİŞ TEST_1 setimin accuary_score=\",accuracy_score(y_test, y_pred))\n",
    "y_pred2 = kNN.predict(x_test2_new)\n",
    "print(\"YENİ FEATURE EKLENMİŞ TEST_2 setimin accuary_score=\",accuracy_score(y_test2,y_pred2))\n",
    "print(\"------------------------------------------------------------------------------------------\")\n",
    "print(confusion_matrix(y_test, y_pred))  \n",
    "print(classification_report(y_test, y_pred))   \n",
    "print(\"------------------------------------------------------------------------------------------\")\n",
    "print(confusion_matrix(y_test2, y_pred2))  \n",
    "print(classification_report(y_test2, y_pred2))  \n",
    "cm=confusion_matrix(y_test2,y_pred2)\n",
    "confusionMatriss(cm,['0.0','1.0'])"
   ]
  },
  {
   "cell_type": "code",
   "execution_count": 30,
   "metadata": {},
   "outputs": [
    {
     "name": "stderr",
     "output_type": "stream",
     "text": [
      "C:\\ProgramData\\Anaconda3\\lib\\site-packages\\ipykernel_launcher.py:3: DataConversionWarning: A column-vector y was passed when a 1d array was expected. Please change the shape of y to (n_samples, ), for example using ravel().\n",
      "  This is separate from the ipykernel package so we can avoid doing imports until\n"
     ]
    },
    {
     "name": "stdout",
     "output_type": "stream",
     "text": [
      "K=7 İKEN\n",
      "YENİ FEATURE EKLENMİŞ VE SCALE EDİLMİŞ TRAIN setimin accuary_score=  0.9920176839002824\n",
      "YENİ FEATURE EKLENMİŞ VE SCALE EDİLMİŞ TEST_1 setimin accuary_score= 0.926078799249531\n",
      "YENİ FEATURE EKLENMİŞ VE SCALE EDİLMİŞ TEST_2 setimin accuary_score= 0.9710828547990156\n",
      "------------------------------------------------------------------------------------------\n",
      "[[1643   50]\n",
      " [ 147  825]]\n",
      "             precision    recall  f1-score   support\n",
      "\n",
      "          0       0.92      0.97      0.94      1693\n",
      "          1       0.94      0.85      0.89       972\n",
      "\n",
      "avg / total       0.93      0.93      0.93      2665\n",
      "\n",
      "------------------------------------------------------------------------------------------\n",
      "[[7629   74]\n",
      " [ 208 1841]]\n",
      "             precision    recall  f1-score   support\n",
      "\n",
      "          0       0.97      0.99      0.98      7703\n",
      "          1       0.96      0.90      0.93      2049\n",
      "\n",
      "avg / total       0.97      0.97      0.97      9752\n",
      "\n"
     ]
    },
    {
     "data": {
      "image/png": "[encoded data removed]",
      "text/plain": [
       "<Figure size 432x288 with 2 Axes>"
      ]
     },
     "metadata": {},
     "output_type": "display_data"
    }
   ],
   "source": [
    "#KNN ALGORITHM-(YENİ FEATURE EKLENMİŞ ve SCALE EDİLMİŞ VERİ ÜZERİNDE ETKİSİ K=101)\n",
    "kNN = KNeighborsClassifier(n_neighbors=101)\n",
    "kNN.fit(X_train_new,y_train)\n",
    "print(\"K=101 İKEN\")\n",
    "print(\"YENİ FEATURE EKLENMİŞ VE SCALE EDİLMİŞ TRAIN setimin accuary_score= \",kNN.score(X_train_new,y_train))\n",
    "y_pred = kNN.predict(X_test_new)\n",
    "print(\"YENİ FEATURE EKLENMİŞ VE SCALE EDİLMİŞ TEST_1 setimin accuary_score=\",accuracy_score(y_test, y_pred))\n",
    "y_pred2 = kNN.predict(X_test2_new)\n",
    "print(\"YENİ FEATURE EKLENMİŞ VE SCALE EDİLMİŞ TEST_2 setimin accuary_score=\",accuracy_score(y_test2,y_pred2))\n",
    "print(\"------------------------------------------------------------------------------------------\")\n",
    "print(confusion_matrix(y_test, y_pred))  \n",
    "print(classification_report(y_test, y_pred))   \n",
    "print(\"------------------------------------------------------------------------------------------\")\n",
    "print(confusion_matrix(y_test2, y_pred2))  \n",
    "print(classification_report(y_test2, y_pred2))  \n",
    "cn=confusion_matrix(y_test2,y_pred2)\n",
    "confusionMatriss(cn,['0.0','1.0'])"
   ]
  },
  {
   "cell_type": "raw",
   "metadata": {},
   "source": [
    "K değerinin artması veri setinin noktalarını daha yakın hale getiriyor ve bu durum komşuları bulmayı zorlaştırır.\n",
    "k’nın 101 değerinde de k=5’te olduğu gibi yeni feature’ın etkisi bulunmamaktadır. k değerine 101 verilmesi ile bile hala tam olarak overﬁt durumdan çıkmış değil. Ancak yine ölçeklendirmiş olduğumuz veri setimizden daha iyi sonuçlar elde edilmiştir.\n",
    "Sonuç olarak bu algoritmada, algoritmanın performansını doğrudan k değeriyle ilişkilidir. k parametresi, her k değerini dener ve daha sonra en uygun olanı seçer. En kötü performansı k, 1 değeri vermektedir. Çok büyük k değerini seçersek, farklı sınıﬂarın örneklerini alakasız sınıﬂara aktarabiliriz. Tam tersi, daha küçük k değerlerini seçersek, farklı sınıﬂarı örneklere aktarabilir. Pürüzsüz karar sınırli daha basit model anlamına gelir. Raporda da farklı k değerleri değiştirilmiştir. Yani daha az komsu kullanmak,yüksek model karmasıklığına neden olur. Komşu sayısı arttıkça karmaşıklık azalır, basitleşir, daha iyi sonuçlar verir."
   ]
  },
  {
   "cell_type": "markdown",
   "metadata": {},
   "source": [
    "# 2.NAIVE BAYES ALGORİTMASI\n"
   ]
  },
  {
   "cell_type": "raw",
   "metadata": {},
   "source": [
    "Naive Bayes algoritmasındaki özellikler birbirinden bağımsız olmalıdır. Olasılık ilkesine göre veriler arasında nasıl bir oransal ilişki olduğuna bakar. Bütün özellikleri eşit sayar. Her bir özelliğe ayrı ayrı bakarak parametreleri öğrenir. 3 çeşit Bayes Sınıfılandırıcı vardır; GaussianNB, BernoulliNB, MultinominalNb. Projede GaussianNB sınıﬂandırıcı kullanılmıştır.\n"
   ]
  },
  {
   "cell_type": "code",
   "execution_count": 21,
   "metadata": {},
   "outputs": [
    {
     "name": "stderr",
     "output_type": "stream",
     "text": [
      "C:\\ProgramData\\Anaconda3\\lib\\site-packages\\sklearn\\utils\\validation.py:578: DataConversionWarning: A column-vector y was passed when a 1d array was expected. Please change the shape of y to (n_samples, ), for example using ravel().\n",
      "  y = column_or_1d(y, warn=True)\n"
     ]
    },
    {
     "name": "stdout",
     "output_type": "stream",
     "text": [
      "orjinal TRAIN setimin accuary_score=  0.7876703917475132\n",
      "orjinal TEST_1 setimin accuary_score= 0.5924953095684803\n",
      "orjinal TEST_2 setimin accuary_score= 0.6036710418375718\n",
      "------------------------------------------------------------------------------------------\n",
      "[[1376  317]\n",
      " [ 769  203]]\n",
      "             precision    recall  f1-score   support\n",
      "\n",
      "          0       0.64      0.81      0.72      1693\n",
      "          1       0.39      0.21      0.27       972\n",
      "\n",
      "avg / total       0.55      0.59      0.55      2665\n",
      "\n",
      "------------------------------------------------------------------------------------------\n",
      "[[4790 2913]\n",
      " [ 952 1097]]\n",
      "             precision    recall  f1-score   support\n",
      "\n",
      "          0       0.83      0.62      0.71      7703\n",
      "          1       0.27      0.54      0.36      2049\n",
      "\n",
      "avg / total       0.72      0.60      0.64      9752\n",
      "\n"
     ]
    },
    {
     "data": {
      "image/png": "[encoded data removed]",
      "text/plain": [
       "<Figure size 432x288 with 2 Axes>"
      ]
     },
     "metadata": {},
     "output_type": "display_data"
    }
   ],
   "source": [
    "#NAIVE BAYES ALGORITHM (ORJINAL VERİ ÜZERİNE ETKİSİ)\n",
    "\n",
    "gnb = GaussianNB()\n",
    "gnb.fit(x_train,y_train)\n",
    "print(\"orjinal TRAIN setimin accuary_score= \",gnb.score(x_train,y_train))\n",
    "y_pred = gnb.predict(x_test)\n",
    "print(\"orjinal TEST_1 setimin accuary_score=\",accuracy_score(y_test, y_pred))\n",
    "y_pred2 = gnb.predict(x_test2)\n",
    "print(\"orjinal TEST_2 setimin accuary_score=\",accuracy_score(y_test2,y_pred2))\n",
    "print(\"------------------------------------------------------------------------------------------\")\n",
    "print(confusion_matrix(y_test, y_pred))  \n",
    "print(classification_report(y_test, y_pred))   \n",
    "print(\"------------------------------------------------------------------------------------------\")\n",
    "print(confusion_matrix(y_test2, y_pred2))  \n",
    "print(classification_report(y_test2, y_pred2))  \n",
    "mat=confusion_matrix(y_test2,y_pred2)\n",
    "confusionMatriss(mat,['0.0','1.0'])\n"
   ]
  },
  {
   "cell_type": "code",
   "execution_count": 22,
   "metadata": {},
   "outputs": [
    {
     "name": "stderr",
     "output_type": "stream",
     "text": [
      "C:\\ProgramData\\Anaconda3\\lib\\site-packages\\sklearn\\utils\\validation.py:578: DataConversionWarning: A column-vector y was passed when a 1d array was expected. Please change the shape of y to (n_samples, ), for example using ravel().\n",
      "  y = column_or_1d(y, warn=True)\n"
     ]
    },
    {
     "name": "stdout",
     "output_type": "stream",
     "text": [
      "SCALE EDİLMİŞ TRAIN setimin accuary_score=  0.9788775635515167\n",
      "SCALE EDİLMİŞ TEST_1 setimin accuary_score= 0.9065666041275797\n",
      "SCALE EDİLMİŞ TEST_2 setimin accuary_score= 0.9917965545529123\n",
      "------------------------------------------------------------------------------------------\n",
      "[[1682   11]\n",
      " [ 238  734]]\n",
      "             precision    recall  f1-score   support\n",
      "\n",
      "          0       0.88      0.99      0.93      1693\n",
      "          1       0.99      0.76      0.85       972\n",
      "\n",
      "avg / total       0.92      0.91      0.90      2665\n",
      "\n",
      "------------------------------------------------------------------------------------------\n",
      "[[7638   65]\n",
      " [  15 2034]]\n",
      "             precision    recall  f1-score   support\n",
      "\n",
      "          0       1.00      0.99      0.99      7703\n",
      "          1       0.97      0.99      0.98      2049\n",
      "\n",
      "avg / total       0.99      0.99      0.99      9752\n",
      "\n"
     ]
    },
    {
     "data": {
      "image/png": "[encoded data removed]",
      "text/plain": [
       "<Figure size 432x288 with 2 Axes>"
      ]
     },
     "metadata": {},
     "output_type": "display_data"
    }
   ],
   "source": [
    "#NAIVE BAYES ALGORITHM (SCALE EDİLMİŞ HALİ ÜZERİNE ETKİSİ)\n",
    "\n",
    "gnb = GaussianNB()\n",
    "gnb.fit(X_train,y_train)\n",
    "print(\"SCALE EDİLMİŞ TRAIN setimin accuary_score= \",gnb.score(X_train,y_train))\n",
    "y_pred = gnb.predict(X_test)\n",
    "print(\"SCALE EDİLMİŞ TEST_1 setimin accuary_score=\",accuracy_score(y_test, y_pred))\n",
    "y_pred2 = gnb.predict(X_test2)\n",
    "print(\"SCALE EDİLMİŞ TEST_2 setimin accuary_score=\",accuracy_score(y_test2,y_pred2))\n",
    "print(\"------------------------------------------------------------------------------------------\")\n",
    "print(confusion_matrix(y_test, y_pred))  \n",
    "print(classification_report(y_test, y_pred))   \n",
    "print(\"------------------------------------------------------------------------------------------\")\n",
    "print(confusion_matrix(y_test2, y_pred2))  \n",
    "print(classification_report(y_test2, y_pred2))  \n",
    "m=confusion_matrix(y_test2,y_pred2)\n",
    "confusionMatriss(m,['0.0','1.0'])"
   ]
  },
  {
   "cell_type": "code",
   "execution_count": 23,
   "metadata": {},
   "outputs": [
    {
     "name": "stdout",
     "output_type": "stream",
     "text": [
      "YENİ FEATURE EKLENMİŞ TRAIN setimin accuary_score=  0.7876703917475132\n",
      "YENİ FEATURE EKLENMİŞ TEST_1 setimin accuary_score= 0.5924953095684803\n",
      "YENİ FEATURE EKLENMİŞ TEST_2 setimin accuary_score= 0.6036710418375718\n",
      "------------------------------------------------------------------------------------------\n",
      "[[1376  317]\n",
      " [ 769  203]]\n",
      "             precision    recall  f1-score   support\n",
      "\n",
      "          0       0.64      0.81      0.72      1693\n",
      "          1       0.39      0.21      0.27       972\n",
      "\n",
      "avg / total       0.55      0.59      0.55      2665\n",
      "\n",
      "------------------------------------------------------------------------------------------\n",
      "[[4790 2913]\n",
      " [ 952 1097]]\n",
      "             precision    recall  f1-score   support\n",
      "\n",
      "          0       0.83      0.62      0.71      7703\n",
      "          1       0.27      0.54      0.36      2049\n",
      "\n",
      "avg / total       0.72      0.60      0.64      9752\n",
      "\n"
     ]
    },
    {
     "name": "stderr",
     "output_type": "stream",
     "text": [
      "C:\\ProgramData\\Anaconda3\\lib\\site-packages\\sklearn\\utils\\validation.py:578: DataConversionWarning: A column-vector y was passed when a 1d array was expected. Please change the shape of y to (n_samples, ), for example using ravel().\n",
      "  y = column_or_1d(y, warn=True)\n"
     ]
    },
    {
     "data": {
      "image/png": "[encoded data removed]",
      "text/plain": [
       "<Figure size 432x288 with 2 Axes>"
      ]
     },
     "metadata": {},
     "output_type": "display_data"
    }
   ],
   "source": [
    "#NAIVE BAYES ALGORITHM (YENİ FEATURE EKLENMİŞ HALİNE ETKİSİ)\n",
    "\n",
    "gnb = GaussianNB()\n",
    "gnb.fit(x_train_new,y_train)\n",
    "print(\"YENİ FEATURE EKLENMİŞ TRAIN setimin accuary_score= \",gnb.score(x_train_new,y_train))\n",
    "y_pred = gnb.predict(x_test_new)\n",
    "print(\"YENİ FEATURE EKLENMİŞ TEST_1 setimin accuary_score=\",accuracy_score(y_test, y_pred))\n",
    "y_pred2 = gnb.predict(x_test2_new)\n",
    "print(\"YENİ FEATURE EKLENMİŞ TEST_2 setimin accuary_score=\",accuracy_score(y_test2,y_pred2))\n",
    "print(\"------------------------------------------------------------------------------------------\")\n",
    "print(confusion_matrix(y_test, y_pred))  \n",
    "print(classification_report(y_test, y_pred))   \n",
    "print(\"------------------------------------------------------------------------------------------\")\n",
    "print(confusion_matrix(y_test2, y_pred2))  \n",
    "print(classification_report(y_test2, y_pred2))  \n",
    "n=confusion_matrix(y_test2,y_pred2)\n",
    "confusionMatriss(n,['0.0','1.0'])"
   ]
  },
  {
   "cell_type": "code",
   "execution_count": 133,
   "metadata": {},
   "outputs": [
    {
     "name": "stderr",
     "output_type": "stream",
     "text": [
      "C:\\ProgramData\\Anaconda3\\lib\\site-packages\\sklearn\\utils\\validation.py:578: DataConversionWarning: A column-vector y was passed when a 1d array was expected. Please change the shape of y to (n_samples, ), for example using ravel().\n",
      "  y = column_or_1d(y, warn=True)\n"
     ]
    },
    {
     "name": "stdout",
     "output_type": "stream",
     "text": [
      "YENİ FEATURE EKLENMİŞ VE SCALE EDİLMİŞ TRAIN setimin accuary_score=  0.9787547586884441\n",
      "YENİ FEATURE EKLENMİŞ VE SCALE EDİLMİŞ TEST_1 setimin accuary_score= 0.9065666041275797\n",
      "YENİ FEATURE EKLENMİŞ VE SCALE EDİLMİŞ TEST_2 setimin accuary_score= 0.9917965545529123\n",
      "------------------------------------------------------------------------------------------\n",
      "[[1682   11]\n",
      " [ 238  734]]\n",
      "             precision    recall  f1-score   support\n",
      "\n",
      "          0       0.88      0.99      0.93      1693\n",
      "          1       0.99      0.76      0.85       972\n",
      "\n",
      "avg / total       0.92      0.91      0.90      2665\n",
      "\n",
      "------------------------------------------------------------------------------------------\n",
      "[[7638   65]\n",
      " [  15 2034]]\n",
      "             precision    recall  f1-score   support\n",
      "\n",
      "          0       1.00      0.99      0.99      7703\n",
      "          1       0.97      0.99      0.98      2049\n",
      "\n",
      "avg / total       0.99      0.99      0.99      9752\n",
      "\n"
     ]
    },
    {
     "data": {
      "image/png": "[encoded data removed]",
      "text/plain": [
       "<Figure size 432x288 with 2 Axes>"
      ]
     },
     "metadata": {},
     "output_type": "display_data"
    }
   ],
   "source": [
    "#NAIVE BAYES ALGORITHM (YENİ FEATURE EKLENMİŞ ve SCALE EDİLMİŞ VERİ ÜZERİNDE ETKİSİ)\n",
    "\n",
    "gnb = GaussianNB()\n",
    "gnb.fit(X_train_new,y_train)\n",
    "print(\"YENİ FEATURE EKLENMİŞ VE SCALE EDİLMİŞ TRAIN setimin accuary_score= \",gnb.score(X_train_new,y_train))\n",
    "y_pred = gnb.predict(X_test_new)\n",
    "print(\"YENİ FEATURE EKLENMİŞ VE SCALE EDİLMİŞ TEST_1 setimin accuary_score=\",accuracy_score(y_test, y_pred))\n",
    "y_pred2 = gnb.predict(X_test2_new)\n",
    "print(\"YENİ FEATURE EKLENMİŞ VE SCALE EDİLMİŞ TEST_2 setimin accuary_score=\",accuracy_score(y_test2,y_pred2))\n",
    "print(\"------------------------------------------------------------------------------------------\")\n",
    "print(confusion_matrix(y_test, y_pred))  \n",
    "print(classification_report(y_test, y_pred))   \n",
    "print(\"------------------------------------------------------------------------------------------\")\n",
    "print(confusion_matrix(y_test2, y_pred2))  \n",
    "print(classification_report(y_test2, y_pred2))  \n",
    "nm=confusion_matrix(y_test2,y_pred2)\n",
    "confusionMatriss(nm,['0.0','1.0'])"
   ]
  },
  {
   "cell_type": "raw",
   "metadata": {},
   "source": [
    "Orjinal test setinde güzel bir sonuç elde edilmis, model öğrenmeyi iyi bir şekilde gerçekleştirmiştir. Feature eklenmesi hiçbir etki oluşturmamıştır. Ölçeklendirilmis test verisi için modelin öğrenip güzel bir genelleme yaptığı söylenebilir fakat ölçeklendirilmis test1 verilerim için modelin overfitt durumda olduğu söylenebilir.\n"
   ]
  },
  {
   "cell_type": "markdown",
   "metadata": {},
   "source": [
    "# 3.DECISION TREE CLASSIFIER ALGORİTMASI"
   ]
  },
  {
   "cell_type": "raw",
   "metadata": {},
   "source": [
    "Decision tree classifier algoritmada amaç, olabildiğince ağaç boyunu küçük tutmaya çalışmaktır. Ilk olarak saﬂığa(purity)bakılır. En kötü özelliği,hemen overﬁtolmasıdır.\n",
    "\n",
    "Overﬁt olunca çözüm olarak budama (pruning) yöntemleri kullanılır. Ağaç budamanın iki yöntemi vardır. Biri pre-pruning, ağacın büyümesini durdurur, maxsimum ağaç derinliğini belirtir. Ikincisi, ağaç tamamlandıktan sonra ağaçtaki gereksiz veriler atılır. Bir karar ağacı, düğümler, dallar ve yapraklar olmak üzere 3 özelliklere sahiptir. Bu ağaç yapısında, her düğüm bir özniteliği temsil eder, yapraklar ve dallar ağaçların diğer elemanlarıdır."
   ]
  },
  {
   "cell_type": "code",
   "execution_count": 24,
   "metadata": {},
   "outputs": [
    {
     "name": "stdout",
     "output_type": "stream",
     "text": [
      "orjinal TRAIN setimin accuary_score=  1.0\n",
      "orjinal TEST_1 setimin accuary_score= 0.9778611632270169\n",
      "orjinal TEST_2 setimin accuary_score= 0.9912838392124692\n",
      "------------------------------------------------------------------------------------------\n",
      "[[1637   56]\n",
      " [   3  969]]\n",
      "             precision    recall  f1-score   support\n",
      "\n",
      "          0       1.00      0.97      0.98      1693\n",
      "          1       0.95      1.00      0.97       972\n",
      "\n",
      "avg / total       0.98      0.98      0.98      2665\n",
      "\n",
      "------------------------------------------------------------------------------------------\n",
      "[[7630   73]\n",
      " [  12 2037]]\n",
      "             precision    recall  f1-score   support\n",
      "\n",
      "          0       1.00      0.99      0.99      7703\n",
      "          1       0.97      0.99      0.98      2049\n",
      "\n",
      "avg / total       0.99      0.99      0.99      9752\n",
      "\n"
     ]
    },
    {
     "data": {
      "image/png": "[encoded data removed]",
      "text/plain": [
       "<Figure size 432x288 with 2 Axes>"
      ]
     },
     "metadata": {},
     "output_type": "display_data"
    }
   ],
   "source": [
    "# DecisionTreeClassifier ALGORITHM (ORJINAL VERİ ÜZERİNE ETKİSİ)\n",
    "\n",
    "classifier = DecisionTreeClassifier(random_state=0)  \n",
    "classifier.fit(x_train, y_train)\n",
    "print(\"orjinal TRAIN setimin accuary_score= \",classifier.score(x_train,y_train))\n",
    "y_pred = classifier.predict(x_test) \n",
    "print(\"orjinal TEST_1 setimin accuary_score=\",accuracy_score(y_test, y_pred))\n",
    "y_pred2 = classifier.predict(x_test2)\n",
    "print(\"orjinal TEST_2 setimin accuary_score=\",accuracy_score(y_test2,y_pred2))\n",
    "print(\"------------------------------------------------------------------------------------------\")\n",
    "print(confusion_matrix(y_test, y_pred))  \n",
    "print(classification_report(y_test, y_pred))   \n",
    "print(\"------------------------------------------------------------------------------------------\")\n",
    "print(confusion_matrix(y_test2, y_pred2))  \n",
    "print(classification_report(y_test2, y_pred2))  \n",
    "onm=confusion_matrix(y_test2,y_pred2)\n",
    "confusionMatriss(onm,['0.0','1.0'])"
   ]
  },
  {
   "cell_type": "code",
   "execution_count": 135,
   "metadata": {},
   "outputs": [
    {
     "name": "stdout",
     "output_type": "stream",
     "text": [
      "SCALE EDİLMİŞ TRAIN setimin accuary_score=  1.0\n",
      "SCALE EDİLMİŞ TEST_1 setimin accuary_score= 0.9617260787992495\n",
      "SCALE EDİLMİŞ TEST_2 setimin accuary_score= 0.906070549630845\n",
      "------------------------------------------------------------------------------------------\n",
      "[[1647   46]\n",
      " [  56  916]]\n",
      "             precision    recall  f1-score   support\n",
      "\n",
      "          0       0.97      0.97      0.97      1693\n",
      "          1       0.95      0.94      0.95       972\n",
      "\n",
      "avg / total       0.96      0.96      0.96      2665\n",
      "\n",
      "------------------------------------------------------------------------------------------\n",
      "[[7381  322]\n",
      " [ 594 1455]]\n",
      "             precision    recall  f1-score   support\n",
      "\n",
      "          0       0.93      0.96      0.94      7703\n",
      "          1       0.82      0.71      0.76      2049\n",
      "\n",
      "avg / total       0.90      0.91      0.90      9752\n",
      "\n"
     ]
    },
    {
     "data": {
      "image/png": "[encoded data removed]",
      "text/plain": [
       "<Figure size 432x288 with 2 Axes>"
      ]
     },
     "metadata": {},
     "output_type": "display_data"
    }
   ],
   "source": [
    "# DecisionTreeClassifier ALGORITHM (SCALE EDİLMİŞ VERİ ÜZERİNDE ETKİSİ)\n",
    "\n",
    "classifier = DecisionTreeClassifier(criterion='entropy')  \n",
    "classifier.fit(X_train, y_train)\n",
    "print(\"SCALE EDİLMİŞ TRAIN setimin accuary_score= \",classifier.score(X_train,y_train))\n",
    "y_pred = classifier.predict(X_test) \n",
    "print(\"SCALE EDİLMİŞ TEST_1 setimin accuary_score=\",accuracy_score(y_test, y_pred))\n",
    "y_pred2 = classifier.predict(X_test2)\n",
    "print(\"SCALE EDİLMİŞ TEST_2 setimin accuary_score=\",accuracy_score(y_test2,y_pred2))\n",
    "print(\"------------------------------------------------------------------------------------------\")\n",
    "print(confusion_matrix(y_test, y_pred))  \n",
    "print(classification_report(y_test, y_pred))   \n",
    "print(\"------------------------------------------------------------------------------------------\")\n",
    "print(confusion_matrix(y_test2, y_pred2))  \n",
    "print(classification_report(y_test2, y_pred2))  \n",
    "r=confusion_matrix(y_test2,y_pred2)\n",
    "confusionMatriss(r,['0.0','1.0'])"
   ]
  },
  {
   "cell_type": "code",
   "execution_count": 25,
   "metadata": {},
   "outputs": [
    {
     "name": "stdout",
     "output_type": "stream",
     "text": [
      "YENİ FEATURE EKLENMİŞ TRAIN setimin accuary_score=  1.0\n",
      "YENİ FEATURE EKLENMİŞ TEST_1 setimin accuary_score= 0.9343339587242027\n",
      "YENİ FEATURE EKLENMİŞ TEST_2 setimin accuary_score= 0.8977645611156686\n",
      "------------------------------------------------------------------------------------------\n",
      "[[1653   40]\n",
      " [ 135  837]]\n",
      "             precision    recall  f1-score   support\n",
      "\n",
      "          0       0.92      0.98      0.95      1693\n",
      "          1       0.95      0.86      0.91       972\n",
      "\n",
      "avg / total       0.94      0.93      0.93      2665\n",
      "\n",
      "------------------------------------------------------------------------------------------\n",
      "[[6710  993]\n",
      " [   4 2045]]\n",
      "             precision    recall  f1-score   support\n",
      "\n",
      "          0       1.00      0.87      0.93      7703\n",
      "          1       0.67      1.00      0.80      2049\n",
      "\n",
      "avg / total       0.93      0.90      0.90      9752\n",
      "\n"
     ]
    },
    {
     "data": {
      "image/png": "[encoded data removed]",
      "text/plain": [
       "<Figure size 432x288 with 2 Axes>"
      ]
     },
     "metadata": {},
     "output_type": "display_data"
    }
   ],
   "source": [
    "# DecisionTreeClassifier ALGORITHM (YENİ FEATURE EKLENMİŞ HALİNE ETKİSİ)\n",
    "\n",
    "classifier = DecisionTreeClassifier(criterion='entropy')  \n",
    "classifier.fit(x_train_new, y_train)\n",
    "print(\"YENİ FEATURE EKLENMİŞ TRAIN setimin accuary_score= \",classifier.score(x_train_new,y_train))\n",
    "y_pred = classifier.predict(x_test_new) \n",
    "print(\"YENİ FEATURE EKLENMİŞ TEST_1 setimin accuary_score=\",accuracy_score(y_test, y_pred))\n",
    "y_pred2 = classifier.predict(x_test2_new)\n",
    "print(\"YENİ FEATURE EKLENMİŞ TEST_2 setimin accuary_score=\",accuracy_score(y_test2,y_pred2))\n",
    "print(\"------------------------------------------------------------------------------------------\")\n",
    "print(confusion_matrix(y_test, y_pred))  \n",
    "print(classification_report(y_test, y_pred))   \n",
    "print(\"------------------------------------------------------------------------------------------\")\n",
    "print(confusion_matrix(y_test2, y_pred2))  \n",
    "print(classification_report(y_test2, y_pred2))  \n",
    "t=confusion_matrix(y_test2,y_pred2)\n",
    "confusionMatriss(t,['0.0','1.0'])"
   ]
  },
  {
   "cell_type": "code",
   "execution_count": 26,
   "metadata": {},
   "outputs": [
    {
     "name": "stdout",
     "output_type": "stream",
     "text": [
      "YENİ FEATURE EKLENMİŞ VE SCALE EDİLMİŞ TRAIN setimin accuary_score=  1.0\n",
      "YENİ FEATURE EKLENMİŞ VE SCALE EDİLMİŞ TEST_1 setimin accuary_score= 0.9617260787992495\n",
      "YENİ FEATURE EKLENMİŞ VE SCALE EDİLMİŞ TEST_2 setimin accuary_score= 0.932526661197703\n",
      "------------------------------------------------------------------------------------------\n",
      "[[1647   46]\n",
      " [  56  916]]\n",
      "             precision    recall  f1-score   support\n",
      "\n",
      "          0       0.97      0.97      0.97      1693\n",
      "          1       0.95      0.94      0.95       972\n",
      "\n",
      "avg / total       0.96      0.96      0.96      2665\n",
      "\n",
      "------------------------------------------------------------------------------------------\n",
      "[[7376  327]\n",
      " [ 331 1718]]\n",
      "             precision    recall  f1-score   support\n",
      "\n",
      "          0       0.96      0.96      0.96      7703\n",
      "          1       0.84      0.84      0.84      2049\n",
      "\n",
      "avg / total       0.93      0.93      0.93      9752\n",
      "\n"
     ]
    },
    {
     "data": {
      "image/png": "[encoded data removed]",
      "text/plain": [
       "<Figure size 432x288 with 2 Axes>"
      ]
     },
     "metadata": {},
     "output_type": "display_data"
    }
   ],
   "source": [
    "# DecisionTreeClassifier ALGORITHM (YENİ FEATURE EKLENMİŞ ve SCALE EDİLMİŞ VERİ ÜZERİNDE ETKİSİ)\n",
    "\n",
    "classifier = DecisionTreeClassifier(criterion='entropy')  \n",
    "classifier.fit(X_train_new, y_train)\n",
    "print(\"YENİ FEATURE EKLENMİŞ VE SCALE EDİLMİŞ TRAIN setimin accuary_score= \",classifier.score(X_train_new,y_train))\n",
    "y_pred = classifier.predict(X_test_new) \n",
    "print(\"YENİ FEATURE EKLENMİŞ VE SCALE EDİLMİŞ TEST_1 setimin accuary_score=\",accuracy_score(y_test, y_pred))\n",
    "y_pred2 = classifier.predict(X_test2_new)\n",
    "print(\"YENİ FEATURE EKLENMİŞ VE SCALE EDİLMİŞ TEST_2 setimin accuary_score=\",accuracy_score(y_test2,y_pred2))\n",
    "print(\"------------------------------------------------------------------------------------------\")\n",
    "print(confusion_matrix(y_test, y_pred))  \n",
    "print(classification_report(y_test, y_pred))   \n",
    "print(\"------------------------------------------------------------------------------------------\")\n",
    "print(confusion_matrix(y_test2, y_pred2))  \n",
    "print(classification_report(y_test2, y_pred2))  \n",
    "f=confusion_matrix(y_test2,y_pred2)\n",
    "confusionMatriss(f,['0.0','1.0'])"
   ]
  },
  {
   "cell_type": "raw",
   "metadata": {},
   "source": [
    "orjinal veri setinde yapılan ölçümlerde train setimin 1 olması ezber yapmaya çalıştığını göstermektedir. Standartlaştrıma ölçeklenmesi uygulandıktan sonra bu durumun yok edilmediği ve test değerlerimle aralarındaki uzaklığın arttığı gözlemlenmiştir. Yeni feature eklenmesinin bu algoritmada etkisi olurken, feature eklendikten sonra scale edilen veri setlerim üzerinde de train setin ezber durumu bozulamamıs orjinal setteki sonuçlara göre değerlerimizin daha da düştüğü gözlemlenmiştir."
   ]
  },
  {
   "cell_type": "markdown",
   "metadata": {},
   "source": [
    "# 4.RANDOM FOREST CLASSIFIER ALGORİTMASI"
   ]
  },
  {
   "cell_type": "raw",
   "metadata": {},
   "source": [
    "Topluluk öğrenme yöntemi olan Random Forests (Rassal Orman) algoritması, bir önceki DecisionTree algoritmasında da bahsedildiği gibi DecisionTree algoritmasının hemen overﬁt olma özelliğine çözüm olarak RandomForest algoritması kullanılmaktadır. Random Forest algoritması birden fazla decision tree’lerin farklı noktalarda, farklı verisetleri üzerinde, farklı featurelarda paralel olarak çalıştırılıp bu ağaçların toplamının ortalaması alınmasına dayanmaktadır. Datayı alıyor, Random olarak örneklendiriyor. Her node, farklı datayla başlıyor, featureları paylaştırıyor.\n",
    "\n",
    "Parametre olarak maksimum agaç derinliği girilerek ağacın derinliği sınırlandırılıyor. Parametreside n_estimator,kaç ağaç kullanılacağının sayısını veriyor. max_feature parametresi ile kullanması istenilen özellik sayısı belirtilir. max_feature sayısını 1 yaparsak tek bir özellik bakmak zorunda olur, seçeneği olmaz, n özelliğe baksın istersekte tüm özelliklere bakar. DecisionTree’ deki gibi feature importance durumuna bakılabilir. Bir feature’ ın gerçekten düzgün kullanılıp kullanılmadığını anlamak istiyorsak ilk kullanılacak algoritmadır.Çok sağlam ve güçlü tek bir karar ağacından çok daha iyi sonuç verir.\n"
   ]
  },
  {
   "cell_type": "code",
   "execution_count": 30,
   "metadata": {},
   "outputs": [
    {
     "name": "stderr",
     "output_type": "stream",
     "text": [
      "C:\\ProgramData\\Anaconda3\\lib\\site-packages\\ipykernel_launcher.py:4: DataConversionWarning: A column-vector y was passed when a 1d array was expected. Please change the shape of y to (n_samples,), for example using ravel().\n",
      "  after removing the cwd from sys.path.\n",
      "C:\\ProgramData\\Anaconda3\\lib\\site-packages\\ipykernel_launcher.py:24: DataConversionWarning: A column-vector y was passed when a 1d array was expected. Please change the shape of y to (n_samples,), for example using ravel().\n"
     ]
    },
    {
     "name": "stdout",
     "output_type": "stream",
     "text": [
      "orjinal TRAIN setimin accuary_score=  1.0\n",
      "orjinal TEST_1 setimin accuary_score= 0.9362101313320825\n",
      "orjinal TEST_2 setimin accuary_score= 0.9912838392124692\n",
      "------------------------------------------------------------------------------------------\n",
      "[[1622   71]\n",
      " [  99  873]]\n",
      "             precision    recall  f1-score   support\n",
      "\n",
      "          0       0.94      0.96      0.95      1693\n",
      "          1       0.92      0.90      0.91       972\n",
      "\n",
      "avg / total       0.94      0.94      0.94      2665\n",
      "\n",
      "------------------------------------------------------------------------------------------\n",
      "[[7636   67]\n",
      " [  18 2031]]\n",
      "             precision    recall  f1-score   support\n",
      "\n",
      "          0       1.00      0.99      0.99      7703\n",
      "          1       0.97      0.99      0.98      2049\n",
      "\n",
      "avg / total       0.99      0.99      0.99      9752\n",
      "\n",
      "###########################################################################################################\n",
      "\n",
      "orjinal TRAIN setimin accuary_score=  1.0\n",
      "orjinal TEST_1 setimin accuary_score= 0.9677298311444653\n",
      "orjinal TEST_2 setimin accuary_score= 0.9905660377358491\n",
      "------------------------------------------------------------------------------------------\n",
      "[[1617   76]\n",
      " [  10  962]]\n",
      "             precision    recall  f1-score   support\n",
      "\n",
      "          0       0.99      0.96      0.97      1693\n",
      "          1       0.93      0.99      0.96       972\n",
      "\n",
      "avg / total       0.97      0.97      0.97      2665\n",
      "\n",
      "------------------------------------------------------------------------------------------\n",
      "[[7629   74]\n",
      " [  18 2031]]\n",
      "             precision    recall  f1-score   support\n",
      "\n",
      "          0       1.00      0.99      0.99      7703\n",
      "          1       0.96      0.99      0.98      2049\n",
      "\n",
      "avg / total       0.99      0.99      0.99      9752\n",
      "\n"
     ]
    },
    {
     "data": {
      "image/png": "[encoded data removed]",
      "text/plain": [
       "<Figure size 432x288 with 3 Axes>"
      ]
     },
     "metadata": {},
     "output_type": "display_data"
    }
   ],
   "source": [
    "#RANDOM_FOREST_CLASSIFIER ALGORITHM (ORJINAL VERİ ÜZERİNE)\n",
    "\n",
    "regressor = RandomForestClassifier(n_estimators=10, random_state=0)  \n",
    "regressor.fit(x_train, y_train)  \n",
    "y_pred = regressor.predict(x_test)\n",
    "print(\"orjinal TRAIN setimin accuary_score= \",regressor.score(x_train,y_train))\n",
    "y_pred = regressor.predict(x_test) \n",
    "print(\"orjinal TEST_1 setimin accuary_score=\",accuracy_score(y_test, y_pred))\n",
    "y_pred2 = regressor.predict(x_test2)\n",
    "print(\"orjinal TEST_2 setimin accuary_score=\",accuracy_score(y_test2,y_pred2))\n",
    "print(\"------------------------------------------------------------------------------------------\")\n",
    "print(confusion_matrix(y_test, y_pred))  \n",
    "print(classification_report(y_test, y_pred))   \n",
    "print(\"------------------------------------------------------------------------------------------\")\n",
    "print(confusion_matrix(y_test2, y_pred2))  \n",
    "print(classification_report(y_test2, y_pred2))\n",
    "\n",
    "regre=confusion_matrix(y_test2,y_pred2)\n",
    "confusionMatriss(regre,['0.0','1.0'])\n",
    "\n",
    "print(\"###########################################################################################################\\n\")\n",
    "\n",
    "regressor = RandomForestClassifier(n_estimators=20, random_state=0)  \n",
    "regressor.fit(x_train, y_train)  \n",
    "y_pred = regressor.predict(x_test)\n",
    "print(\"orjinal TRAIN setimin accuary_score= \",regressor.score(x_train,y_train))\n",
    "y_pred = regressor.predict(x_test) \n",
    "print(\"orjinal TEST_1 setimin accuary_score=\",accuracy_score(y_test, y_pred))\n",
    "y_pred2 = regressor.predict(x_test2)\n",
    "print(\"orjinal TEST_2 setimin accuary_score=\",accuracy_score(y_test2,y_pred2))\n",
    "print(\"------------------------------------------------------------------------------------------\")\n",
    "print(confusion_matrix(y_test, y_pred))  \n",
    "print(classification_report(y_test, y_pred))   \n",
    "print(\"------------------------------------------------------------------------------------------\")\n",
    "print(confusion_matrix(y_test2, y_pred2))  \n",
    "print(classification_report(y_test2, y_pred2))  \n",
    "\n",
    "re=confusion_matrix(y_test2,y_pred2)\n",
    "confusionMatriss(re,['0.0','1.0'])"
   ]
  },
  {
   "cell_type": "code",
   "execution_count": 31,
   "metadata": {},
   "outputs": [
    {
     "name": "stderr",
     "output_type": "stream",
     "text": [
      "C:\\ProgramData\\Anaconda3\\lib\\site-packages\\ipykernel_launcher.py:4: DataConversionWarning: A column-vector y was passed when a 1d array was expected. Please change the shape of y to (n_samples,), for example using ravel().\n",
      "  after removing the cwd from sys.path.\n",
      "C:\\ProgramData\\Anaconda3\\lib\\site-packages\\ipykernel_launcher.py:23: DataConversionWarning: A column-vector y was passed when a 1d array was expected. Please change the shape of y to (n_samples,), for example using ravel().\n"
     ]
    },
    {
     "name": "stdout",
     "output_type": "stream",
     "text": [
      "SCALE EDİLMİŞ TRAIN setimin accuary_score=  0.9996315854107822\n",
      "SCALE EDİLMİŞ TEST_1 setimin accuary_score= 0.8686679174484052\n",
      "SCALE EDİLMİŞ TEST_2 setimin accuary_score= 0.9662633305988515\n",
      "------------------------------------------------------------------------------------------\n",
      "[[1682   11]\n",
      " [ 339  633]]\n",
      "             precision    recall  f1-score   support\n",
      "\n",
      "          0       0.83      0.99      0.91      1693\n",
      "          1       0.98      0.65      0.78       972\n",
      "\n",
      "avg / total       0.89      0.87      0.86      2665\n",
      "\n",
      "------------------------------------------------------------------------------------------\n",
      "[[7659   44]\n",
      " [ 285 1764]]\n",
      "             precision    recall  f1-score   support\n",
      "\n",
      "          0       0.96      0.99      0.98      7703\n",
      "          1       0.98      0.86      0.91      2049\n",
      "\n",
      "avg / total       0.97      0.97      0.97      9752\n",
      "\n",
      "###########################################################################################################\n",
      "\n",
      "SCALE EDİLMİŞ TRAIN setimin accuary_score=  0.9997543902738548\n",
      "SCALE EDİLMİŞ TEST_1 setimin accuary_score= 0.8893058161350844\n",
      "SCALE EDİLMİŞ TEST_2 setimin accuary_score= 0.9829778506972928\n",
      "------------------------------------------------------------------------------------------\n",
      "[[1659   34]\n",
      " [ 261  711]]\n",
      "             precision    recall  f1-score   support\n",
      "\n",
      "          0       0.86      0.98      0.92      1693\n",
      "          1       0.95      0.73      0.83       972\n",
      "\n",
      "avg / total       0.90      0.89      0.89      2665\n",
      "\n",
      "------------------------------------------------------------------------------------------\n",
      "[[7652   51]\n",
      " [ 115 1934]]\n",
      "             precision    recall  f1-score   support\n",
      "\n",
      "          0       0.99      0.99      0.99      7703\n",
      "          1       0.97      0.94      0.96      2049\n",
      "\n",
      "avg / total       0.98      0.98      0.98      9752\n",
      "\n"
     ]
    },
    {
     "data": {
      "image/png": "[encoded data removed]",
      "text/plain": [
       "<Figure size 432x288 with 3 Axes>"
      ]
     },
     "metadata": {},
     "output_type": "display_data"
    }
   ],
   "source": [
    "#RANDOM_FOREST_CLASSIFIER ALGORITHM (SCALE EDİLMİŞ HALİ ÜZERİNE ETKİSİ)\n",
    "\n",
    "regressor = RandomForestClassifier(n_estimators=10, random_state=0)  \n",
    "regressor.fit(X_train, y_train)  \n",
    "y_pred = regressor.predict(X_test)\n",
    "print(\"SCALE EDİLMİŞ TRAIN setimin accuary_score= \",regressor.score(X_train,y_train))\n",
    "y_pred = regressor.predict(X_test) \n",
    "print(\"SCALE EDİLMİŞ TEST_1 setimin accuary_score=\",accuracy_score(y_test, y_pred))\n",
    "y_pred2 = regressor.predict(X_test2)\n",
    "print(\"SCALE EDİLMİŞ TEST_2 setimin accuary_score=\",accuracy_score(y_test2,y_pred2))\n",
    "print(\"------------------------------------------------------------------------------------------\")\n",
    "print(confusion_matrix(y_test, y_pred))  \n",
    "print(classification_report(y_test, y_pred))   \n",
    "print(\"------------------------------------------------------------------------------------------\")\n",
    "print(confusion_matrix(y_test2, y_pred2))  \n",
    "print(classification_report(y_test2, y_pred2))  \n",
    "lm=confusion_matrix(y_test2,y_pred2)\n",
    "confusionMatriss(lm,['0.0','1.0'])\n",
    "\n",
    "print(\"###########################################################################################################\\n\")\n",
    "\n",
    "regressor = RandomForestClassifier(n_estimators=20, random_state=0)  \n",
    "regressor.fit(X_train, y_train)  \n",
    "y_pred = regressor.predict(X_test)\n",
    "print(\"SCALE EDİLMİŞ TRAIN setimin accuary_score= \",regressor.score(X_train,y_train))\n",
    "y_pred = regressor.predict(X_test) \n",
    "print(\"SCALE EDİLMİŞ TEST_1 setimin accuary_score=\",accuracy_score(y_test, y_pred))\n",
    "y_pred2 = regressor.predict(X_test2)\n",
    "print(\"SCALE EDİLMİŞ TEST_2 setimin accuary_score=\",accuracy_score(y_test2,y_pred2))\n",
    "print(\"------------------------------------------------------------------------------------------\")\n",
    "print(confusion_matrix(y_test, y_pred))  \n",
    "print(classification_report(y_test, y_pred))   \n",
    "print(\"------------------------------------------------------------------------------------------\")\n",
    "print(confusion_matrix(y_test2, y_pred2))  \n",
    "print(classification_report(y_test2, y_pred2))\n",
    "lk=confusion_matrix(y_test2,y_pred2)\n",
    "confusionMatriss(lk,['0.0','1.0'])\n"
   ]
  },
  {
   "cell_type": "code",
   "execution_count": 32,
   "metadata": {},
   "outputs": [
    {
     "name": "stderr",
     "output_type": "stream",
     "text": [
      "C:\\ProgramData\\Anaconda3\\lib\\site-packages\\ipykernel_launcher.py:4: DataConversionWarning: A column-vector y was passed when a 1d array was expected. Please change the shape of y to (n_samples,), for example using ravel().\n",
      "  after removing the cwd from sys.path.\n",
      "C:\\ProgramData\\Anaconda3\\lib\\site-packages\\ipykernel_launcher.py:21: DataConversionWarning: A column-vector y was passed when a 1d array was expected. Please change the shape of y to (n_samples,), for example using ravel().\n"
     ]
    },
    {
     "name": "stdout",
     "output_type": "stream",
     "text": [
      "YENİ FEATURE EKLENMİŞ TRAIN setimin accuary_score=  1.0\n",
      "YENİ FEATURE EKLENMİŞ TEST_1 setimin accuary_score= 0.9362101313320825\n",
      "YENİ FEATURE EKLENMİŞ TEST_2 setimin accuary_score= 0.9912838392124692\n",
      "------------------------------------------------------------------------------------------\n",
      "[[1622   71]\n",
      " [  99  873]]\n",
      "             precision    recall  f1-score   support\n",
      "\n",
      "          0       0.94      0.96      0.95      1693\n",
      "          1       0.92      0.90      0.91       972\n",
      "\n",
      "avg / total       0.94      0.94      0.94      2665\n",
      "\n",
      "------------------------------------------------------------------------------------------\n",
      "[[7636   67]\n",
      " [  18 2031]]\n",
      "             precision    recall  f1-score   support\n",
      "\n",
      "          0       1.00      0.99      0.99      7703\n",
      "          1       0.97      0.99      0.98      2049\n",
      "\n",
      "avg / total       0.99      0.99      0.99      9752\n",
      "\n",
      "###########################################################################################################\n",
      "\n",
      "YENİ FEATURE EKLENMİŞ TRAIN setimin accuary_score=  1.0\n",
      "YENİ FEATURE EKLENMİŞ TEST_1 setimin accuary_score= 0.9677298311444653\n",
      "YENİ FEATURE EKLENMİŞ TEST_2 setimin accuary_score= 0.9905660377358491\n",
      "------------------------------------------------------------------------------------------\n",
      "[[1617   76]\n",
      " [  10  962]]\n",
      "             precision    recall  f1-score   support\n",
      "\n",
      "          0       0.99      0.96      0.97      1693\n",
      "          1       0.93      0.99      0.96       972\n",
      "\n",
      "avg / total       0.97      0.97      0.97      2665\n",
      "\n",
      "------------------------------------------------------------------------------------------\n",
      "[[7629   74]\n",
      " [  18 2031]]\n",
      "             precision    recall  f1-score   support\n",
      "\n",
      "          0       1.00      0.99      0.99      7703\n",
      "          1       0.96      0.99      0.98      2049\n",
      "\n",
      "avg / total       0.99      0.99      0.99      9752\n",
      "\n"
     ]
    },
    {
     "data": {
      "image/png": "[encoded data removed]",
      "text/plain": [
       "<Figure size 432x288 with 2 Axes>"
      ]
     },
     "metadata": {},
     "output_type": "display_data"
    }
   ],
   "source": [
    "#RANDOM_FOREST_CLASSIFIER ALGORITHM (YENİ FEATURE EKLENMİŞ HALİNE ETKİSİ)\n",
    "\n",
    "regressor = RandomForestClassifier(n_estimators=10, random_state=0)  \n",
    "regressor.fit(x_train_new, y_train)  \n",
    "y_pred = regressor.predict(x_test_new)\n",
    "print(\"YENİ FEATURE EKLENMİŞ TRAIN setimin accuary_score= \",regressor.score(x_train_new,y_train))\n",
    "y_pred = regressor.predict(x_test_new) \n",
    "print(\"YENİ FEATURE EKLENMİŞ TEST_1 setimin accuary_score=\",accuracy_score(y_test, y_pred))\n",
    "y_pred2 = regressor.predict(x_test2_new)\n",
    "print(\"YENİ FEATURE EKLENMİŞ TEST_2 setimin accuary_score=\",accuracy_score(y_test2,y_pred2))\n",
    "print(\"------------------------------------------------------------------------------------------\")\n",
    "print(confusion_matrix(y_test, y_pred))  \n",
    "print(classification_report(y_test, y_pred))   \n",
    "print(\"------------------------------------------------------------------------------------------\")\n",
    "print(confusion_matrix(y_test2, y_pred2))  \n",
    "print(classification_report(y_test2, y_pred2))  \n",
    "\n",
    "print(\"###########################################################################################################\\n\")\n",
    "\n",
    "regressor = RandomForestClassifier(n_estimators=20, random_state=0)  \n",
    "regressor.fit(x_train_new, y_train)  \n",
    "y_pred = regressor.predict(x_test_new)\n",
    "print(\"YENİ FEATURE EKLENMİŞ TRAIN setimin accuary_score= \",regressor.score(x_train_new,y_train))\n",
    "y_pred = regressor.predict(x_test_new) \n",
    "print(\"YENİ FEATURE EKLENMİŞ TEST_1 setimin accuary_score=\",accuracy_score(y_test, y_pred))\n",
    "y_pred2 = regressor.predict(x_test2_new)\n",
    "print(\"YENİ FEATURE EKLENMİŞ TEST_2 setimin accuary_score=\",accuracy_score(y_test2,y_pred2))\n",
    "print(\"------------------------------------------------------------------------------------------\")\n",
    "print(confusion_matrix(y_test, y_pred))  \n",
    "print(classification_report(y_test, y_pred))   \n",
    "print(\"------------------------------------------------------------------------------------------\")\n",
    "print(confusion_matrix(y_test2, y_pred2))  \n",
    "print(classification_report(y_test2, y_pred2))  \n",
    "tmr=confusion_matrix(y_test2,y_pred2)\n",
    "confusionMatriss(tmr,['0.0','1.0'])"
   ]
  },
  {
   "cell_type": "code",
   "execution_count": 33,
   "metadata": {},
   "outputs": [
    {
     "name": "stderr",
     "output_type": "stream",
     "text": [
      "C:\\ProgramData\\Anaconda3\\lib\\site-packages\\ipykernel_launcher.py:4: DataConversionWarning: A column-vector y was passed when a 1d array was expected. Please change the shape of y to (n_samples,), for example using ravel().\n",
      "  after removing the cwd from sys.path.\n",
      "C:\\ProgramData\\Anaconda3\\lib\\site-packages\\ipykernel_launcher.py:23: DataConversionWarning: A column-vector y was passed when a 1d array was expected. Please change the shape of y to (n_samples,), for example using ravel().\n"
     ]
    },
    {
     "name": "stdout",
     "output_type": "stream",
     "text": [
      "YENİ FEATURE EKLENMİŞ VE SCALE EDİLMİŞ TRAIN setimin accuary_score=  1.0\n",
      "YENİ FEATURE EKLENMİŞ VE SCALE EDİLMİŞ TEST_1 setimin accuary_score= 0.8949343339587242\n",
      "YENİ FEATURE EKLENMİŞ VE SCALE EDİLMİŞ TEST_2 setimin accuary_score= 0.9422682526661198\n",
      "------------------------------------------------------------------------------------------\n",
      "[[1658   35]\n",
      " [ 245  727]]\n",
      "             precision    recall  f1-score   support\n",
      "\n",
      "          0       0.87      0.98      0.92      1693\n",
      "          1       0.95      0.75      0.84       972\n",
      "\n",
      "avg / total       0.90      0.89      0.89      2665\n",
      "\n",
      "------------------------------------------------------------------------------------------\n",
      "[[7612   91]\n",
      " [ 472 1577]]\n",
      "             precision    recall  f1-score   support\n",
      "\n",
      "          0       0.94      0.99      0.96      7703\n",
      "          1       0.95      0.77      0.85      2049\n",
      "\n",
      "avg / total       0.94      0.94      0.94      9752\n",
      "\n",
      "###########################################################################################################\n",
      "\n",
      "YENİ FEATURE EKLENMİŞ VE SCALE EDİLMİŞ TRAIN setimin accuary_score=  1.0\n",
      "YENİ FEATURE EKLENMİŞ VE SCALE EDİLMİŞ TEST_1 setimin accuary_score= 0.9054409005628518\n",
      "YENİ FEATURE EKLENMİŞ VE SCALE EDİLMİŞ TEST_2 setimin accuary_score= 0.961033634126333\n",
      "------------------------------------------------------------------------------------------\n",
      "[[1656   37]\n",
      " [ 215  757]]\n",
      "             precision    recall  f1-score   support\n",
      "\n",
      "          0       0.89      0.98      0.93      1693\n",
      "          1       0.95      0.78      0.86       972\n",
      "\n",
      "avg / total       0.91      0.91      0.90      2665\n",
      "\n",
      "------------------------------------------------------------------------------------------\n",
      "[[7675   28]\n",
      " [ 352 1697]]\n",
      "             precision    recall  f1-score   support\n",
      "\n",
      "          0       0.96      1.00      0.98      7703\n",
      "          1       0.98      0.83      0.90      2049\n",
      "\n",
      "avg / total       0.96      0.96      0.96      9752\n",
      "\n"
     ]
    },
    {
     "data": {
      "image/png": "[encoded data removed]",
      "text/plain": [
       "<Figure size 432x288 with 3 Axes>"
      ]
     },
     "metadata": {},
     "output_type": "display_data"
    }
   ],
   "source": [
    "#RANDOM_FOREST_CLASSIFIER ALGORITHM (YENİ FEATURE EKLENMİŞ ve SCALE EDİLMİŞ HALİNE ETKİSİ)\n",
    "\n",
    "regressor = RandomForestClassifier(n_estimators=10, random_state=0)  \n",
    "regressor.fit(X_train_new, y_train)  \n",
    "y_pred = regressor.predict(X_test_new)\n",
    "print(\"YENİ FEATURE EKLENMİŞ VE SCALE EDİLMİŞ TRAIN setimin accuary_score= \",regressor.score(X_train_new,y_train))\n",
    "y_pred = regressor.predict(X_test_new) \n",
    "print(\"YENİ FEATURE EKLENMİŞ VE SCALE EDİLMİŞ TEST_1 setimin accuary_score=\",accuracy_score(y_test, y_pred))\n",
    "y_pred2 = regressor.predict(X_test2_new)\n",
    "print(\"YENİ FEATURE EKLENMİŞ VE SCALE EDİLMİŞ TEST_2 setimin accuary_score=\",accuracy_score(y_test2,y_pred2))\n",
    "print(\"------------------------------------------------------------------------------------------\")\n",
    "print(confusion_matrix(y_test, y_pred))  \n",
    "print(classification_report(y_test, y_pred))   \n",
    "print(\"------------------------------------------------------------------------------------------\")\n",
    "print(confusion_matrix(y_test2, y_pred2))  \n",
    "print(classification_report(y_test2, y_pred2))  \n",
    "mk=confusion_matrix(y_test2,y_pred2)\n",
    "confusionMatriss(mk,['0.0','1.0'])\n",
    "\n",
    "print(\"###########################################################################################################\\n\")\n",
    "\n",
    "regressor = RandomForestClassifier(n_estimators=20, random_state=0)  \n",
    "regressor.fit(X_train_new, y_train)  \n",
    "y_pred = regressor.predict(X_test_new)\n",
    "print(\"YENİ FEATURE EKLENMİŞ VE SCALE EDİLMİŞ TRAIN setimin accuary_score= \",regressor.score(X_train_new,y_train))\n",
    "y_pred = regressor.predict(X_test_new) \n",
    "print(\"YENİ FEATURE EKLENMİŞ VE SCALE EDİLMİŞ TEST_1 setimin accuary_score=\",accuracy_score(y_test, y_pred))\n",
    "y_pred2 = regressor.predict(X_test2_new)\n",
    "print(\"YENİ FEATURE EKLENMİŞ VE SCALE EDİLMİŞ TEST_2 setimin accuary_score=\",accuracy_score(y_test2,y_pred2))\n",
    "print(\"------------------------------------------------------------------------------------------\")\n",
    "print(confusion_matrix(y_test, y_pred))  \n",
    "print(classification_report(y_test, y_pred))   \n",
    "print(\"------------------------------------------------------------------------------------------\")\n",
    "print(confusion_matrix(y_test2, y_pred2))  \n",
    "print(classification_report(y_test2, y_pred2))  \n",
    "mt=confusion_matrix(y_test2,y_pred2)\n",
    "confusionMatriss(mt,['0.0','1.0'])"
   ]
  },
  {
   "cell_type": "raw",
   "metadata": {},
   "source": [
    " 10 tane ağacın kullanılması istendiğinde, model tamamen ezber yapmıştır ve bütün verilerde overﬁtting durumdadır. Burdan anlaşılan, ağaç sayısı arttıkça overﬁtting durumu oluşuyor. Eklenen featurenin etkisi görülmemektedir."
   ]
  },
  {
   "cell_type": "markdown",
   "metadata": {},
   "source": [
    "# 5.GRADIENT BOOSTED MACHINES ALGORİTMASI"
   ]
  },
  {
   "cell_type": "raw",
   "metadata": {},
   "source": [
    "Bir önceki DecisionTree algoritmasında da bahsedildiği gibi DecisionTree algoritmasının hemen overﬁt olma özelliğine çözüm olarak bir diğer algoritma GradientBoosted algoritması kullanılmaktadır. RandomForest algoritmasının seri halidir. Her bir ağaç bir önce eğitilen ağacın eğitim verisindeki hatası üzerinde eğitilir, yani önceki ağacın hataları bir nevi yeni etiketler haline gelir.\n"
   ]
  },
  {
   "cell_type": "code",
   "execution_count": 34,
   "metadata": {},
   "outputs": [
    {
     "name": "stderr",
     "output_type": "stream",
     "text": [
      "C:\\ProgramData\\Anaconda3\\lib\\site-packages\\sklearn\\utils\\validation.py:578: DataConversionWarning: A column-vector y was passed when a 1d array was expected. Please change the shape of y to (n_samples, ), for example using ravel().\n",
      "  y = column_or_1d(y, warn=True)\n"
     ]
    },
    {
     "name": "stdout",
     "output_type": "stream",
     "text": [
      "orjinal TRAIN setimin accuary_score=  0.9891931720496132\n",
      "orjinal TEST_1 setimin accuary_score= 0.9782363977485928\n",
      "orjinal TEST_2 setimin accuary_score= 0.993129614438064 \n",
      "\n",
      "------------------------------------------------------------------------------------------\n",
      "[[1640   53]\n",
      " [   5  967]]\n",
      "             precision    recall  f1-score   support\n",
      "\n",
      "          0       1.00      0.97      0.98      1693\n",
      "          1       0.95      0.99      0.97       972\n",
      "\n",
      "avg / total       0.98      0.98      0.98      2665\n",
      "\n",
      "------------------------------------------------------------------------------------------\n",
      "[[7648   55]\n",
      " [  12 2037]]\n",
      "             precision    recall  f1-score   support\n",
      "\n",
      "          0       1.00      0.99      1.00      7703\n",
      "          1       0.97      0.99      0.98      2049\n",
      "\n",
      "avg / total       0.99      0.99      0.99      9752\n",
      "\n",
      "########################################################################################################\n"
     ]
    },
    {
     "name": "stderr",
     "output_type": "stream",
     "text": [
      "C:\\ProgramData\\Anaconda3\\lib\\site-packages\\sklearn\\utils\\validation.py:578: DataConversionWarning: A column-vector y was passed when a 1d array was expected. Please change the shape of y to (n_samples, ), for example using ravel().\n",
      "  y = column_or_1d(y, warn=True)\n"
     ]
    },
    {
     "name": "stdout",
     "output_type": "stream",
     "text": [
      "orjinal TRAIN setimin accuary_score=  1.0\n",
      "orjinal TEST_1 setimin accuary_score= 0.9778611632270169\n",
      "orjinal TEST_2 setimin accuary_score= 0.9830803937653815 \n",
      "\n",
      "------------------------------------------------------------------------------------------\n",
      "[[1639   54]\n",
      " [   5  967]]\n",
      "             precision    recall  f1-score   support\n",
      "\n",
      "          0       1.00      0.97      0.98      1693\n",
      "          1       0.95      0.99      0.97       972\n",
      "\n",
      "avg / total       0.98      0.98      0.98      2665\n",
      "\n",
      "------------------------------------------------------------------------------------------\n",
      "[[7546  157]\n",
      " [   8 2041]]\n",
      "             precision    recall  f1-score   support\n",
      "\n",
      "          0       1.00      0.98      0.99      7703\n",
      "          1       0.93      1.00      0.96      2049\n",
      "\n",
      "avg / total       0.98      0.98      0.98      9752\n",
      "\n"
     ]
    },
    {
     "data": {
      "image/png": "[encoded data removed]",
      "text/plain": [
       "<Figure size 432x288 with 3 Axes>"
      ]
     },
     "metadata": {},
     "output_type": "display_data"
    }
   ],
   "source": [
    "#GRADIENT BOOSTED MACHINES(ORJINAL HALİNE ETKİSİ)\n",
    "\n",
    "gradientClassifier = GradientBoostingClassifier(random_state=0, max_depth=2, learning_rate=0.01)\n",
    "gradientClassifier.fit(x_train, y_train) \n",
    "print(\"orjinal TRAIN setimin accuary_score= \",gradientClassifier.score(x_train,y_train))\n",
    "y_pred = gradientClassifier.predict(x_test)\n",
    "print(\"orjinal TEST_1 setimin accuary_score=\",accuracy_score(y_test, y_pred))\n",
    "y_pred2= gradientClassifier.predict(x_test2)\n",
    "print(\"orjinal TEST_2 setimin accuary_score=\",accuracy_score(y_test2,y_pred2),\"\\n\")\n",
    "print(\"------------------------------------------------------------------------------------------\")\n",
    "print(confusion_matrix(y_test, y_pred))  \n",
    "print(classification_report(y_test, y_pred))   \n",
    "print(\"------------------------------------------------------------------------------------------\")\n",
    "print(confusion_matrix(y_test2, y_pred2))  \n",
    "print(classification_report(y_test2, y_pred2)) \n",
    "\n",
    "tr=confusion_matrix(y_test2,y_pred2)\n",
    "confusionMatriss(tr,['0.0','1.0'])\n",
    "\n",
    "print(\"########################################################################################################\")\n",
    "\n",
    "gradientClassifier = GradientBoostingClassifier(random_state=0, max_depth=20, learning_rate=0.01)\n",
    "gradientClassifier.fit(x_train, y_train) \n",
    "print(\"orjinal TRAIN setimin accuary_score= \",gradientClassifier.score(x_train,y_train))\n",
    "y_pred = gradientClassifier.predict(x_test)\n",
    "print(\"orjinal TEST_1 setimin accuary_score=\",accuracy_score(y_test, y_pred))\n",
    "y_pred2= gradientClassifier.predict(x_test2)\n",
    "print(\"orjinal TEST_2 setimin accuary_score=\",accuracy_score(y_test2,y_pred2),\"\\n\")\n",
    "print(\"------------------------------------------------------------------------------------------\")\n",
    "print(confusion_matrix(y_test, y_pred))  \n",
    "print(classification_report(y_test, y_pred))   \n",
    "print(\"------------------------------------------------------------------------------------------\")\n",
    "print(confusion_matrix(y_test2, y_pred2))  \n",
    "print(classification_report(y_test2, y_pred2))  \n",
    "\n",
    "tk=confusion_matrix(y_test2,y_pred2)\n",
    "confusionMatriss(tk,['0.0','1.0'])"
   ]
  },
  {
   "cell_type": "code",
   "execution_count": 35,
   "metadata": {},
   "outputs": [
    {
     "name": "stderr",
     "output_type": "stream",
     "text": [
      "C:\\ProgramData\\Anaconda3\\lib\\site-packages\\sklearn\\utils\\validation.py:578: DataConversionWarning: A column-vector y was passed when a 1d array was expected. Please change the shape of y to (n_samples, ), for example using ravel().\n",
      "  y = column_or_1d(y, warn=True)\n"
     ]
    },
    {
     "name": "stdout",
     "output_type": "stream",
     "text": [
      "SCALE EDİLMİŞ TRAIN setimin accuary_score=  0.9891931720496132\n",
      "SCALE EDİLMİŞ TEST_1 setimin accuary_score= 0.7444652908067543\n",
      "SCALE EDİLMİŞ TEST_2 setimin accuary_score= 0.9543683347005743 \n",
      "\n",
      "------------------------------------------------------------------------------------------\n",
      "[[1682   11]\n",
      " [ 670  302]]\n",
      "             precision    recall  f1-score   support\n",
      "\n",
      "          0       0.72      0.99      0.83      1693\n",
      "          1       0.96      0.31      0.47       972\n",
      "\n",
      "avg / total       0.81      0.74      0.70      2665\n",
      "\n",
      "------------------------------------------------------------------------------------------\n",
      "[[7671   32]\n",
      " [ 413 1636]]\n",
      "             precision    recall  f1-score   support\n",
      "\n",
      "          0       0.95      1.00      0.97      7703\n",
      "          1       0.98      0.80      0.88      2049\n",
      "\n",
      "avg / total       0.96      0.95      0.95      9752\n",
      "\n",
      "########################################################################################################\n"
     ]
    },
    {
     "name": "stderr",
     "output_type": "stream",
     "text": [
      "C:\\ProgramData\\Anaconda3\\lib\\site-packages\\sklearn\\utils\\validation.py:578: DataConversionWarning: A column-vector y was passed when a 1d array was expected. Please change the shape of y to (n_samples, ), for example using ravel().\n",
      "  y = column_or_1d(y, warn=True)\n"
     ]
    },
    {
     "name": "stdout",
     "output_type": "stream",
     "text": [
      "SCALE EDİLMİŞ TRAIN setimin accuary_score=  1.0\n",
      "SCALE EDİLMİŞ TEST_1 setimin accuary_score= 0.8540337711069418\n",
      "SCALE EDİLMİŞ TEST_2 setimin accuary_score= 0.9315012305168171 \n",
      "\n",
      "------------------------------------------------------------------------------------------\n",
      "[[1659   34]\n",
      " [ 355  617]]\n",
      "             precision    recall  f1-score   support\n",
      "\n",
      "          0       0.82      0.98      0.90      1693\n",
      "          1       0.95      0.63      0.76       972\n",
      "\n",
      "avg / total       0.87      0.85      0.85      2665\n",
      "\n",
      "------------------------------------------------------------------------------------------\n",
      "[[7676   27]\n",
      " [ 641 1408]]\n",
      "             precision    recall  f1-score   support\n",
      "\n",
      "          0       0.92      1.00      0.96      7703\n",
      "          1       0.98      0.69      0.81      2049\n",
      "\n",
      "avg / total       0.94      0.93      0.93      9752\n",
      "\n"
     ]
    },
    {
     "data": {
      "image/png": "[encoded data removed]",
      "text/plain": [
       "<Figure size 432x288 with 3 Axes>"
      ]
     },
     "metadata": {},
     "output_type": "display_data"
    }
   ],
   "source": [
    "#GRADIENT BOOSTED MACHINES(SCALE EDİLMİŞ HALİ ÜZERİNE ETKİSİ)\n",
    "\n",
    "gradientClassifier = GradientBoostingClassifier(random_state=0, max_depth=2, learning_rate=0.01)\n",
    "gradientClassifier.fit(X_train, y_train) \n",
    "print(\"SCALE EDİLMİŞ TRAIN setimin accuary_score= \",gradientClassifier.score(X_train,y_train))\n",
    "y_pred = gradientClassifier.predict(X_test)\n",
    "print(\"SCALE EDİLMİŞ TEST_1 setimin accuary_score=\",accuracy_score(y_test, y_pred))\n",
    "y_pred2= gradientClassifier.predict(X_test2) \n",
    "print(\"SCALE EDİLMİŞ TEST_2 setimin accuary_score=\",accuracy_score(y_test2,y_pred2),\"\\n\")\n",
    "print(\"------------------------------------------------------------------------------------------\")\n",
    "print(confusion_matrix(y_test, y_pred))  \n",
    "print(classification_report(y_test, y_pred))  \n",
    " \n",
    "print(\"------------------------------------------------------------------------------------------\")\n",
    "print(confusion_matrix(y_test2, y_pred2))  \n",
    "print(classification_report(y_test2, y_pred2))   \n",
    "mta=confusion_matrix(y_test2,y_pred2)\n",
    "confusionMatriss(mta,['0.0','1.0'])\n",
    "\n",
    "print(\"########################################################################################################\")\n",
    "\n",
    "gradientClassifier = GradientBoostingClassifier(random_state=0, max_depth=20, learning_rate=0.01)\n",
    "gradientClassifier.fit(X_train, y_train) \n",
    "print(\"SCALE EDİLMİŞ TRAIN setimin accuary_score= \",gradientClassifier.score(X_train,y_train))\n",
    "y_pred = gradientClassifier.predict(X_test)\n",
    "print(\"SCALE EDİLMİŞ TEST_1 setimin accuary_score=\",accuracy_score(y_test, y_pred))\n",
    "y_pred2= gradientClassifier.predict(X_test2) \n",
    "print(\"SCALE EDİLMİŞ TEST_2 setimin accuary_score=\",accuracy_score(y_test2,y_pred2),\"\\n\")\n",
    "print(\"------------------------------------------------------------------------------------------\")\n",
    "print(confusion_matrix(y_test, y_pred))  \n",
    "print(classification_report(y_test, y_pred))  \n",
    " \n",
    "print(\"------------------------------------------------------------------------------------------\")\n",
    "print(confusion_matrix(y_test2, y_pred2))  \n",
    "print(classification_report(y_test2, y_pred2))   \n",
    "rk=confusion_matrix(y_test2,y_pred2)\n",
    "confusionMatriss(rk,['0.0','1.0'])"
   ]
  },
  {
   "cell_type": "code",
   "execution_count": 37,
   "metadata": {},
   "outputs": [
    {
     "name": "stderr",
     "output_type": "stream",
     "text": [
      "C:\\ProgramData\\Anaconda3\\lib\\site-packages\\sklearn\\utils\\validation.py:578: DataConversionWarning: A column-vector y was passed when a 1d array was expected. Please change the shape of y to (n_samples, ), for example using ravel().\n",
      "  y = column_or_1d(y, warn=True)\n"
     ]
    },
    {
     "name": "stdout",
     "output_type": "stream",
     "text": [
      "YENİ FEATURE EKLENMİŞ TRAIN setimin accuary_score=  0.9891931720496132\n",
      "YENİ FEATURE EKLENMİŞ Test_1 setimin accuary_score= 0.9782363977485928\n",
      "YENİ FEATURE EKLENMİŞ Test_2 setimin accuary_score= 0.993129614438064 \n",
      "\n",
      "------------------------------------------------------------------------------------------\n",
      "[[1640   53]\n",
      " [   5  967]]\n",
      "             precision    recall  f1-score   support\n",
      "\n",
      "          0       1.00      0.97      0.98      1693\n",
      "          1       0.95      0.99      0.97       972\n",
      "\n",
      "avg / total       0.98      0.98      0.98      2665\n",
      "\n",
      "------------------------------------------------------------------------------------------\n",
      "[[7648   55]\n",
      " [  12 2037]]\n",
      "             precision    recall  f1-score   support\n",
      "\n",
      "          0       1.00      0.99      1.00      7703\n",
      "          1       0.97      0.99      0.98      2049\n",
      "\n",
      "avg / total       0.99      0.99      0.99      9752\n",
      "\n",
      "########################################################################################################\n"
     ]
    },
    {
     "name": "stderr",
     "output_type": "stream",
     "text": [
      "C:\\ProgramData\\Anaconda3\\lib\\site-packages\\sklearn\\utils\\validation.py:578: DataConversionWarning: A column-vector y was passed when a 1d array was expected. Please change the shape of y to (n_samples, ), for example using ravel().\n",
      "  y = column_or_1d(y, warn=True)\n"
     ]
    },
    {
     "name": "stdout",
     "output_type": "stream",
     "text": [
      "YENİ FEATURE EKLENMİŞ TRAIN setimin accuary_score=  1.0\n",
      "YENİ FEATURE EKLENMİŞ Test_1 setimin accuary_score= 0.9778611632270169\n",
      "YENİ FEATURE EKLENMİŞ Test_2 setimin accuary_score= 0.9830803937653815 \n",
      "\n",
      "------------------------------------------------------------------------------------------\n",
      "[[1639   54]\n",
      " [   5  967]]\n",
      "             precision    recall  f1-score   support\n",
      "\n",
      "          0       1.00      0.97      0.98      1693\n",
      "          1       0.95      0.99      0.97       972\n",
      "\n",
      "avg / total       0.98      0.98      0.98      2665\n",
      "\n",
      "------------------------------------------------------------------------------------------\n",
      "[[7546  157]\n",
      " [   8 2041]]\n",
      "             precision    recall  f1-score   support\n",
      "\n",
      "          0       1.00      0.98      0.99      7703\n",
      "          1       0.93      1.00      0.96      2049\n",
      "\n",
      "avg / total       0.98      0.98      0.98      9752\n",
      "\n"
     ]
    },
    {
     "data": {
      "image/png": "[encoded data removed]",
      "text/plain": [
       "<Figure size 432x288 with 2 Axes>"
      ]
     },
     "metadata": {},
     "output_type": "display_data"
    }
   ],
   "source": [
    "#GRADIENT BOOSTED MACHINES(YENİ FEATURE EKLENMİŞ HALİNE ETKİSİ)\n",
    "\n",
    "gradientClassifier = GradientBoostingClassifier(random_state=0, max_depth=2, learning_rate=0.01)\n",
    "gradientClassifier.fit(x_train_new, y_train) \n",
    "print(\"YENİ FEATURE EKLENMİŞ TRAIN setimin accuary_score= \",gradientClassifier.score(x_train_new,y_train))\n",
    "y_pred = gradientClassifier.predict(x_test_new)\n",
    "print(\"YENİ FEATURE EKLENMİŞ Test_1 setimin accuary_score=\",accuracy_score(y_test, y_pred))\n",
    "y_pred2= gradientClassifier.predict(x_test2_new)\n",
    "print(\"YENİ FEATURE EKLENMİŞ Test_2 setimin accuary_score=\",accuracy_score(y_test2,y_pred2),\"\\n\")\n",
    "print(\"------------------------------------------------------------------------------------------\")\n",
    "print(confusion_matrix(y_test, y_pred))  \n",
    "print(classification_report(y_test, y_pred))  \n",
    "print(\"------------------------------------------------------------------------------------------\")\n",
    "\n",
    "print(confusion_matrix(y_test2, y_pred2))  \n",
    "print(classification_report(y_test2, y_pred2))  \n",
    "\n",
    "print(\"########################################################################################################\")\n",
    "\n",
    "gradientClassifier = GradientBoostingClassifier(random_state=0, max_depth=20, learning_rate=0.01)\n",
    "gradientClassifier.fit(x_train_new, y_train) \n",
    "print(\"YENİ FEATURE EKLENMİŞ TRAIN setimin accuary_score= \",gradientClassifier.score(x_train_new,y_train))\n",
    "y_pred = gradientClassifier.predict(x_test_new)\n",
    "print(\"YENİ FEATURE EKLENMİŞ Test_1 setimin accuary_score=\",accuracy_score(y_test, y_pred))\n",
    "y_pred2= gradientClassifier.predict(x_test2_new)\n",
    "print(\"YENİ FEATURE EKLENMİŞ Test_2 setimin accuary_score=\",accuracy_score(y_test2,y_pred2),\"\\n\")\n",
    "print(\"------------------------------------------------------------------------------------------\")\n",
    "print(confusion_matrix(y_test, y_pred))  \n",
    "print(classification_report(y_test, y_pred))  \n",
    "print(\"------------------------------------------------------------------------------------------\")\n",
    "\n",
    "print(confusion_matrix(y_test2, y_pred2))  \n",
    "print(classification_report(y_test2, y_pred2))\n",
    "\n",
    "GRAC=confusion_matrix(y_test2,y_pred2)\n",
    "confusionMatriss(GRAC,['0.0','1.0'])\n"
   ]
  },
  {
   "cell_type": "code",
   "execution_count": 38,
   "metadata": {},
   "outputs": [
    {
     "name": "stderr",
     "output_type": "stream",
     "text": [
      "C:\\ProgramData\\Anaconda3\\lib\\site-packages\\sklearn\\utils\\validation.py:578: DataConversionWarning: A column-vector y was passed when a 1d array was expected. Please change the shape of y to (n_samples, ), for example using ravel().\n",
      "  y = column_or_1d(y, warn=True)\n"
     ]
    },
    {
     "name": "stdout",
     "output_type": "stream",
     "text": [
      "YENİ FEATURE EKLENMİŞ VE SCALE EDİLMİŞ TRAIN setimin accuary_score=  0.9891931720496132\n",
      "YENİ FEATURE EKLENMİŞ VE SCALE EDİLMİŞ TEST_1 setimin accuary_score= 0.7444652908067543\n",
      "YENİ FEATURE EKLENMİŞ VE SCALE EDİLMİŞ TEST_2 setimin accuary_score= 0.9543683347005743 \n",
      "\n",
      "------------------------------------------------------------------------------------------\n",
      "[[1682   11]\n",
      " [ 670  302]]\n",
      "             precision    recall  f1-score   support\n",
      "\n",
      "          0       0.72      0.99      0.83      1693\n",
      "          1       0.96      0.31      0.47       972\n",
      "\n",
      "avg / total       0.81      0.74      0.70      2665\n",
      "\n",
      "------------------------------------------------------------------------------------------\n",
      "[[7671   32]\n",
      " [ 413 1636]]\n",
      "             precision    recall  f1-score   support\n",
      "\n",
      "          0       0.95      1.00      0.97      7703\n",
      "          1       0.98      0.80      0.88      2049\n",
      "\n",
      "avg / total       0.96      0.95      0.95      9752\n",
      "\n",
      "########################################################################################################\n"
     ]
    },
    {
     "name": "stderr",
     "output_type": "stream",
     "text": [
      "C:\\ProgramData\\Anaconda3\\lib\\site-packages\\sklearn\\utils\\validation.py:578: DataConversionWarning: A column-vector y was passed when a 1d array was expected. Please change the shape of y to (n_samples, ), for example using ravel().\n",
      "  y = column_or_1d(y, warn=True)\n"
     ]
    },
    {
     "name": "stdout",
     "output_type": "stream",
     "text": [
      "YENİ FEATURE EKLENMİŞ VE SCALE EDİLMİŞ TRAIN setimin accuary_score=  1.0\n",
      "YENİ FEATURE EKLENMİŞ VE SCALE EDİLMİŞ TEST_1 setimin accuary_score= 0.8697936210131332\n",
      "YENİ FEATURE EKLENMİŞ VE SCALE EDİLMİŞ TEST_2 setimin accuary_score= 0.9322190319934373 \n",
      "\n",
      "------------------------------------------------------------------------------------------\n",
      "[[1650   43]\n",
      " [ 304  668]]\n",
      "             precision    recall  f1-score   support\n",
      "\n",
      "          0       0.84      0.97      0.90      1693\n",
      "          1       0.94      0.69      0.79       972\n",
      "\n",
      "avg / total       0.88      0.87      0.86      2665\n",
      "\n",
      "------------------------------------------------------------------------------------------\n",
      "[[7673   30]\n",
      " [ 631 1418]]\n",
      "             precision    recall  f1-score   support\n",
      "\n",
      "          0       0.92      1.00      0.96      7703\n",
      "          1       0.98      0.69      0.81      2049\n",
      "\n",
      "avg / total       0.94      0.93      0.93      9752\n",
      "\n"
     ]
    },
    {
     "data": {
      "image/png": "[encoded data removed]",
      "text/plain": [
       "<Figure size 432x288 with 2 Axes>"
      ]
     },
     "metadata": {},
     "output_type": "display_data"
    }
   ],
   "source": [
    "#GRADIENT BOOSTED MACHINES(YENİ FEATURE EKLENMİŞ ve SCALE EDİLMİŞ HALİNE ETKİSİ)\n",
    "\n",
    "gradientClassifier = GradientBoostingClassifier(random_state=0, max_depth=2, learning_rate=0.01)\n",
    "gradientClassifier.fit(X_train_new, y_train) \n",
    "print(\"YENİ FEATURE EKLENMİŞ VE SCALE EDİLMİŞ TRAIN setimin accuary_score= \",gradientClassifier.score(X_train_new,y_train))\n",
    "y_pred = gradientClassifier.predict(X_test_new)\n",
    "print(\"YENİ FEATURE EKLENMİŞ VE SCALE EDİLMİŞ TEST_1 setimin accuary_score=\",accuracy_score(y_test, y_pred))\n",
    "y_pred2= gradientClassifier.predict(X_test2_new) \n",
    "print(\"YENİ FEATURE EKLENMİŞ VE SCALE EDİLMİŞ TEST_2 setimin accuary_score=\",accuracy_score(y_test2,y_pred2),\"\\n\")\n",
    "print(\"------------------------------------------------------------------------------------------\")\n",
    "print(confusion_matrix(y_test, y_pred))  \n",
    "print(classification_report(y_test, y_pred))  \n",
    "print(\"------------------------------------------------------------------------------------------\")\n",
    "print(confusion_matrix(y_test2, y_pred2))  \n",
    "print(classification_report(y_test2, y_pred2))\n",
    "print(\"########################################################################################################\")\n",
    "\n",
    "gradientClassifier = GradientBoostingClassifier(random_state=0, max_depth=20, learning_rate=0.01)\n",
    "gradientClassifier.fit(X_train_new, y_train) \n",
    "print(\"YENİ FEATURE EKLENMİŞ VE SCALE EDİLMİŞ TRAIN setimin accuary_score= \",gradientClassifier.score(X_train_new,y_train))\n",
    "y_pred = gradientClassifier.predict(X_test_new)\n",
    "print(\"YENİ FEATURE EKLENMİŞ VE SCALE EDİLMİŞ TEST_1 setimin accuary_score=\",accuracy_score(y_test, y_pred))\n",
    "y_pred2= gradientClassifier.predict(X_test2_new) \n",
    "print(\"YENİ FEATURE EKLENMİŞ VE SCALE EDİLMİŞ TEST_2 setimin accuary_score=\",accuracy_score(y_test2,y_pred2),\"\\n\")\n",
    "print(\"------------------------------------------------------------------------------------------\")\n",
    "print(confusion_matrix(y_test, y_pred))  \n",
    "print(classification_report(y_test, y_pred))  \n",
    "print(\"------------------------------------------------------------------------------------------\")\n",
    "print(confusion_matrix(y_test2, y_pred2))  \n",
    "print(classification_report(y_test2, y_pred2))\n",
    "\n",
    "GRACF=confusion_matrix(y_test2,y_pred2)\n",
    "confusionMatriss(GRACF,['0.0','1.0'])\n"
   ]
  },
  {
   "cell_type": "raw",
   "metadata": {},
   "source": [
    "öğrenme katsayısnı sabit tutarak, depth değerini 2 ve 20 yaparak karşılaştırma yapıldı. Ve sonuç olarak verinin ölçeklendirilmesi modelimizi kötü olarak etkiledi.\n"
   ]
  },
  {
   "cell_type": "markdown",
   "metadata": {},
   "source": [
    "# 6.KERNELIZED SUPPORT VECTOR MACHINE ALGORİTMASI"
   ]
  },
  {
   "cell_type": "raw",
   "metadata": {},
   "source": [
    "Bir diğer algoritma, amacı kendisine en yakın noktalar arasındaki uzaklığı maksimuma çıkaran hiper düzlemi bulmak olan Kernelized Support Vektör Machine algoritmasıdır. ˙Iki sınıfı doğrusal veya doğrusal olmayan verilerin sınıﬂandırmada, bu iki sınıfı birbirinden ayıran en uygun karar fonksiyonunun(hiperdüzlem) tahminini yapar. Çekirdek fonksiyonu seçimi olarak RBF(gauss) kullanıldı.Veri ölçeklendirilmelidir. Parametre olarak gamma, gauss çekirdeg˘inin yarıçapı yani düzlemi bükme katsayısıdır. "
   ]
  },
  {
   "cell_type": "code",
   "execution_count": 43,
   "metadata": {},
   "outputs": [
    {
     "name": "stderr",
     "output_type": "stream",
     "text": [
      "C:\\ProgramData\\Anaconda3\\lib\\site-packages\\sklearn\\utils\\validation.py:578: DataConversionWarning: A column-vector y was passed when a 1d array was expected. Please change the shape of y to (n_samples, ), for example using ravel().\n",
      "  y = column_or_1d(y, warn=True)\n"
     ]
    },
    {
     "name": "stdout",
     "output_type": "stream",
     "text": [
      "orjinal TRAIN setimin accuary_score=  1.0\n",
      "orjinal TEST_1 setimin accuary_score= 0.6352720450281426\n",
      "orjinal TEST_2 setimin accuary_score= 0.7898892534864643 \n",
      "\n",
      "------------------------------------------------------------------------------------------\n",
      "[[1693    0]\n",
      " [ 972    0]]\n",
      "             precision    recall  f1-score   support\n",
      "\n",
      "          0       0.64      1.00      0.78      1693\n",
      "          1       0.00      0.00      0.00       972\n",
      "\n",
      "avg / total       0.40      0.64      0.49      2665\n",
      "\n",
      "------------------------------------------------------------------------------------------\n",
      "[[7703    0]\n",
      " [2049    0]]\n",
      "             precision    recall  f1-score   support\n",
      "\n",
      "          0       0.79      1.00      0.88      7703\n",
      "          1       0.00      0.00      0.00      2049\n",
      "\n",
      "avg / total       0.62      0.79      0.70      9752\n",
      "\n",
      "########################################################################################################\n"
     ]
    },
    {
     "name": "stderr",
     "output_type": "stream",
     "text": [
      "C:\\ProgramData\\Anaconda3\\lib\\site-packages\\sklearn\\metrics\\classification.py:1135: UndefinedMetricWarning: Precision and F-score are ill-defined and being set to 0.0 in labels with no predicted samples.\n",
      "  'precision', 'predicted', average, warn_for)\n",
      "C:\\ProgramData\\Anaconda3\\lib\\site-packages\\sklearn\\metrics\\classification.py:1135: UndefinedMetricWarning: Precision and F-score are ill-defined and being set to 0.0 in labels with no predicted samples.\n",
      "  'precision', 'predicted', average, warn_for)\n",
      "C:\\ProgramData\\Anaconda3\\lib\\site-packages\\sklearn\\utils\\validation.py:578: DataConversionWarning: A column-vector y was passed when a 1d array was expected. Please change the shape of y to (n_samples, ), for example using ravel().\n",
      "  y = column_or_1d(y, warn=True)\n"
     ]
    },
    {
     "name": "stdout",
     "output_type": "stream",
     "text": [
      "orjinal TRAIN setimin accuary_score=  1.0\n",
      "orjinal TEST_1 setimin accuary_score= 0.6352720450281426\n",
      "orjinal TEST_2 setimin accuary_score= 0.7898892534864643 \n",
      "\n",
      "------------------------------------------------------------------------------------------\n",
      "[[1693    0]\n",
      " [ 972    0]]\n",
      "             precision    recall  f1-score   support\n",
      "\n",
      "          0       0.64      1.00      0.78      1693\n",
      "          1       0.00      0.00      0.00       972\n",
      "\n",
      "avg / total       0.40      0.64      0.49      2665\n",
      "\n",
      "------------------------------------------------------------------------------------------\n",
      "[[7703    0]\n",
      " [2049    0]]\n",
      "             precision    recall  f1-score   support\n",
      "\n",
      "          0       0.79      1.00      0.88      7703\n",
      "          1       0.00      0.00      0.00      2049\n",
      "\n",
      "avg / total       0.62      0.79      0.70      9752\n",
      "\n"
     ]
    },
    {
     "name": "stderr",
     "output_type": "stream",
     "text": [
      "C:\\ProgramData\\Anaconda3\\lib\\site-packages\\sklearn\\metrics\\classification.py:1135: UndefinedMetricWarning: Precision and F-score are ill-defined and being set to 0.0 in labels with no predicted samples.\n",
      "  'precision', 'predicted', average, warn_for)\n",
      "C:\\ProgramData\\Anaconda3\\lib\\site-packages\\sklearn\\metrics\\classification.py:1135: UndefinedMetricWarning: Precision and F-score are ill-defined and being set to 0.0 in labels with no predicted samples.\n",
      "  'precision', 'predicted', average, warn_for)\n"
     ]
    },
    {
     "data": {
      "image/png": "[encoded data removed]",
      "text/plain": [
       "<Figure size 432x288 with 2 Axes>"
      ]
     },
     "metadata": {},
     "output_type": "display_data"
    }
   ],
   "source": [
    "#KERNELIZED SUPPORT VEKTOR MACHINE(ORJINAL HALİ ÜZERİNE ETKİSİ)\n",
    "\n",
    "svc= SVC(kernel='rbf', C=1, gamma=1)\n",
    "svc.fit(x_train, y_train) \n",
    "print(\"orjinal TRAIN setimin accuary_score= \",svc.score(x_train,y_train))\n",
    "y_pred = svc.predict(x_test)\n",
    "print(\"orjinal TEST_1 setimin accuary_score=\",accuracy_score(y_test, y_pred))\n",
    "y_pred2= svc.predict(x_test2)\n",
    "print(\"orjinal TEST_2 setimin accuary_score=\",accuracy_score(y_test2,y_pred2),\"\\n\")\n",
    "\n",
    "print(\"------------------------------------------------------------------------------------------\")\n",
    "print(confusion_matrix(y_test, y_pred))  \n",
    "print(classification_report(y_test, y_pred))  \n",
    "print(\"------------------------------------------------------------------------------------------\")\n",
    "print(confusion_matrix(y_test2, y_pred2))  \n",
    "print(classification_report(y_test2, y_pred2))   \n",
    "\n",
    "k=confusion_matrix(y_test2,y_pred2)\n",
    "confusionMatriss(k,['0.0','1.0'])\n",
    "print(\"########################################################################################################\")\n",
    "\n",
    "svc= SVC(kernel='rbf', C=7, gamma=1)\n",
    "svc.fit(x_train, y_train) \n",
    "print(\"orjinal TRAIN setimin accuary_score= \",svc.score(x_train,y_train))\n",
    "y_pred = svc.predict(x_test)\n",
    "print(\"orjinal TEST_1 setimin accuary_score=\",accuracy_score(y_test, y_pred))\n",
    "y_pred2= svc.predict(x_test2)\n",
    "print(\"orjinal TEST_2 setimin accuary_score=\",accuracy_score(y_test2,y_pred2),\"\\n\")\n",
    "\n",
    "print(\"------------------------------------------------------------------------------------------\")\n",
    "print(confusion_matrix(y_test, y_pred))  \n",
    "print(classification_report(y_test, y_pred))  \n",
    "print(\"------------------------------------------------------------------------------------------\")\n",
    "print(confusion_matrix(y_test2, y_pred2))  \n",
    "print(classification_report(y_test2, y_pred2))   "
   ]
  },
  {
   "cell_type": "code",
   "execution_count": 41,
   "metadata": {},
   "outputs": [
    {
     "name": "stderr",
     "output_type": "stream",
     "text": [
      "C:\\ProgramData\\Anaconda3\\lib\\site-packages\\sklearn\\utils\\validation.py:578: DataConversionWarning: A column-vector y was passed when a 1d array was expected. Please change the shape of y to (n_samples, ), for example using ravel().\n",
      "  y = column_or_1d(y, warn=True)\n"
     ]
    },
    {
     "name": "stdout",
     "output_type": "stream",
     "text": [
      "SCALE EDİLMİŞ TRAIN setimin accuary_score=  0.9932457325310082\n",
      "SCALE EDİLMİŞ TEST_1 setimin accuary_score= 0.8367729831144465\n",
      "SCALE EDİLMİŞ TEST_2 setimin accuary_score= 0.895611156685808 \n",
      "\n",
      "------------------------------------------------------------------------------------------\n",
      "[[1647   46]\n",
      " [ 389  583]]\n",
      "             precision    recall  f1-score   support\n",
      "\n",
      "          0       0.81      0.97      0.88      1693\n",
      "          1       0.93      0.60      0.73       972\n",
      "\n",
      "avg / total       0.85      0.84      0.83      2665\n",
      "\n",
      "------------------------------------------------------------------------------------------\n",
      "[[7686   17]\n",
      " [1001 1048]]\n",
      "             precision    recall  f1-score   support\n",
      "\n",
      "          0       0.88      1.00      0.94      7703\n",
      "          1       0.98      0.51      0.67      2049\n",
      "\n",
      "avg / total       0.91      0.90      0.88      9752\n",
      "\n",
      "########################################################################################################\n"
     ]
    },
    {
     "name": "stderr",
     "output_type": "stream",
     "text": [
      "C:\\ProgramData\\Anaconda3\\lib\\site-packages\\sklearn\\utils\\validation.py:578: DataConversionWarning: A column-vector y was passed when a 1d array was expected. Please change the shape of y to (n_samples, ), for example using ravel().\n",
      "  y = column_or_1d(y, warn=True)\n"
     ]
    },
    {
     "name": "stdout",
     "output_type": "stream",
     "text": [
      "SCALE EDİLMİŞ TRAIN setimin accuary_score=  0.9943509762986614\n",
      "SCALE EDİLMİŞ TEST_1 setimin accuary_score= 0.8724202626641651\n",
      "SCALE EDİLMİŞ TEST_2 setimin accuary_score= 0.958264971287941 \n",
      "\n",
      "------------------------------------------------------------------------------------------\n",
      "[[1641   52]\n",
      " [ 288  684]]\n",
      "             precision    recall  f1-score   support\n",
      "\n",
      "          0       0.85      0.97      0.91      1693\n",
      "          1       0.93      0.70      0.80       972\n",
      "\n",
      "avg / total       0.88      0.87      0.87      2665\n",
      "\n",
      "------------------------------------------------------------------------------------------\n",
      "[[7678   25]\n",
      " [ 382 1667]]\n",
      "             precision    recall  f1-score   support\n",
      "\n",
      "          0       0.95      1.00      0.97      7703\n",
      "          1       0.99      0.81      0.89      2049\n",
      "\n",
      "avg / total       0.96      0.96      0.96      9752\n",
      "\n"
     ]
    },
    {
     "data": {
      "image/png": "[encoded data removed]",
      "text/plain": [
       "<Figure size 432x288 with 2 Axes>"
      ]
     },
     "metadata": {},
     "output_type": "display_data"
    }
   ],
   "source": [
    "#KERNELIZED SUPPORT VEKTOR MACHINE(SCALE EDİLMİŞ HALİ ÜZERİNE ETKİSİ)\n",
    "\n",
    "svc= SVC(kernel='rbf', C=1, gamma=1)\n",
    "svc.fit(X_train, y_train) \n",
    "print(\"SCALE EDİLMİŞ TRAIN setimin accuary_score= \",svc.score(X_train,y_train))\n",
    "y_pred = svc.predict(X_test)\n",
    "print(\"SCALE EDİLMİŞ TEST_1 setimin accuary_score=\",accuracy_score(y_test, y_pred))\n",
    "y_pred2= svc.predict(X_test2)\n",
    "print(\"SCALE EDİLMİŞ TEST_2 setimin accuary_score=\",accuracy_score(y_test2,y_pred2),\"\\n\")\n",
    "print(\"------------------------------------------------------------------------------------------\")\n",
    "print(confusion_matrix(y_test, y_pred))  \n",
    "print(classification_report(y_test, y_pred))  \n",
    "print(\"------------------------------------------------------------------------------------------\")\n",
    "print(confusion_matrix(y_test2, y_pred2))  \n",
    "print(classification_report(y_test2, y_pred2))  \n",
    "\n",
    "yt=confusion_matrix(y_test2,y_pred2)\n",
    "confusionMatriss(yt,['0.0','1.0'])\n",
    "print(\"########################################################################################################\")\n",
    "svc= SVC(kernel='rbf', C=7, gamma=1)\n",
    "svc.fit(X_train, y_train) \n",
    "print(\"SCALE EDİLMİŞ TRAIN setimin accuary_score= \",svc.score(X_train,y_train))\n",
    "y_pred = svc.predict(X_test)\n",
    "print(\"SCALE EDİLMİŞ TEST_1 setimin accuary_score=\",accuracy_score(y_test, y_pred))\n",
    "y_pred2= svc.predict(X_test2)\n",
    "print(\"SCALE EDİLMİŞ TEST_2 setimin accuary_score=\",accuracy_score(y_test2,y_pred2),\"\\n\")\n",
    "print(\"------------------------------------------------------------------------------------------\")\n",
    "print(confusion_matrix(y_test, y_pred))  \n",
    "print(classification_report(y_test, y_pred))  \n",
    "print(\"------------------------------------------------------------------------------------------\")\n",
    "print(confusion_matrix(y_test2, y_pred2))  \n",
    "print(classification_report(y_test2, y_pred2))  "
   ]
  },
  {
   "cell_type": "code",
   "execution_count": 39,
   "metadata": {},
   "outputs": [
    {
     "name": "stderr",
     "output_type": "stream",
     "text": [
      "C:\\ProgramData\\Anaconda3\\lib\\site-packages\\sklearn\\utils\\validation.py:578: DataConversionWarning: A column-vector y was passed when a 1d array was expected. Please change the shape of y to (n_samples, ), for example using ravel().\n",
      "  y = column_or_1d(y, warn=True)\n"
     ]
    },
    {
     "name": "stdout",
     "output_type": "stream",
     "text": [
      "YENİ FEATURE EKLENMİŞ TRAIN setimin accuary_score=  1.0\n",
      "YENİ FEATURE EKLENMİŞ TEST_1 setimin accuary_score= 0.6352720450281426\n",
      "YENİ FEATURE EKLENMİŞ TEST_2 setimin accuary_score= 0.7898892534864643 \n",
      "\n",
      "------------------------------------------------------------------------------------------\n",
      "[[1693    0]\n",
      " [ 972    0]]\n",
      "             precision    recall  f1-score   support\n",
      "\n",
      "          0       0.64      1.00      0.78      1693\n",
      "          1       0.00      0.00      0.00       972\n",
      "\n",
      "avg / total       0.40      0.64      0.49      2665\n",
      "\n",
      "------------------------------------------------------------------------------------------\n",
      "[[7703    0]\n",
      " [2049    0]]\n",
      "             precision    recall  f1-score   support\n",
      "\n",
      "          0       0.79      1.00      0.88      7703\n",
      "          1       0.00      0.00      0.00      2049\n",
      "\n",
      "avg / total       0.62      0.79      0.70      9752\n",
      "\n",
      "###############################################################################################\n"
     ]
    },
    {
     "name": "stderr",
     "output_type": "stream",
     "text": [
      "C:\\ProgramData\\Anaconda3\\lib\\site-packages\\sklearn\\metrics\\classification.py:1135: UndefinedMetricWarning: Precision and F-score are ill-defined and being set to 0.0 in labels with no predicted samples.\n",
      "  'precision', 'predicted', average, warn_for)\n",
      "C:\\ProgramData\\Anaconda3\\lib\\site-packages\\sklearn\\metrics\\classification.py:1135: UndefinedMetricWarning: Precision and F-score are ill-defined and being set to 0.0 in labels with no predicted samples.\n",
      "  'precision', 'predicted', average, warn_for)\n",
      "C:\\ProgramData\\Anaconda3\\lib\\site-packages\\sklearn\\utils\\validation.py:578: DataConversionWarning: A column-vector y was passed when a 1d array was expected. Please change the shape of y to (n_samples, ), for example using ravel().\n",
      "  y = column_or_1d(y, warn=True)\n"
     ]
    },
    {
     "name": "stdout",
     "output_type": "stream",
     "text": [
      "YENİ FEATURE EKLENMİŞ TRAIN setimin accuary_score=  1.0\n",
      "YENİ FEATURE EKLENMİŞ TEST_1 setimin accuary_score= 0.6352720450281426\n",
      "YENİ FEATURE EKLENMİŞ TEST_2 setimin accuary_score= 0.7898892534864643 \n",
      "\n",
      "------------------------------------------------------------------------------------------\n",
      "[[1693    0]\n",
      " [ 972    0]]\n",
      "             precision    recall  f1-score   support\n",
      "\n",
      "          0       0.64      1.00      0.78      1693\n",
      "          1       0.00      0.00      0.00       972\n",
      "\n",
      "avg / total       0.40      0.64      0.49      2665\n",
      "\n",
      "------------------------------------------------------------------------------------------\n",
      "[[7703    0]\n",
      " [2049    0]]\n",
      "             precision    recall  f1-score   support\n",
      "\n",
      "          0       0.79      1.00      0.88      7703\n",
      "          1       0.00      0.00      0.00      2049\n",
      "\n",
      "avg / total       0.62      0.79      0.70      9752\n",
      "\n"
     ]
    },
    {
     "name": "stderr",
     "output_type": "stream",
     "text": [
      "C:\\ProgramData\\Anaconda3\\lib\\site-packages\\sklearn\\metrics\\classification.py:1135: UndefinedMetricWarning: Precision and F-score are ill-defined and being set to 0.0 in labels with no predicted samples.\n",
      "  'precision', 'predicted', average, warn_for)\n",
      "C:\\ProgramData\\Anaconda3\\lib\\site-packages\\sklearn\\metrics\\classification.py:1135: UndefinedMetricWarning: Precision and F-score are ill-defined and being set to 0.0 in labels with no predicted samples.\n",
      "  'precision', 'predicted', average, warn_for)\n"
     ]
    },
    {
     "data": {
      "image/png": "[encoded data removed]",
      "text/plain": [
       "<Figure size 432x288 with 2 Axes>"
      ]
     },
     "metadata": {},
     "output_type": "display_data"
    }
   ],
   "source": [
    "#KERNELIZED SUPPORT VEKTOR MACHINE(YENİ FEARTURE EKLENDİKTEN SONRA)\n",
    "\n",
    "svc= SVC(kernel='rbf', C=1, gamma=1)\n",
    "svc.fit(x_train_new, y_train)\n",
    "print(\"YENİ FEATURE EKLENMİŞ TRAIN setimin accuary_score= \",svc.score(x_train_new,y_train))\n",
    "y_pred = svc.predict(x_test_new)\n",
    "print(\"YENİ FEATURE EKLENMİŞ TEST_1 setimin accuary_score=\",accuracy_score(y_test, y_pred))\n",
    "y_pred2= svc.predict(x_test2_new)\n",
    "print(\"YENİ FEATURE EKLENMİŞ TEST_2 setimin accuary_score=\",accuracy_score(y_test2,y_pred2),\"\\n\")\n",
    "print(\"------------------------------------------------------------------------------------------\")\n",
    "\n",
    "print(confusion_matrix(y_test, y_pred))  \n",
    "print(classification_report(y_test, y_pred))  \n",
    "print(\"------------------------------------------------------------------------------------------\")\n",
    "print(confusion_matrix(y_test2, y_pred2))  \n",
    "print(classification_report(y_test2, y_pred2))  \n",
    "\n",
    "print(\"###############################################################################################\")\n",
    "\n",
    "svc= SVC(kernel='rbf', C=7, gamma=1)\n",
    "svc.fit(x_train_new, y_train)\n",
    "print(\"YENİ FEATURE EKLENMİŞ TRAIN setimin accuary_score= \",svc.score(x_train_new,y_train))\n",
    "y_pred = svc.predict(x_test_new)\n",
    "print(\"YENİ FEATURE EKLENMİŞ TEST_1 setimin accuary_score=\",accuracy_score(y_test, y_pred))\n",
    "y_pred2= svc.predict(x_test2_new)\n",
    "print(\"YENİ FEATURE EKLENMİŞ TEST_2 setimin accuary_score=\",accuracy_score(y_test2,y_pred2),\"\\n\")\n",
    "print(\"------------------------------------------------------------------------------------------\")\n",
    "\n",
    "print(confusion_matrix(y_test, y_pred))  \n",
    "print(classification_report(y_test, y_pred))  \n",
    "print(\"------------------------------------------------------------------------------------------\")\n",
    "print(confusion_matrix(y_test2, y_pred2))  \n",
    "print(classification_report(y_test2, y_pred2))\n",
    "\n",
    "yre=confusion_matrix(y_test2,y_pred2)\n",
    "confusionMatriss(yre,['0.0','1.0'])"
   ]
  },
  {
   "cell_type": "code",
   "execution_count": 40,
   "metadata": {},
   "outputs": [
    {
     "name": "stderr",
     "output_type": "stream",
     "text": [
      "C:\\ProgramData\\Anaconda3\\lib\\site-packages\\sklearn\\utils\\validation.py:578: DataConversionWarning: A column-vector y was passed when a 1d array was expected. Please change the shape of y to (n_samples, ), for example using ravel().\n",
      "  y = column_or_1d(y, warn=True)\n"
     ]
    },
    {
     "name": "stdout",
     "output_type": "stream",
     "text": [
      "YENİ FEATURE EKLENMİŞ VE SCALE EDİLMİŞ TRAIN setimin accuary_score=  0.9933685373940808\n",
      "YENİ FEATURE EKLENMİŞ VE SCALE EDİLMİŞ TEST_1 setimin accuary_score= 0.7673545966228893\n",
      "YENİ FEATURE EKLENMİŞ VE SCALE EDİLMİŞ TEST_2 setimin accuary_score= 0.894585726004922 \n",
      "\n",
      "------------------------------------------------------------------------------------------\n",
      "[[1654   39]\n",
      " [ 581  391]]\n",
      "             precision    recall  f1-score   support\n",
      "\n",
      "          0       0.74      0.98      0.84      1693\n",
      "          1       0.91      0.40      0.56       972\n",
      "\n",
      "avg / total       0.80      0.77      0.74      2665\n",
      "\n",
      "------------------------------------------------------------------------------------------\n",
      "[[7687   16]\n",
      " [1012 1037]]\n",
      "             precision    recall  f1-score   support\n",
      "\n",
      "          0       0.88      1.00      0.94      7703\n",
      "          1       0.98      0.51      0.67      2049\n",
      "\n",
      "avg / total       0.90      0.89      0.88      9752\n",
      "\n",
      "###############################################################################################\n"
     ]
    },
    {
     "name": "stderr",
     "output_type": "stream",
     "text": [
      "C:\\ProgramData\\Anaconda3\\lib\\site-packages\\sklearn\\utils\\validation.py:578: DataConversionWarning: A column-vector y was passed when a 1d array was expected. Please change the shape of y to (n_samples, ), for example using ravel().\n",
      "  y = column_or_1d(y, warn=True)\n"
     ]
    },
    {
     "name": "stdout",
     "output_type": "stream",
     "text": [
      "YENİ FEATURE EKLENMİŞ VE SCALE EDİLMİŞ TRAIN setimin accuary_score=  0.9942281714355888\n",
      "YENİ FEATURE EKLENMİŞ VE SCALE EDİLMİŞ TEST_1 setimin accuary_score= 0.8146341463414634\n",
      "YENİ FEATURE EKLENMİŞ VE SCALE EDİLMİŞ TEST_2 setimin accuary_score= 0.9159146841673503 \n",
      "\n",
      "------------------------------------------------------------------------------------------\n",
      "[[1646   47]\n",
      " [ 447  525]]\n",
      "             precision    recall  f1-score   support\n",
      "\n",
      "          0       0.79      0.97      0.87      1693\n",
      "          1       0.92      0.54      0.68       972\n",
      "\n",
      "avg / total       0.83      0.81      0.80      2665\n",
      "\n",
      "------------------------------------------------------------------------------------------\n",
      "[[7685   18]\n",
      " [ 802 1247]]\n",
      "             precision    recall  f1-score   support\n",
      "\n",
      "          0       0.91      1.00      0.95      7703\n",
      "          1       0.99      0.61      0.75      2049\n",
      "\n",
      "avg / total       0.92      0.92      0.91      9752\n",
      "\n"
     ]
    },
    {
     "data": {
      "image/png": "[encoded data removed]",
      "text/plain": [
       "<Figure size 432x288 with 2 Axes>"
      ]
     },
     "metadata": {},
     "output_type": "display_data"
    }
   ],
   "source": [
    "#KERNELIZED SUPPORT VEKTOR MACHINE(YENİ FEARTURE EKLENDİKTEN VE SCALE EDİLDİKTEN SONRA)\n",
    "\n",
    "svc= SVC(kernel='rbf', C=1, gamma=1)\n",
    "svc.fit(X_train_new, y_train) \n",
    "print(\"YENİ FEATURE EKLENMİŞ VE SCALE EDİLMİŞ TRAIN setimin accuary_score= \",svc.score(X_train_new,y_train))\n",
    "y_pred = svc.predict(X_test_new)\n",
    "print(\"YENİ FEATURE EKLENMİŞ VE SCALE EDİLMİŞ TEST_1 setimin accuary_score=\",accuracy_score(y_test, y_pred))\n",
    "y_pred2= svc.predict(X_test2_new)\n",
    "print(\"YENİ FEATURE EKLENMİŞ VE SCALE EDİLMİŞ TEST_2 setimin accuary_score=\",accuracy_score(y_test2,y_pred2),\"\\n\")\n",
    "\n",
    "print(\"------------------------------------------------------------------------------------------\")\n",
    "print(confusion_matrix(y_test, y_pred))  \n",
    "print(classification_report(y_test, y_pred))  \n",
    "\n",
    "print(\"------------------------------------------------------------------------------------------\")\n",
    "print(confusion_matrix(y_test2, y_pred2))  \n",
    "print(classification_report(y_test2, y_pred2))   \n",
    "\n",
    "print(\"###############################################################################################\")\n",
    "\n",
    "\n",
    "\n",
    "svc= SVC(kernel='rbf', C=7, gamma=1)\n",
    "svc.fit(X_train_new, y_train) \n",
    "print(\"YENİ FEATURE EKLENMİŞ VE SCALE EDİLMİŞ TRAIN setimin accuary_score= \",svc.score(X_train_new,y_train))\n",
    "y_pred = svc.predict(X_test_new)\n",
    "print(\"YENİ FEATURE EKLENMİŞ VE SCALE EDİLMİŞ TEST_1 setimin accuary_score=\",accuracy_score(y_test, y_pred))\n",
    "y_pred2= svc.predict(X_test2_new)\n",
    "print(\"YENİ FEATURE EKLENMİŞ VE SCALE EDİLMİŞ TEST_2 setimin accuary_score=\",accuracy_score(y_test2,y_pred2),\"\\n\")\n",
    "\n",
    "print(\"------------------------------------------------------------------------------------------\")\n",
    "print(confusion_matrix(y_test, y_pred))  \n",
    "print(classification_report(y_test, y_pred))  \n",
    "\n",
    "print(\"------------------------------------------------------------------------------------------\")\n",
    "print(confusion_matrix(y_test2, y_pred2))  \n",
    "print(classification_report(y_test2, y_pred2))   \n",
    "yre=confusion_matrix(y_test2,y_pred2)\n",
    "confusionMatriss(yre,['0.0','1.0'])"
   ]
  },
  {
   "cell_type": "raw",
   "metadata": {},
   "source": [
    "Eklenen feature C ve gamma’nın default değerlerinde orjinal veride etkili olmamıs ama Ölçeklendirilmis veri içinde başarıyı arttırmayı sağlamıştır. Gamma değerinin sabit tutulup c=1 ve c=7 için ölçümler yapıldığında c=7 durumunda yani c'nin arttığı noktada daha optimal gözlemler elde edilmiştir."
   ]
  },
  {
   "cell_type": "markdown",
   "metadata": {},
   "source": [
    "# 7.LOGISTIC REGRESSION ALGORİTMASI"
   ]
  },
  {
   "cell_type": "raw",
   "metadata": {},
   "source": [
    "Bu algoritma lineer modellerin sınıﬂandırması için kullandığı bir algoritmadır.Lineer modeller doğrusal bir fonksiyon kullanır.\n",
    "y=w[0]*x[0]+w[1]*x[1]*w[2]*x[2]+....+b>0\n",
    "Doğrusal model tahmin formülünün değerinin 0 dan büyük olanlar ve 0’ dan küçük olanları 2 farklı sınıfa ayırrır. Ismine rağmen regression algoritması değil, sınıﬂandırma algoritmasıdır. Regularization yapıyor. Paratme olarak düzleştirme katsayısı olarak C kullanır. Default olarak C, 1 degğeri alır. Önce C normalleştirme katsayısı default değeri ile incelenmiştir.\n"
   ]
  },
  {
   "cell_type": "code",
   "execution_count": 45,
   "metadata": {},
   "outputs": [
    {
     "name": "stderr",
     "output_type": "stream",
     "text": [
      "C:\\ProgramData\\Anaconda3\\lib\\site-packages\\sklearn\\utils\\validation.py:578: DataConversionWarning: A column-vector y was passed when a 1d array was expected. Please change the shape of y to (n_samples, ), for example using ravel().\n",
      "  y = column_or_1d(y, warn=True)\n"
     ]
    },
    {
     "name": "stdout",
     "output_type": "stream",
     "text": [
      "orjinal TRAIN setimin accuary_score=  0.7876703917475132\n",
      "orjinal TEST_1 setimin accuary_score= 0.6352720450281426\n",
      "orjinal TEST_2 setimin accuary_score= 0.7898892534864643 \n",
      "\n",
      "------------------------------------------------------------------------------------------\n",
      "[[1693    0]\n",
      " [ 972    0]]\n",
      "             precision    recall  f1-score   support\n",
      "\n",
      "          0       0.64      1.00      0.78      1693\n",
      "          1       0.00      0.00      0.00       972\n",
      "\n",
      "avg / total       0.40      0.64      0.49      2665\n",
      "\n",
      "------------------------------------------------------------------------------------------\n",
      "[[7703    0]\n",
      " [2049    0]]\n",
      "             precision    recall  f1-score   support\n",
      "\n",
      "          0       0.79      1.00      0.88      7703\n",
      "          1       0.00      0.00      0.00      2049\n",
      "\n",
      "avg / total       0.62      0.79      0.70      9752\n",
      "\n",
      "########################################################################################################\n",
      "orjinal TRAIN setimin accuary_score= "
     ]
    },
    {
     "name": "stderr",
     "output_type": "stream",
     "text": [
      "C:\\ProgramData\\Anaconda3\\lib\\site-packages\\sklearn\\metrics\\classification.py:1135: UndefinedMetricWarning: Precision and F-score are ill-defined and being set to 0.0 in labels with no predicted samples.\n",
      "  'precision', 'predicted', average, warn_for)\n",
      "C:\\ProgramData\\Anaconda3\\lib\\site-packages\\sklearn\\metrics\\classification.py:1135: UndefinedMetricWarning: Precision and F-score are ill-defined and being set to 0.0 in labels with no predicted samples.\n",
      "  'precision', 'predicted', average, warn_for)\n",
      "C:\\ProgramData\\Anaconda3\\lib\\site-packages\\sklearn\\utils\\validation.py:578: DataConversionWarning: A column-vector y was passed when a 1d array was expected. Please change the shape of y to (n_samples, ), for example using ravel().\n",
      "  y = column_or_1d(y, warn=True)\n",
      "C:\\ProgramData\\Anaconda3\\lib\\site-packages\\sklearn\\metrics\\classification.py:1135: UndefinedMetricWarning: Precision and F-score are ill-defined and being set to 0.0 in labels with no predicted samples.\n",
      "  'precision', 'predicted', average, warn_for)\n",
      "C:\\ProgramData\\Anaconda3\\lib\\site-packages\\sklearn\\metrics\\classification.py:1135: UndefinedMetricWarning: Precision and F-score are ill-defined and being set to 0.0 in labels with no predicted samples.\n",
      "  'precision', 'predicted', average, warn_for)\n"
     ]
    },
    {
     "name": "stdout",
     "output_type": "stream",
     "text": [
      " 0.7876703917475132\n",
      "orjinal TEST_1 setimin accuary_score= 0.6352720450281426\n",
      "orjinal TEST_2 setimin accuary_score= 0.7898892534864643 \n",
      "\n",
      "------------------------------------------------------------------------------------------\n",
      "[[1693    0]\n",
      " [ 972    0]]\n",
      "             precision    recall  f1-score   support\n",
      "\n",
      "          0       0.64      1.00      0.78      1693\n",
      "          1       0.00      0.00      0.00       972\n",
      "\n",
      "avg / total       0.40      0.64      0.49      2665\n",
      "\n",
      "------------------------------------------------------------------------------------------\n",
      "[[7703    0]\n",
      " [2049    0]]\n",
      "             precision    recall  f1-score   support\n",
      "\n",
      "          0       0.79      1.00      0.88      7703\n",
      "          1       0.00      0.00      0.00      2049\n",
      "\n",
      "avg / total       0.62      0.79      0.70      9752\n",
      "\n"
     ]
    },
    {
     "data": {
      "image/png": "[encoded data removed]",
      "text/plain": [
       "<Figure size 432x288 with 2 Axes>"
      ]
     },
     "metadata": {},
     "output_type": "display_data"
    }
   ],
   "source": [
    "#LOGISTIC REGRESSION (ORJINAL HALİ ÜZERİNE ETKİSİ)\n",
    "\n",
    "logregression = LogisticRegression(random_state=0, solver='lbfgs',multi_class='multinomial')\n",
    "logregression .fit(x_train,y_train)\n",
    "print(\"orjinal TRAIN setimin accuary_score= \",logregression.score(x_train,y_train))\n",
    "y_pred =logregression .predict(x_test)\n",
    "print(\"orjinal TEST_1 setimin accuary_score=\",accuracy_score(y_test, y_pred))\n",
    "y_pred2= logregression.predict(x_test2)\n",
    "print(\"orjinal TEST_2 setimin accuary_score=\",accuracy_score(y_test2,y_pred2),\"\\n\")\n",
    "\n",
    "log=confusion_matrix(y_test2,y_pred2)\n",
    "confusionMatriss(log,['0.0','1.0'])\n",
    "print(\"------------------------------------------------------------------------------------------\")\n",
    "print(confusion_matrix(y_test, y_pred))  \n",
    "print(classification_report(y_test, y_pred))  \n",
    "print(\"------------------------------------------------------------------------------------------\")\n",
    "print(confusion_matrix(y_test2, y_pred2))  \n",
    "print(classification_report(y_test2, y_pred2))  \n",
    "\n",
    "print(\"########################################################################################################\")\n",
    "\n",
    "logregression = LogisticRegression(random_state=0, solver='lbfgs',multi_class='multinomial',C=3)\n",
    "logregression .fit(x_train,y_train)\n",
    "print(\"orjinal TRAIN setimin accuary_score= \",logregression.score(x_train,y_train))\n",
    "y_pred =logregression .predict(x_test)\n",
    "print(\"orjinal TEST_1 setimin accuary_score=\",accuracy_score(y_test, y_pred))\n",
    "y_pred2= logregression.predict(x_test2)\n",
    "print(\"orjinal TEST_2 setimin accuary_score=\",accuracy_score(y_test2,y_pred2),\"\\n\")\n",
    "print(\"------------------------------------------------------------------------------------------\")\n",
    "print(confusion_matrix(y_test, y_pred))  \n",
    "print(classification_report(y_test, y_pred))  \n",
    "print(\"------------------------------------------------------------------------------------------\")\n",
    "print(confusion_matrix(y_test2, y_pred2))  \n",
    "print(classification_report(y_test2, y_pred2))  \n",
    "\n"
   ]
  },
  {
   "cell_type": "code",
   "execution_count": 125,
   "metadata": {},
   "outputs": [
    {
     "name": "stderr",
     "output_type": "stream",
     "text": [
      "C:\\ProgramData\\Anaconda3\\lib\\site-packages\\sklearn\\utils\\validation.py:578: DataConversionWarning: A column-vector y was passed when a 1d array was expected. Please change the shape of y to (n_samples, ), for example using ravel().\n",
      "  y = column_or_1d(y, warn=True)\n"
     ]
    },
    {
     "name": "stdout",
     "output_type": "stream",
     "text": [
      "SCALE EDİLMİŞ TRAIN setimin accuary_score=  0.9860002456097261\n",
      "SCALE EDİLMİŞ TEST_1 setimin accuary_score= 0.8949343339587242\n",
      "SCALE EDİLMİŞ TEST_2 setimin accuary_score= 0.9573420836751435 \n",
      "\n",
      "------------------------------------------------------------------------------------------\n",
      "[[1672   21]\n",
      " [ 259  713]]\n",
      "             precision    recall  f1-score   support\n",
      "\n",
      "          0       0.87      0.99      0.92      1693\n",
      "          1       0.97      0.73      0.84       972\n",
      "\n",
      "avg / total       0.90      0.89      0.89      2665\n",
      "\n",
      "------------------------------------------------------------------------------------------\n",
      "[[7654   49]\n",
      " [ 367 1682]]\n",
      "             precision    recall  f1-score   support\n",
      "\n",
      "          0       0.95      0.99      0.97      7703\n",
      "          1       0.97      0.82      0.89      2049\n",
      "\n",
      "avg / total       0.96      0.96      0.96      9752\n",
      "\n",
      "########################################################################################################\n",
      "SCALE EDİLMİŞ TRAIN setimin accuary_score=  0.9861230504727987\n",
      "SCALE EDİLMİŞ TEST_1 setimin accuary_score= 0.9024390243902439\n",
      "SCALE EDİLMİŞ TEST_2 setimin accuary_score= 0.9649302707136997 \n",
      "\n",
      "------------------------------------------------------------------------------------------\n",
      "[[1677   16]\n",
      " [ 244  728]]\n",
      "             precision    recall  f1-score   support\n",
      "\n",
      "          0       0.87      0.99      0.93      1693\n",
      "          1       0.98      0.75      0.85       972\n",
      "\n",
      "avg / total       0.91      0.90      0.90      2665\n",
      "\n",
      "------------------------------------------------------------------------------------------\n",
      "[[7653   50]\n",
      " [ 292 1757]]\n",
      "             precision    recall  f1-score   support\n",
      "\n",
      "          0       0.96      0.99      0.98      7703\n",
      "          1       0.97      0.86      0.91      2049\n",
      "\n",
      "avg / total       0.97      0.96      0.96      9752\n",
      "\n"
     ]
    },
    {
     "name": "stderr",
     "output_type": "stream",
     "text": [
      "C:\\ProgramData\\Anaconda3\\lib\\site-packages\\sklearn\\utils\\validation.py:578: DataConversionWarning: A column-vector y was passed when a 1d array was expected. Please change the shape of y to (n_samples, ), for example using ravel().\n",
      "  y = column_or_1d(y, warn=True)\n"
     ]
    },
    {
     "data": {
      "image/png": "[encoded data removed]",
      "text/plain": [
       "<Figure size 432x288 with 2 Axes>"
      ]
     },
     "metadata": {},
     "output_type": "display_data"
    }
   ],
   "source": [
    "#LOGISTIC REGRESSION (SCALE EDİLDİKTEN SONRA)\n",
    "\n",
    "\n",
    "logregression = LogisticRegression(random_state=0, solver='lbfgs',multi_class='multinomial',C=1)\n",
    "logregression .fit(X_train,y_train)\n",
    "print(\"SCALE EDİLMİŞ TRAIN setimin accuary_score= \",logregression.score(X_train,y_train))\n",
    "y_pred =logregression .predict(X_test)\n",
    "print(\"SCALE EDİLMİŞ TEST_1 setimin accuary_score=\",accuracy_score(y_test, y_pred))\n",
    "y_pred2= logregression.predict(X_test2)\n",
    "print(\"SCALE EDİLMİŞ TEST_2 setimin accuary_score=\",accuracy_score(y_test2,y_pred2),\"\\n\")\n",
    "print(\"------------------------------------------------------------------------------------------\")\n",
    "print(confusion_matrix(y_test, y_pred))  \n",
    "print(classification_report(y_test, y_pred))  \n",
    "\n",
    "print(\"------------------------------------------------------------------------------------------\")\n",
    "print(confusion_matrix(y_test2, y_pred2))  \n",
    "print(classification_report(y_test2, y_pred2))  \n",
    "\n",
    "lo=confusion_matrix(y_test2,y_pred2)\n",
    "confusionMatriss(lo,['0.0','1.0'])\n",
    "\n",
    "print(\"########################################################################################################\")\n",
    "\n",
    "logregression = LogisticRegression(random_state=0, solver='lbfgs',multi_class='multinomial', C=0.1)\n",
    "logregression .fit(X_train,y_train)\n",
    "print(\"SCALE EDİLMİŞ TRAIN setimin accuary_score= \",logregression.score(X_train,y_train))\n",
    "y_pred =logregression .predict(X_test)\n",
    "print(\"SCALE EDİLMİŞ TEST_1 setimin accuary_score=\",accuracy_score(y_test, y_pred))\n",
    "y_pred2= logregression.predict(X_test2)\n",
    "print(\"SCALE EDİLMİŞ TEST_2 setimin accuary_score=\",accuracy_score(y_test2,y_pred2),\"\\n\")\n",
    "print(\"------------------------------------------------------------------------------------------\")\n",
    "print(confusion_matrix(y_test, y_pred))  \n",
    "print(classification_report(y_test, y_pred))  \n",
    "\n",
    "print(\"------------------------------------------------------------------------------------------\")\n",
    "print(confusion_matrix(y_test2, y_pred2))  \n",
    "print(classification_report(y_test2, y_pred2))  \n"
   ]
  },
  {
   "cell_type": "code",
   "execution_count": 41,
   "metadata": {},
   "outputs": [
    {
     "name": "stderr",
     "output_type": "stream",
     "text": [
      "C:\\ProgramData\\Anaconda3\\lib\\site-packages\\sklearn\\utils\\validation.py:578: DataConversionWarning: A column-vector y was passed when a 1d array was expected. Please change the shape of y to (n_samples, ), for example using ravel().\n",
      "  y = column_or_1d(y, warn=True)\n"
     ]
    },
    {
     "name": "stdout",
     "output_type": "stream",
     "text": [
      "YENİ FEATURE EKLENMİŞ TRAIN setimin accuary_score=  0.7876703917475132\n",
      "YENİ FEATURE EKLENMİŞYENİ FEATURE EKLENMİŞ TEST_1 setimin accuary_score= 0.6352720450281426\n",
      "YENİ FEATURE EKLENMİŞ TEST_2 setimin accuary_score= 0.7898892534864643 \n",
      "\n",
      "------------------------------------------------------------------------------------------\n",
      "[[1693    0]\n",
      " [ 972    0]]\n",
      "             precision    recall  f1-score   support\n",
      "\n",
      "          0       0.64      1.00      0.78      1693\n",
      "          1       0.00      0.00      0.00       972\n",
      "\n",
      "avg / total       0.40      0.64      0.49      2665\n",
      "\n",
      "------------------------------------------------------------------------------------------\n",
      "[[7703    0]\n",
      " [2049    0]]\n",
      "             precision    recall  f1-score   support\n",
      "\n",
      "          0       0.79      1.00      0.88      7703\n",
      "          1       0.00      0.00      0.00      2049\n",
      "\n",
      "avg / total       0.62      0.79      0.70      9752\n",
      "\n",
      "########################################################################################################\n",
      "YENİ FEATURE EKLENMİŞ TRAIN setimin accuary_score=  0.7876703917475132\n",
      "YENİ FEATURE EKLENMİŞYENİ FEATURE EKLENMİŞ TEST_1 setimin accuary_score= 0.6352720450281426\n",
      "YENİ FEATURE EKLENMİŞ TEST_2 setimin accuary_score= 0.7898892534864643 \n",
      "\n",
      "------------------------------------------------------------------------------------------\n",
      "[[1693    0]\n",
      " [ 972    0]]\n",
      "             precision    recall  f1-score   support\n",
      "\n",
      "          0       0.64      1.00      0.78      1693\n",
      "          1       0.00      0.00      0.00       972\n",
      "\n",
      "avg / total       0.40      0.64      0.49      2665\n",
      "\n",
      "------------------------------------------------------------------------------------------\n",
      "[[7703    0]\n",
      " [2049    0]]\n",
      "             precision    recall  f1-score   support\n",
      "\n",
      "          0       0.79      1.00      0.88      7703\n",
      "          1       0.00      0.00      0.00      2049\n",
      "\n",
      "avg / total       0.62      0.79      0.70      9752\n",
      "\n"
     ]
    },
    {
     "name": "stderr",
     "output_type": "stream",
     "text": [
      "C:\\ProgramData\\Anaconda3\\lib\\site-packages\\sklearn\\metrics\\classification.py:1135: UndefinedMetricWarning: Precision and F-score are ill-defined and being set to 0.0 in labels with no predicted samples.\n",
      "  'precision', 'predicted', average, warn_for)\n",
      "C:\\ProgramData\\Anaconda3\\lib\\site-packages\\sklearn\\metrics\\classification.py:1135: UndefinedMetricWarning: Precision and F-score are ill-defined and being set to 0.0 in labels with no predicted samples.\n",
      "  'precision', 'predicted', average, warn_for)\n",
      "C:\\ProgramData\\Anaconda3\\lib\\site-packages\\sklearn\\utils\\validation.py:578: DataConversionWarning: A column-vector y was passed when a 1d array was expected. Please change the shape of y to (n_samples, ), for example using ravel().\n",
      "  y = column_or_1d(y, warn=True)\n",
      "C:\\ProgramData\\Anaconda3\\lib\\site-packages\\sklearn\\metrics\\classification.py:1135: UndefinedMetricWarning: Precision and F-score are ill-defined and being set to 0.0 in labels with no predicted samples.\n",
      "  'precision', 'predicted', average, warn_for)\n",
      "C:\\ProgramData\\Anaconda3\\lib\\site-packages\\sklearn\\metrics\\classification.py:1135: UndefinedMetricWarning: Precision and F-score are ill-defined and being set to 0.0 in labels with no predicted samples.\n",
      "  'precision', 'predicted', average, warn_for)\n"
     ]
    },
    {
     "data": {
      "image/png": "[encoded data removed]",
      "text/plain": [
       "<Figure size 432x288 with 2 Axes>"
      ]
     },
     "metadata": {},
     "output_type": "display_data"
    }
   ],
   "source": [
    "#LOGISTIC REGRESSION (YENİ FEATURE EKLENDİKTEN SONRA)\n",
    "\n",
    "logregression = LogisticRegression(random_state=0, solver='lbfgs',multi_class='multinomial',C=1)\n",
    "logregression .fit(x_train_new,y_train)\n",
    "print(\"YENİ FEATURE EKLENMİŞ TRAIN setimin accuary_score= \",logregression.score(x_train_new,y_train))\n",
    "y_pred =logregression .predict(x_test_new)\n",
    "print(\"YENİ FEATURE EKLENMİŞYENİ FEATURE EKLENMİŞ TEST_1 setimin accuary_score=\",accuracy_score(y_test, y_pred))\n",
    "y_pred2= logregression.predict(X_test2_new)\n",
    "print(\"YENİ FEATURE EKLENMİŞ TEST_2 setimin accuary_score=\",accuracy_score(y_test2,y_pred2),\"\\n\")\n",
    "print(\"------------------------------------------------------------------------------------------\")\n",
    "print(confusion_matrix(y_test, y_pred))  \n",
    "print(classification_report(y_test, y_pred))  \n",
    "\n",
    "print(\"------------------------------------------------------------------------------------------\")\n",
    "print(confusion_matrix(y_test2, y_pred2))  \n",
    "print(classification_report(y_test2, y_pred2))  \n",
    "print(\"########################################################################################################\")\n",
    "\n",
    "logregression = LogisticRegression(random_state=0, solver='lbfgs',multi_class='multinomial',C=3)\n",
    "logregression .fit(x_train_new,y_train)\n",
    "print(\"YENİ FEATURE EKLENMİŞ TRAIN setimin accuary_score= \",logregression.score(x_train_new,y_train))\n",
    "y_pred =logregression .predict(x_test_new)\n",
    "print(\"YENİ FEATURE EKLENMİŞYENİ FEATURE EKLENMİŞ TEST_1 setimin accuary_score=\",accuracy_score(y_test, y_pred))\n",
    "y_pred2= logregression.predict(X_test2_new)\n",
    "print(\"YENİ FEATURE EKLENMİŞ TEST_2 setimin accuary_score=\",accuracy_score(y_test2,y_pred2),\"\\n\")\n",
    "print(\"------------------------------------------------------------------------------------------\")\n",
    "print(confusion_matrix(y_test, y_pred))  \n",
    "print(classification_report(y_test, y_pred))  \n",
    "\n",
    "print(\"------------------------------------------------------------------------------------------\")\n",
    "print(confusion_matrix(y_test2, y_pred2))  \n",
    "print(classification_report(y_test2, y_pred2)) \n",
    "\n",
    "logrec=confusion_matrix(y_test2,y_pred2)\n",
    "confusionMatriss(logrec,['0.0','1.0'])"
   ]
  },
  {
   "cell_type": "code",
   "execution_count": 42,
   "metadata": {},
   "outputs": [
    {
     "name": "stderr",
     "output_type": "stream",
     "text": [
      "C:\\ProgramData\\Anaconda3\\lib\\site-packages\\sklearn\\utils\\validation.py:578: DataConversionWarning: A column-vector y was passed when a 1d array was expected. Please change the shape of y to (n_samples, ), for example using ravel().\n",
      "  y = column_or_1d(y, warn=True)\n"
     ]
    },
    {
     "name": "stdout",
     "output_type": "stream",
     "text": [
      "YENİ FEATURE EKLENMİŞ SCALE EDİLMİŞ TRAIN setimin accuary_score=  0.9860002456097261\n",
      "YENİ FEATURE EKLENMİŞYENİ FEATURE EKLENMİŞ TEST_1 setimin accuary_score= 0.8945590994371482\n",
      "YENİ FEATURE EKLENMİŞ TEST_2 setimin accuary_score= 0.9570344544708778 \n",
      "\n",
      "------------------------------------------------------------------------------------------\n",
      "[[1672   21]\n",
      " [ 260  712]]\n",
      "             precision    recall  f1-score   support\n",
      "\n",
      "          0       0.87      0.99      0.92      1693\n",
      "          1       0.97      0.73      0.84       972\n",
      "\n",
      "avg / total       0.90      0.89      0.89      2665\n",
      "\n",
      "------------------------------------------------------------------------------------------\n",
      "[[7654   49]\n",
      " [ 370 1679]]\n",
      "             precision    recall  f1-score   support\n",
      "\n",
      "          0       0.95      0.99      0.97      7703\n",
      "          1       0.97      0.82      0.89      2049\n",
      "\n",
      "avg / total       0.96      0.96      0.96      9752\n",
      "\n",
      "########################################################################################################\n",
      "YENİ FEATURE EKLENMİŞ SCALE EDİLMİŞ TRAIN setimin accuary_score=  0.9860002456097261\n",
      "YENİ FEATURE EKLENMİŞYENİ FEATURE EKLENMİŞ TEST_1 setimin accuary_score= 0.9046904315196999\n",
      "YENİ FEATURE EKLENMİŞ TEST_2 setimin accuary_score= 0.9527276456111566 \n",
      "\n",
      "------------------------------------------------------------------------------------------\n",
      "[[1672   21]\n",
      " [ 233  739]]\n",
      "             precision    recall  f1-score   support\n",
      "\n",
      "          0       0.88      0.99      0.93      1693\n",
      "          1       0.97      0.76      0.85       972\n",
      "\n",
      "avg / total       0.91      0.90      0.90      2665\n",
      "\n",
      "------------------------------------------------------------------------------------------\n",
      "[[7652   51]\n",
      " [ 410 1639]]"
     ]
    },
    {
     "name": "stderr",
     "output_type": "stream",
     "text": [
      "C:\\ProgramData\\Anaconda3\\lib\\site-packages\\sklearn\\utils\\validation.py:578: DataConversionWarning: A column-vector y was passed when a 1d array was expected. Please change the shape of y to (n_samples, ), for example using ravel().\n",
      "  y = column_or_1d(y, warn=True)\n"
     ]
    },
    {
     "name": "stdout",
     "output_type": "stream",
     "text": [
      "\n",
      "             precision    recall  f1-score   support\n",
      "\n",
      "          0       0.95      0.99      0.97      7703\n",
      "          1       0.97      0.80      0.88      2049\n",
      "\n",
      "avg / total       0.95      0.95      0.95      9752\n",
      "\n"
     ]
    },
    {
     "data": {
      "image/png": "[encoded data removed]",
      "text/plain": [
       "<Figure size 432x288 with 2 Axes>"
      ]
     },
     "metadata": {},
     "output_type": "display_data"
    }
   ],
   "source": [
    "#LOGISTIC REGRESSION (YENİ FEATURE EKLENDİKTEN VE SCALE EDİLDİKTEN SONRA)\n",
    "\n",
    "logregression = LogisticRegression(random_state=0, solver='lbfgs',multi_class='multinomial',C=1)\n",
    "logregression .fit(X_train_new,y_train)\n",
    "print(\"YENİ FEATURE EKLENMİŞ SCALE EDİLMİŞ TRAIN setimin accuary_score= \",logregression.score(X_train_new,y_train))\n",
    "y_pred =logregression .predict(X_test_new)\n",
    "print(\"YENİ FEATURE EKLENMİŞYENİ FEATURE EKLENMİŞ TEST_1 setimin accuary_score=\",accuracy_score(y_test, y_pred))\n",
    "y_pred2= logregression.predict(X_test2_new)\n",
    "print(\"YENİ FEATURE EKLENMİŞ TEST_2 setimin accuary_score=\",accuracy_score(y_test2,y_pred2),\"\\n\")\n",
    "print(\"------------------------------------------------------------------------------------------\")\n",
    "print(confusion_matrix(y_test, y_pred))  \n",
    "print(classification_report(y_test, y_pred))  \n",
    "print(\"------------------------------------------------------------------------------------------\")\n",
    "\n",
    "print(confusion_matrix(y_test2, y_pred2))  \n",
    "print(classification_report(y_test2, y_pred2)) \n",
    "\n",
    "print(\"########################################################################################################\")\n",
    "\n",
    "logregression = LogisticRegression(random_state=0, solver='lbfgs',multi_class='multinomial',C=3)\n",
    "logregression .fit(X_train_new,y_train)\n",
    "print(\"YENİ FEATURE EKLENMİŞ SCALE EDİLMİŞ TRAIN setimin accuary_score= \",logregression.score(X_train_new,y_train))\n",
    "y_pred =logregression .predict(X_test_new)\n",
    "print(\"YENİ FEATURE EKLENMİŞYENİ FEATURE EKLENMİŞ TEST_1 setimin accuary_score=\",accuracy_score(y_test, y_pred))\n",
    "y_pred2= logregression.predict(X_test2_new)\n",
    "print(\"YENİ FEATURE EKLENMİŞ TEST_2 setimin accuary_score=\",accuracy_score(y_test2,y_pred2),\"\\n\")\n",
    "print(\"------------------------------------------------------------------------------------------\")\n",
    "print(confusion_matrix(y_test, y_pred))  \n",
    "print(classification_report(y_test, y_pred))  \n",
    "print(\"------------------------------------------------------------------------------------------\")\n",
    "\n",
    "print(confusion_matrix(y_test2, y_pred2))  \n",
    "print(classification_report(y_test2, y_pred2)) \n",
    "logi=confusion_matrix(y_test2,y_pred2)\n",
    "confusionMatriss(logi,['0.0','1.0'])"
   ]
  },
  {
   "cell_type": "raw",
   "metadata": {},
   "source": [
    "Orjinal verinin test verisiyle arasında çok fark yok gibi ne overﬁt nede underﬁt denilebilir. Ama test2 verisi, traine göre daha yüksektir bu durumda test2 için underﬁt durumu vardır modelin öğrenmesi yetersiz gelmiştir. Aynı şekilde Ölçeklendirilmis verinin test verileri için normal gözüküyor, ne underﬁt ne overﬁt denilebilir. Ardından eklenen feature ile değerlendirildiğinde hiçbir etkisi bulunmamaktadır."
   ]
  },
  {
   "cell_type": "markdown",
   "metadata": {},
   "source": [
    "# 8.EK ALGORİTMA-QUADRATIC DISCRIMINANT ANALYSIS "
   ]
  },
  {
   "cell_type": "raw",
   "metadata": {},
   "source": [
    "Verilere koşullu yoğunlukların yerleştirilmesi ve Bayes kuralının kullanılmasıyla oluşturulan, ikinci dereceden bir karar sınırına sahip bir sınıflandırıcı. Model, her sınıfa bir Gauss yoğunluğU uyar."
   ]
  },
  {
   "cell_type": "code",
   "execution_count": 46,
   "metadata": {},
   "outputs": [
    {
     "name": "stderr",
     "output_type": "stream",
     "text": [
      "C:\\ProgramData\\Anaconda3\\lib\\site-packages\\sklearn\\utils\\validation.py:578: DataConversionWarning: A column-vector y was passed when a 1d array was expected. Please change the shape of y to (n_samples, ), for example using ravel().\n",
      "  y = column_or_1d(y, warn=True)\n"
     ]
    },
    {
     "name": "stdout",
     "output_type": "stream",
     "text": [
      "orjinal TRAIN setimin accuary_score=  0.9888247574603954\n",
      "orjinal TEST_1 setimin accuary_score= 0.9771106941838649\n",
      "orjinal TEST_2 setimin accuary_score= 0.7934782608695652 \n",
      "\n",
      "------------------------------------------------------------------------------------------\n",
      "[[1638   55]\n",
      " [   6  966]]\n",
      "             precision    recall  f1-score   support\n",
      "\n",
      "          0       1.00      0.97      0.98      1693\n",
      "          1       0.95      0.99      0.97       972\n",
      "\n",
      "avg / total       0.98      0.98      0.98      2665\n",
      "\n",
      "------------------------------------------------------------------------------------------\n",
      "[[7700    3]\n",
      " [2011   38]]\n",
      "             precision    recall  f1-score   support\n",
      "\n",
      "          0       0.79      1.00      0.88      7703\n",
      "          1       0.93      0.02      0.04      2049\n",
      "\n",
      "avg / total       0.82      0.79      0.71      9752\n",
      "\n"
     ]
    },
    {
     "data": {
      "image/png": "[encoded data removed]",
      "text/plain": [
       "<Figure size 432x288 with 2 Axes>"
      ]
     },
     "metadata": {},
     "output_type": "display_data"
    }
   ],
   "source": [
    "#NEW ALGORITHM---> QUADRATIC DISCRIMINANT ANALYSIS (ORJINAL VERİ ÜZERİNE ETKİSİ)\n",
    "\n",
    "QDA= QuadraticDiscriminantAnalysis(priors=None, reg_param=0.0,\n",
    "                              store_covariance=False,\n",
    "                              store_covariances=None, tol=0.0001)\n",
    "QDA.fit(x_train, y_train)\n",
    "\n",
    "print(\"orjinal TRAIN setimin accuary_score= \",QDA.score(x_train,y_train))\n",
    "y_pred =QDA.predict(x_test)\n",
    "print(\"orjinal TEST_1 setimin accuary_score=\",accuracy_score(y_test, y_pred))\n",
    "y_pred2= QDA.predict(x_test2)\n",
    "print(\"orjinal TEST_2 setimin accuary_score=\",accuracy_score(y_test2,y_pred2),\"\\n\")\n",
    "\n",
    "print(\"------------------------------------------------------------------------------------------\")\n",
    "print(confusion_matrix(y_test, y_pred))  \n",
    "print(classification_report(y_test, y_pred))  \n",
    "print(\"------------------------------------------------------------------------------------------\")\n",
    "print(confusion_matrix(y_test2, y_pred2))  \n",
    "print(classification_report(y_test2, y_pred2))  \n",
    "\n",
    "QD=confusion_matrix(y_test2,y_pred2)\n",
    "confusionMatriss(QD,['0.0','1.0'])\n"
   ]
  },
  {
   "cell_type": "code",
   "execution_count": 126,
   "metadata": {},
   "outputs": [
    {
     "name": "stderr",
     "output_type": "stream",
     "text": [
      "C:\\ProgramData\\Anaconda3\\lib\\site-packages\\sklearn\\utils\\validation.py:578: DataConversionWarning: A column-vector y was passed when a 1d array was expected. Please change the shape of y to (n_samples, ), for example using ravel().\n",
      "  y = column_or_1d(y, warn=True)\n"
     ]
    },
    {
     "name": "stdout",
     "output_type": "stream",
     "text": [
      "SCALE EDİLMİŞ TRAIN setimin accuary_score=  0.9888247574603954\n",
      "SCALE EDİLMİŞ TEST_1 setimin accuary_score= 0.7140712945590995\n",
      "SCALE EDİLMİŞ TEST_2 setimin accuary_score= 0.8891509433962265 \n",
      "\n",
      "------------------------------------------------------------------------------------------\n",
      "[[1678   15]\n",
      " [ 747  225]]\n",
      "             precision    recall  f1-score   support\n",
      "\n",
      "          0       0.69      0.99      0.81      1693\n",
      "          1       0.94      0.23      0.37       972\n",
      "\n",
      "avg / total       0.78      0.71      0.65      2665\n",
      "\n",
      "------------------------------------------------------------------------------------------\n",
      "[[7671   32]\n",
      " [1049 1000]]\n",
      "             precision    recall  f1-score   support\n",
      "\n",
      "          0       0.88      1.00      0.93      7703\n",
      "          1       0.97      0.49      0.65      2049\n",
      "\n",
      "avg / total       0.90      0.89      0.87      9752\n",
      "\n"
     ]
    },
    {
     "name": "stderr",
     "output_type": "stream",
     "text": [
      "C:\\ProgramData\\Anaconda3\\lib\\site-packages\\sklearn\\utils\\validation.py:578: DataConversionWarning: A column-vector y was passed when a 1d array was expected. Please change the shape of y to (n_samples, ), for example using ravel().\n",
      "  y = column_or_1d(y, warn=True)\n"
     ]
    },
    {
     "name": "stdout",
     "output_type": "stream",
     "text": [
      "SCALE EDİLMİŞ VE HYPER PARAMETRE DEĞİŞİMİ İLE TRAIN setimin accuary_score=  0.9783863440992263\n",
      "SCALE EDİLMİŞ VE HYPER PARAMETRE DEĞİŞİMİ İLE TEST_1 setimin accuary_score= 0.9181988742964353\n",
      "SCALE EDİLMİŞ VE HYPER PARAMETRE DEĞİŞİMİ İLE TEST_2 setimin accuary_score= 0.9884126333059885 \n",
      "\n",
      "------------------------------------------------------------------------------------------\n",
      "[[1658   35]\n",
      " [ 183  789]]\n",
      "             precision    recall  f1-score   support\n",
      "\n",
      "          0       0.90      0.98      0.94      1693\n",
      "          1       0.96      0.81      0.88       972\n",
      "\n",
      "avg / total       0.92      0.92      0.92      2665\n",
      "\n",
      "------------------------------------------------------------------------------------------\n",
      "[[7603  100]\n",
      " [  13 2036]]\n",
      "             precision    recall  f1-score   support\n",
      "\n",
      "          0       1.00      0.99      0.99      7703\n",
      "          1       0.95      0.99      0.97      2049\n",
      "\n",
      "avg / total       0.99      0.99      0.99      9752\n",
      "\n"
     ]
    },
    {
     "data": {
      "image/png": "[encoded data removed]",
      "text/plain": [
       "<Figure size 432x288 with 3 Axes>"
      ]
     },
     "metadata": {},
     "output_type": "display_data"
    }
   ],
   "source": [
    "#NEW ALGORITHM---> QUADRATIC DISCRIMINANT ANALYSIS (SCALE EDİLMİŞ VERİ ÜZERİNE ETKİSİ)\n",
    "\n",
    "QDA= QuadraticDiscriminantAnalysis(priors=None, reg_param=0.0,\n",
    "                              store_covariance=False,\n",
    "                              store_covariances=None, tol=0.0001)\n",
    "QDA.fit(X_train, y_train)\n",
    "\n",
    "print(\"SCALE EDİLMİŞ TRAIN setimin accuary_score= \",QDA.score(X_train,y_train))\n",
    "y_pred =QDA.predict(X_test)\n",
    "print(\"SCALE EDİLMİŞ TEST_1 setimin accuary_score=\",accuracy_score(y_test, y_pred))\n",
    "y_pred2= QDA.predict(X_test2)\n",
    "print(\"SCALE EDİLMİŞ TEST_2 setimin accuary_score=\",accuracy_score(y_test2,y_pred2),\"\\n\")\n",
    "\n",
    "print(\"------------------------------------------------------------------------------------------\")\n",
    "print(confusion_matrix(y_test, y_pred))  \n",
    "print(classification_report(y_test, y_pred))  \n",
    "print(\"------------------------------------------------------------------------------------------\")\n",
    "print(confusion_matrix(y_test2, y_pred2))  \n",
    "print(classification_report(y_test2, y_pred2))  \n",
    "\n",
    "QDAR=confusion_matrix(y_test2,y_pred2)\n",
    "confusionMatriss(QDAR,['0.0','1.0'])\n",
    "\n",
    "#NEW ALGORITHM---> QUADRATIC DISCRIMINANT ANALYSIS HYPER PARAMETRE DEĞİŞİMİ İLE (SCALE EDİLMİŞ VERİ ÜZERİNE ETKİSİ)\n",
    "\n",
    "\n",
    "QDA= QuadraticDiscriminantAnalysis(priors=None, reg_param=0.3,\n",
    "                              store_covariance=False,\n",
    "                              store_covariances=None, tol=0.0001)\n",
    "QDA.fit(X_train, y_train)\n",
    "\n",
    "print(\"SCALE EDİLMİŞ VE HYPER PARAMETRE DEĞİŞİMİ İLE TRAIN setimin accuary_score= \",QDA.score(X_train,y_train))\n",
    "y_pred =QDA.predict(X_test)\n",
    "print(\"SCALE EDİLMİŞ VE HYPER PARAMETRE DEĞİŞİMİ İLE TEST_1 setimin accuary_score=\",accuracy_score(y_test, y_pred))\n",
    "y_pred2= QDA.predict(X_test2)\n",
    "print(\"SCALE EDİLMİŞ VE HYPER PARAMETRE DEĞİŞİMİ İLE TEST_2 setimin accuary_score=\",accuracy_score(y_test2,y_pred2),\"\\n\")\n",
    "print(\"------------------------------------------------------------------------------------------\")\n",
    "print(confusion_matrix(y_test, y_pred))  \n",
    "print(classification_report(y_test, y_pred))  \n",
    "print(\"------------------------------------------------------------------------------------------\")\n",
    "print(confusion_matrix(y_test2, y_pred2))  \n",
    "print(classification_report(y_test2, y_pred2))  \n",
    "QDART=confusion_matrix(y_test2,y_pred2)\n",
    "confusionMatriss(QDART,['0.0','1.0'])\n"
   ]
  },
  {
   "cell_type": "raw",
   "metadata": {},
   "source": [
    "Bu agoritma orjinal veri setimde train setim için güzel bir eğitilme görmesine rağmen test2 için overfitf durumu göstermiştir. Bu durumu gidermek için ölçeklenme uygulandığında ise test2 setim için iyileşme gözlenirken test1 için de overfit durumu gözlenmiştir. Bu overfitliği gidermek için hyper parametre değişimi yaparak reg_param(kovaryans tahmin parametrem) değerini 0dan 0.3 değerine çıkardığımızda daha da iyileşmiş daha optime sonuçlar elde ettik."
   ]
  }
 ],
 "metadata": {
  "kernelspec": {
   "display_name": "Python 3",
   "language": "python",
   "name": "python3"
  },
  "language_info": {
   "codemirror_mode": {
    "name": "ipython",
    "version": 3
   },
   "file_extension": ".py",
   "mimetype": "text/x-python",
   "name": "python",
   "nbconvert_exporter": "python",
   "pygments_lexer": "ipython3",
   "version": "3.6.5"
  }
 },
 "nbformat": 4,
 "nbformat_minor": 2
}
